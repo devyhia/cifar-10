{
 "cells": [
  {
   "cell_type": "markdown",
   "metadata": {},
   "source": [
    "# Decision Tree Classifier"
   ]
  },
  {
   "cell_type": "code",
   "execution_count": 1,
   "metadata": {
    "collapsed": true
   },
   "outputs": [],
   "source": [
    "from init import *"
   ]
  },
  {
   "cell_type": "code",
   "execution_count": 2,
   "metadata": {
    "collapsed": true
   },
   "outputs": [],
   "source": [
    "from sklearn.linear_model import LinearRegression\n",
    "from sklearn.linear_model import LogisticRegression\n",
    "from sklearn.tree import DecisionTreeClassifier\n",
    "from sklearn import metrics\n",
    "from sklearn import datasets\n",
    "from sklearn.decomposition import PCA\n",
    "import pandas as pd"
   ]
  },
  {
   "cell_type": "code",
   "execution_count": 3,
   "metadata": {
    "collapsed": true
   },
   "outputs": [],
   "source": [
    "%matplotlib inline"
   ]
  },
  {
   "cell_type": "code",
   "execution_count": 4,
   "metadata": {
    "collapsed": true
   },
   "outputs": [],
   "source": [
    "def DTC(_X=None, _Xt=None):\n",
    "    if _X is None:\n",
    "        _X = X\n",
    "    \n",
    "    if _Xt is None:\n",
    "        _Xt = Xt\n",
    "    \n",
    "    msg(\"[DTC] Training\")\n",
    "    dtc = DecisionTreeClassifier()\n",
    "    dtc.fit(X, y)\n",
    "    done()\n",
    "    \n",
    "    msg(\"[DTC] Training Accuracy\")\n",
    "    X_pred = dtc.predict(X)\n",
    "    msg(metrics.accuracy_score(y, X_pred))\n",
    "    done()\n",
    "    \n",
    "    msg(\"[DTC] Testing Accuracy\")\n",
    "    Xt_pred = dtc.predict(Xt)\n",
    "    msg(metrics.accuracy_score(yt, Xt_pred))\n",
    "    done()"
   ]
  },
  {
   "cell_type": "code",
   "execution_count": 5,
   "metadata": {
    "collapsed": false
   },
   "outputs": [
    {
     "name": "stdout",
     "output_type": "stream",
     "text": [
      "[DTC] Training ... done.\n",
      "[DTC] Training Accuracy ... 0.85636 ... done.\n",
      "[DTC] Testing Accuracy ... 0.2679 ... done.\n"
     ]
    }
   ],
   "source": [
    "DTC()"
   ]
  },
  {
   "cell_type": "markdown",
   "metadata": {},
   "source": [
    "#### Results\n",
    "The model is over-fitting. Why?"
   ]
  },
  {
   "cell_type": "markdown",
   "metadata": {},
   "source": [
    "### PCA/200"
   ]
  },
  {
   "cell_type": "code",
   "execution_count": 21,
   "metadata": {
    "collapsed": false
   },
   "outputs": [
    {
     "data": {
      "text/plain": [
       "PCA(copy=True, n_components=200, whiten=False)"
      ]
     },
     "execution_count": 21,
     "metadata": {},
     "output_type": "execute_result"
    }
   ],
   "source": [
    "# pca = PCA(n_components=200)\n",
    "# pca.fit(X, y)"
   ]
  },
  {
   "cell_type": "code",
   "execution_count": 9,
   "metadata": {
    "collapsed": true
   },
   "outputs": [],
   "source": [
    "# X_pca = pca.transform(X)\n",
    "# Xt_pca = pca.transform(Xt)\n",
    "\n",
    "X_pca = pyload(\"pickles/X_pca_200.pickle\")\n",
    "Xt_pca = pyload(\"pickles/Xt_pca_200.pickle\")"
   ]
  },
  {
   "cell_type": "code",
   "execution_count": 26,
   "metadata": {
    "collapsed": false
   },
   "outputs": [
    {
     "name": "stdout",
     "output_type": "stream",
     "text": [
      "[DTC] Training ... done.\n",
      "[DTC] Training Accuracy ... 1.0 ... done.\n",
      "[DTC] Testing Accuracy ... 0.2724 ... done.\n"
     ]
    }
   ],
   "source": [
    "DTC(_X=X_pca, _Xt=Xt_pca)"
   ]
  },
  {
   "cell_type": "markdown",
   "metadata": {},
   "source": [
    "#### Results\n",
    "Decision Trees overfit the multi-class classification problem. I'm not sure if we can generalize this observation."
   ]
  },
  {
   "cell_type": "code",
   "execution_count": 36,
   "metadata": {
    "collapsed": false
   },
   "outputs": [
    {
     "data": {
      "text/plain": [
       "<matplotlib.axes._subplots.AxesSubplot at 0x7f4553558c88>"
      ]
     },
     "execution_count": 36,
     "metadata": {},
     "output_type": "execute_result"
    },
    {
     "data": {
      "image/png": "[encoded data removed]",
      "text/plain": [
       "<matplotlib.figure.Figure at 0x7f45535645c0>"
      ]
     },
     "metadata": {},
     "output_type": "display_data"
    }
   ],
   "source": [
    "res = pd.DataFrame([\n",
    "        ['DTC', 26.65],\n",
    "        ['DTC + PCA', 27.24]\n",
    "    ], columns=['Classifier', 'Accuracy'])\n",
    "res.plot(x='Classifier', y='Accuracy', rot=45)"
   ]
  },
  {
   "cell_type": "code",
   "execution_count": 37,
   "metadata": {
    "collapsed": false
   },
   "outputs": [
    {
     "data": {
      "text/html": [
       "<div>\n",
       "<table border=\"1\" class=\"dataframe\">\n",
       "  <thead>\n",
       "    <tr style=\"text-align: right;\">\n",
       "      <th></th>\n",
       "      <th>Classifier</th>\n",
       "      <th>Accuracy</th>\n",
       "    </tr>\n",
       "  </thead>\n",
       "  <tbody>\n",
       "    <tr>\n",
       "      <th>0</th>\n",
       "      <td>DTC</td>\n",
       "      <td>26.65</td>\n",
       "    </tr>\n",
       "    <tr>\n",
       "      <th>1</th>\n",
       "      <td>DTC + PCA</td>\n",
       "      <td>27.24</td>\n",
       "    </tr>\n",
       "  </tbody>\n",
       "</table>\n",
       "</div>"
      ],
      "text/plain": [
       "  Classifier  Accuracy\n",
       "0        DTC     26.65\n",
       "1  DTC + PCA     27.24"
      ]
     },
     "execution_count": 37,
     "metadata": {},
     "output_type": "execute_result"
    }
   ],
   "source": [
    "res"
   ]
  },
  {
   "cell_type": "markdown",
   "metadata": {
    "collapsed": true
   },
   "source": [
    "## Voting Classifiers"
   ]
  },
  {
   "cell_type": "code",
   "execution_count": 10,
   "metadata": {
    "collapsed": false
   },
   "outputs": [
    {
     "name": "stdout",
     "output_type": "stream",
     "text": [
      "[DTC] Training ... done.\n",
      "[DTC] Testing Accuracy ... 0.26 ... done.\n",
      "[DTC] Training ... done.\n",
      "[DTC] Testing Accuracy ... 0.2556 ... done.\n",
      "[DTC] Training ... done.\n",
      "[DTC] Testing Accuracy ... 0.259 ... done.\n",
      "[DTC] Training ... done.\n",
      "[DTC] Testing Accuracy ... 0.2694 ... done.\n",
      "[DTC] Training ... done.\n",
      "[DTC] Testing Accuracy ... 0.259 ... done.\n",
      "[DTC] Training ... done.\n",
      "[DTC] Testing Accuracy ... 0.2564 ... done.\n",
      "[DTC] Training ... done.\n",
      "[DTC] Testing Accuracy ... 0.2708 ... done.\n",
      "[DTC] Training ... done.\n",
      "[DTC] Testing Accuracy ... 0.2594 ... done.\n",
      "[DTC] Training ... done.\n",
      "[DTC] Testing Accuracy ... 0.2532 ... done.\n",
      "[DTC] Training ... done.\n",
      "[DTC] Testing Accuracy ... 0.2566 ... done.\n"
     ]
    }
   ],
   "source": [
    "from sklearn.cross_validation import StratifiedKFold\n",
    "\n",
    "clfs = []\n",
    "for train_index, test_index in StratifiedKFold(y, n_folds=10):    \n",
    "    msg(\"[DTC] Training\")\n",
    "    dtc = DecisionTreeClassifier()\n",
    "    dtc.fit(X_pca[train_index], y[train_index])\n",
    "    done()\n",
    "\n",
    "    msg(\"[DTC] Testing Accuracy\")\n",
    "    Xt_pred = dtc.predict(X_pca[test_index])\n",
    "    msg(metrics.accuracy_score(y[test_index], Xt_pred))\n",
    "    done()\n",
    "    \n",
    "    clfs += [dtc]"
   ]
  },
  {
   "cell_type": "code",
   "execution_count": 17,
   "metadata": {
    "collapsed": false
   },
   "outputs": [
    {
     "data": {
      "text/plain": [
       "0.36209999999999998"
      ]
     },
     "execution_count": 17,
     "metadata": {},
     "output_type": "execute_result"
    }
   ],
   "source": [
    "Xt_preds = np.zeros((Xt.shape[0], 10))\n",
    "for clf in clfs:\n",
    "    Xt_preds += clf.predict_proba(Xt_pca)\n",
    "Xt_Preds = Xt_preds / 10\n",
    "metrics.accuracy_score(yt, Xt_preds.argmax(axis=1))"
   ]
  },
  {
   "cell_type": "code",
   "execution_count": null,
   "metadata": {
    "collapsed": true
   },
   "outputs": [],
   "source": []
  }
 ],
 "metadata": {
  "kernelspec": {
   "display_name": "Python 3",
   "language": "python",
   "name": "python3"
  },
  "language_info": {
   "codemirror_mode": {
    "name": "ipython",
    "version": 3
   },
   "file_extension": ".py",
   "mimetype": "text/x-python",
   "name": "python",
   "nbconvert_exporter": "python",
   "pygments_lexer": "ipython3",
   "version": "3.4.3"
  }
 },
 "nbformat": 4,
 "nbformat_minor": 1
}
