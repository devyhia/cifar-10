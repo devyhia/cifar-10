{
 "cells": [
  {
   "cell_type": "markdown",
   "metadata": {},
   "source": [
    "## Classifier Fusion"
   ]
  },
  {
   "cell_type": "code",
   "execution_count": 23,
   "metadata": {
    "collapsed": true
   },
   "outputs": [],
   "source": [
    "from init import *"
   ]
  },
  {
   "cell_type": "code",
   "execution_count": 2,
   "metadata": {
    "collapsed": true
   },
   "outputs": [],
   "source": [
    "from sklearn.metrics import accuracy_score"
   ]
  },
  {
   "cell_type": "code",
   "execution_count": 3,
   "metadata": {
    "collapsed": false
   },
   "outputs": [],
   "source": [
    "# FUS_Xt = np.hstack([CNN_Xt_pred_proba, GRB_Xt_pred_proba, SVC_Xt_pred, RFC_Xt_pred_proba, KNN_Xt_pred_proba]).astype(np.float32)\n",
    "X = train_features.reshape(50000, 3*32*32)\n",
    "Xt = test_features.reshape(10000, 3*32*32)\n",
    "y = train_labels.flatten()\n",
    "yt = test_labels.flatten()"
   ]
  },
  {
   "cell_type": "code",
   "execution_count": 24,
   "metadata": {
    "collapsed": true
   },
   "outputs": [],
   "source": [
    "from sklearn.naive_bayes import GaussianNB\n",
    "from sklearn.metrics import accuracy_score\n",
    "from sklearn.ensemble import RandomForestClassifier\n",
    "from sklearn.ensemble import GradientBoostingClassifier\n",
    "from sklearn import svm"
   ]
  },
  {
   "cell_type": "code",
   "execution_count": 5,
   "metadata": {
    "collapsed": false
   },
   "outputs": [],
   "source": [
    "CNN_Xt_pred_proba = pyload(\"pickles/cnn_test_predict_proba.pickle\")\n",
    "CNN_X_pred_proba = pyload(\"pickles/cnn_train_predict_proba.pickle\")\n",
    "\n",
    "GRB_Xt_pred_proba = pyload(\"pickles/grb_predict_proba.pickle\")\n",
    "GRB_X_pred_proba = pyload(\"pickles/grb_x_predict_proba.pickle\")\n",
    "\n",
    "SVC_Xt_pred = pyload(\"pickles/svc_poly_-1_predict.pickle\")\n",
    "SVC_X_pred = pyload(\"pickles/svc_poly_-1_x_predict_proba.pickle\")\n",
    "\n",
    "RFC_Xt_pred_proba = pyload(\"pickles/rfc_pca_200_512_predict_proba.pickle\")\n",
    "RFC_X_pred_proba = pyload(\"pickles/rfc_pca_200_512_x_predict_proba.pickle\")\n",
    "\n",
    "KNN_Xt_pred_proba = pyload(\"pickles/knn_pca_30_predict_proba.pickle\")\n",
    "KNN_X_pred_proba = pyload(\"pickles/knn_pca_30_x_predict_proba.pickle\")"
   ]
  },
  {
   "cell_type": "code",
   "execution_count": 6,
   "metadata": {
    "collapsed": false
   },
   "outputs": [],
   "source": [
    "FUS_X = np.hstack([CNN_X_pred_proba, GRB_X_pred_proba, SVC_X_pred, RFC_X_pred_proba, KNN_X_pred_proba]).astype(np.float32)\n",
    "FUS_Xt = np.hstack([CNN_Xt_pred_proba, GRB_Xt_pred_proba, SVC_Xt_pred, RFC_Xt_pred_proba, KNN_Xt_pred_proba]).astype(np.float32)\n",
    "\n",
    "FUS = lambda a: np.hstack(a).astype(np.float32)"
   ]
  },
  {
   "cell_type": "code",
   "execution_count": 7,
   "metadata": {
    "collapsed": true
   },
   "outputs": [],
   "source": [
    "X_pca_30 = pyload(\"pickles/X_pca_30.pickle\")\n",
    "X_pca_40 = pyload(\"pickles/X_pca_40.pickle\")\n",
    "Xt_pca_30 = pyload(\"pickles/Xt_pca_30.pickle\")\n",
    "Xt_pca_40 = pyload(\"pickles/Xt_pca_40.pickle\")\n",
    "\n",
    "X_pca_200 = pyload(\"pickles/X_pca_200.pickle\")\n",
    "Xt_pca_200 = pyload(\"pickles/Xt_pca_200.pickle\")"
   ]
  },
  {
   "cell_type": "code",
   "execution_count": 51,
   "metadata": {
    "collapsed": false
   },
   "outputs": [
    {
     "data": {
      "text/plain": [
       "GaussianNB()"
      ]
     },
     "execution_count": 51,
     "metadata": {},
     "output_type": "execute_result"
    }
   ],
   "source": [
    "clf = GaussianNB()\n",
    "clf.fit(FUS_X, y)"
   ]
  },
  {
   "cell_type": "code",
   "execution_count": 52,
   "metadata": {
    "collapsed": false
   },
   "outputs": [
    {
     "data": {
      "text/plain": [
       "0.49880000000000002"
      ]
     },
     "execution_count": 52,
     "metadata": {},
     "output_type": "execute_result"
    }
   ],
   "source": [
    "accuracy_score(yt, clf.predict(FUS_Xt))"
   ]
  },
  {
   "cell_type": "code",
   "execution_count": 11,
   "metadata": {
    "collapsed": false
   },
   "outputs": [
    {
     "data": {
      "text/plain": [
       "0.92630000000000001"
      ]
     },
     "execution_count": 11,
     "metadata": {},
     "output_type": "execute_result"
    }
   ],
   "source": [
    "FUS_X_CNN_KNN = FUS([CNN_X_pred_proba, KNN_X_pred_proba])\n",
    "FUS_Xt_CNN_KNN = FUS([CNN_Xt_pred_proba, KNN_Xt_pred_proba])\n",
    "\n",
    "rfc = RandomForestClassifier(n_estimators=128)\n",
    "rfc.fit(FUS_X_CNN_KNN, y)\n",
    "accuracy_score(yt, rfc.predict(FUS_Xt_CNN_KNN))"
   ]
  },
  {
   "cell_type": "code",
   "execution_count": 55,
   "metadata": {
    "collapsed": false
   },
   "outputs": [
    {
     "data": {
      "text/plain": [
       "0.88929999999999998"
      ]
     },
     "execution_count": 55,
     "metadata": {},
     "output_type": "execute_result"
    }
   ],
   "source": [
    "rfc = RandomForestClassifier(n_estimators=128)\n",
    "rfc.fit(FUS_X, y)\n",
    "accuracy_score(yt, rfc.predict(FUS_Xt))"
   ]
  },
  {
   "cell_type": "code",
   "execution_count": 57,
   "metadata": {
    "collapsed": false
   },
   "outputs": [
    {
     "data": {
      "text/plain": [
       "0.90059999999999996"
      ]
     },
     "execution_count": 57,
     "metadata": {},
     "output_type": "execute_result"
    }
   ],
   "source": [
    "rfc = RandomForestClassifier(n_estimators=512)\n",
    "rfc.fit(FUS_X, y)\n",
    "accuracy_score(yt, rfc.predict(FUS_Xt))"
   ]
  },
  {
   "cell_type": "code",
   "execution_count": 7,
   "metadata": {
    "collapsed": false
   },
   "outputs": [
    {
     "data": {
      "text/plain": [
       "0.90839999999999999"
      ]
     },
     "execution_count": 7,
     "metadata": {},
     "output_type": "execute_result"
    }
   ],
   "source": [
    "rfc = RandomForestClassifier(n_estimators=1024)\n",
    "rfc.fit(FUS_X, y)\n",
    "accuracy_score(yt, rfc.predict(FUS_Xt))"
   ]
  },
  {
   "cell_type": "code",
   "execution_count": 8,
   "metadata": {
    "collapsed": false
   },
   "outputs": [
    {
     "data": {
      "text/plain": [
       "0.90529999999999999"
      ]
     },
     "execution_count": 8,
     "metadata": {},
     "output_type": "execute_result"
    }
   ],
   "source": [
    "rfc = RandomForestClassifier(n_estimators=2048)\n",
    "rfc.fit(FUS_X, y)\n",
    "accuracy_score(yt, rfc.predict(FUS_Xt))"
   ]
  },
  {
   "cell_type": "code",
   "execution_count": null,
   "metadata": {
    "collapsed": false
   },
   "outputs": [],
   "source": [
    "grb = GradientBoostingClassifier()\n",
    "grb.fit(X, y)\n",
    "accuracy_score(yt, grb.predict(FUS_Xt))"
   ]
  },
  {
   "cell_type": "code",
   "execution_count": 31,
   "metadata": {
    "collapsed": true
   },
   "outputs": [],
   "source": [
    "FUS_X_CNN_KNN = FUS([CNN_X_pred_proba]) # , KNN_X_pred_proba\n",
    "FUS_Xt_CNN_KNN = FUS([CNN_Xt_pred_proba]) #, KNN_Xt_pred_proba"
   ]
  },
  {
   "cell_type": "code",
   "execution_count": 12,
   "metadata": {
    "collapsed": false
   },
   "outputs": [
    {
     "data": {
      "text/plain": [
       "0.92710000000000004"
      ]
     },
     "execution_count": 12,
     "metadata": {},
     "output_type": "execute_result"
    }
   ],
   "source": [
    "rfc = RandomForestClassifier(n_estimators=128)\n",
    "rfc.fit(FUS_X_CNN_KNN, y)\n",
    "accuracy_score(yt, rfc.predict(FUS_Xt_CNN_KNN))"
   ]
  },
  {
   "cell_type": "code",
   "execution_count": 32,
   "metadata": {
    "collapsed": false
   },
   "outputs": [
    {
     "data": {
      "text/plain": [
       "0.92120000000000002"
      ]
     },
     "execution_count": 32,
     "metadata": {},
     "output_type": "execute_result"
    }
   ],
   "source": [
    "rfc = RandomForestClassifier(n_estimators=256)\n",
    "rfc.fit(FUS_X_CNN_KNN, y)\n",
    "accuracy_score(yt, rfc.predict(FUS_Xt_CNN_KNN))"
   ]
  },
  {
   "cell_type": "code",
   "execution_count": 14,
   "metadata": {
    "collapsed": false
   },
   "outputs": [
    {
     "data": {
      "text/plain": [
       "0.92669999999999997"
      ]
     },
     "execution_count": 14,
     "metadata": {},
     "output_type": "execute_result"
    }
   ],
   "source": [
    "rfc = RandomForestClassifier(n_estimators=512)\n",
    "rfc.fit(FUS_X_CNN_KNN, y)\n",
    "accuracy_score(yt, rfc.predict(FUS_Xt_CNN_KNN))"
   ]
  },
  {
   "cell_type": "code",
   "execution_count": 15,
   "metadata": {
    "collapsed": false
   },
   "outputs": [
    {
     "data": {
      "text/plain": [
       "0.92759999999999998"
      ]
     },
     "execution_count": 15,
     "metadata": {},
     "output_type": "execute_result"
    }
   ],
   "source": [
    "rfc = RandomForestClassifier(n_estimators=1024)\n",
    "rfc.fit(FUS_X_CNN_KNN, y)\n",
    "accuracy_score(yt, rfc.predict(FUS_Xt_CNN_KNN))"
   ]
  },
  {
   "cell_type": "code",
   "execution_count": 27,
   "metadata": {
    "collapsed": false
   },
   "outputs": [
    {
     "data": {
      "text/plain": [
       "0.9274"
      ]
     },
     "execution_count": 27,
     "metadata": {},
     "output_type": "execute_result"
    }
   ],
   "source": [
    "rfc = RandomForestClassifier(n_estimators=2048)\n",
    "rfc.fit(FUS_X_CNN_KNN, y)\n",
    "accuracy_score(yt, rfc.predict(FUS_Xt_CNN_KNN))"
   ]
  },
  {
   "cell_type": "code",
   "execution_count": 28,
   "metadata": {
    "collapsed": false
   },
   "outputs": [
    {
     "data": {
      "text/plain": [
       "0.90759999999999996"
      ]
     },
     "execution_count": 28,
     "metadata": {},
     "output_type": "execute_result"
    }
   ],
   "source": [
    "grb = GradientBoostingClassifier()\n",
    "grb.fit(FUS_X_CNN_KNN, y)\n",
    "accuracy_score(yt, grb.predict(FUS_Xt_CNN_KNN))"
   ]
  },
  {
   "cell_type": "code",
   "execution_count": 9,
   "metadata": {
    "collapsed": false
   },
   "outputs": [],
   "source": [
    "X_CNN_PCA200 = FUS([CNN_X_pred_proba, X_pca_200])\n",
    "Xt_CNN_PCA200 = FUS([CNN_Xt_pred_proba, Xt_pca_200])"
   ]
  },
  {
   "cell_type": "code",
   "execution_count": 10,
   "metadata": {
    "collapsed": false
   },
   "outputs": [
    {
     "data": {
      "text/plain": [
       "0.9304"
      ]
     },
     "execution_count": 10,
     "metadata": {},
     "output_type": "execute_result"
    }
   ],
   "source": [
    "rfc = RandomForestClassifier(n_estimators=512)\n",
    "rfc.fit(X_CNN_PCA200, y)\n",
    "accuracy_score(yt, rfc.predict(Xt_CNN_PCA200))"
   ]
  },
  {
   "cell_type": "code",
   "execution_count": null,
   "metadata": {
    "collapsed": false
   },
   "outputs": [],
   "source": [
    "svc = svm.SVC(kernel='poly')\n",
    "svc.fit(X_CNN_PCA200, y)\n",
    "accuracy_score(yt, svc.predict(Xt_CNN_PCA200))"
   ]
  },
  {
   "cell_type": "code",
   "execution_count": 44,
   "metadata": {
    "collapsed": false
   },
   "outputs": [
    {
     "data": {
      "text/plain": [
       "0.93189999999999995"
      ]
     },
     "execution_count": 44,
     "metadata": {},
     "output_type": "execute_result"
    }
   ],
   "source": [
    "accuracy_score(yt, CNN_Xt_pred_proba.argmax(axis=1).flatten())"
   ]
  }
 ],
 "metadata": {
  "kernelspec": {
   "display_name": "Python 3",
   "language": "python",
   "name": "python3"
  },
  "language_info": {
   "codemirror_mode": {
    "name": "ipython",
    "version": 3
   },
   "file_extension": ".py",
   "mimetype": "text/x-python",
   "name": "python",
   "nbconvert_exporter": "python",
   "pygments_lexer": "ipython3",
   "version": "3.4.3"
  }
 },
 "nbformat": 4,
 "nbformat_minor": 0
}
