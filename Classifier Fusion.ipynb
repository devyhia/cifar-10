{
 "cells": [
  {
   "cell_type": "markdown",
   "metadata": {},
   "source": [
    "## Classifier Fusion"
   ]
  },
  {
   "cell_type": "code",
   "execution_count": 14,
   "metadata": {
    "collapsed": false
   },
   "outputs": [],
   "source": [
    "import sknn.mlp"
   ]
  },
  {
   "cell_type": "code",
   "execution_count": 15,
   "metadata": {
    "collapsed": true
   },
   "outputs": [],
   "source": [
    "from init import *"
   ]
  },
  {
   "cell_type": "code",
   "execution_count": 16,
   "metadata": {
    "collapsed": true
   },
   "outputs": [],
   "source": [
    "%matplotlib inline"
   ]
  },
  {
   "cell_type": "code",
   "execution_count": 17,
   "metadata": {
    "collapsed": true
   },
   "outputs": [],
   "source": [
    "from sklearn.metrics import accuracy_score\n",
    "from sklearn.metrics import confusion_matrix"
   ]
  },
  {
   "cell_type": "code",
   "execution_count": 5,
   "metadata": {
    "collapsed": false
   },
   "outputs": [],
   "source": [
    "# FUS_Xt = np.hstack([CNN_Xt_pred_proba, GRB_Xt_pred_proba, SVC_Xt_pred, RFC_Xt_pred_proba, KNN_Xt_pred_proba]).astype(np.float32)\n",
    "X = train_features.reshape(50000, 3*32*32)\n",
    "Xt = test_features.reshape(10000, 3*32*32)\n",
    "y = train_labels.flatten()\n",
    "yt = test_labels.flatten()"
   ]
  },
  {
   "cell_type": "code",
   "execution_count": 6,
   "metadata": {
    "collapsed": true
   },
   "outputs": [],
   "source": [
    "from sklearn.naive_bayes import GaussianNB\n",
    "from sklearn.metrics import accuracy_score\n",
    "from sklearn.ensemble import RandomForestClassifier\n",
    "from sklearn.ensemble import GradientBoostingClassifier\n",
    "from sklearn import svm\n",
    "from sklearn.linear_model import LogisticRegression"
   ]
  },
  {
   "cell_type": "code",
   "execution_count": 73,
   "metadata": {
    "collapsed": false
   },
   "outputs": [],
   "source": [
    "CNN_Xt_pred_proba = pyload(\"pickles/cnn_test_predict_proba.pickle\")\n",
    "CNN_X_pred_proba = pyload(\"pickles/cnn_train_predict_proba.pickle\")\n",
    "\n",
    "GRB_Xt_pred_proba = pyload(\"pickles/grb_predict_proba.pickle\")\n",
    "GRB_X_pred_proba = pyload(\"pickles/grb_x_predict_proba.pickle\")\n",
    "\n",
    "SVC_Xt_pred = pyload(\"pickles/svc_poly_-1_predict.pickle\")\n",
    "SVC_X_pred = pyload(\"pickles/svc_poly_-1_x_predict_proba.pickle\")\n",
    "\n",
    "RFC_Xt_pred_proba = pyload(\"pickles/rfc_pca_200_512_predict_proba.pickle\")\n",
    "RFC_X_pred_proba = pyload(\"pickles/rfc_pca_200_512_x_predict_proba.pickle\")\n",
    "\n",
    "KNN_Xt_pred_proba = pyload(\"pickles/knn_pca_30_predict_proba.pickle\")\n",
    "KNN_X_pred_proba = pyload(\"pickles/knn_pca_30_x_predict_proba.pickle\")\n",
    "\n",
    "CAT_DOG_pred_proba = pyload(\"pickles/cat_dog_pred_proba.pickle\")\n",
    "\n",
    "CNN1_pred_proba = pyload(\"pickles/cnn1_test_predict_proba.pickle\")\n",
    "CNN2_pred_proba = pyload(\"pickles/cnn2_test_predict_proba.pickle\")\n",
    "CNN3_pred_proba = pyload(\"pickles/cnn3_test_predict_proba.pickle\")\n",
    "CNN4_pred_proba = pyload(\"pickles/cnn4_test_predict_proba.pickle\")\n",
    "\n",
    "CAT_Expert_pred_proba = pyload(\"pickles/cat_expert_pred_proba.pickle\")\n",
    "DOG_Expert_pred_proba = pyload(\"pickles/dog_expert_pred_proba.pickle\")\n",
    "\n",
    "HOG_pred_proba = np.loadtxt(\"pickles/Predictions_HOG.txt\")"
   ]
  },
  {
   "cell_type": "code",
   "execution_count": 42,
   "metadata": {
    "collapsed": false
   },
   "outputs": [],
   "source": [
    "CNN_FUS = \\\n",
    "        CNN1_pred_proba.astype(np.float32)+ \\\n",
    "        CNN2_pred_proba.astype(np.float32)+ \\\n",
    "        CNN3_pred_proba.astype(np.float32)+ \\\n",
    "        CNN4_pred_proba.astype(np.float32)\n",
    "#         + \\\n",
    "#         CNN_Xt_pred_proba.astype(np.float32)\n",
    "CNN_FUS = CNN_FUS / 5"
   ]
  },
  {
   "cell_type": "code",
   "execution_count": 9,
   "metadata": {
    "collapsed": false,
    "scrolled": true
   },
   "outputs": [
    {
     "name": "stdout",
     "output_type": "stream",
     "text": [
      "0.9333\n",
      "0.9311\n",
      "0.9294\n",
      "0.9319\n",
      "0.9319\n"
     ]
    }
   ],
   "source": [
    "for clf in [CNN1_pred_proba, CNN2_pred_proba, CNN3_pred_proba, CNN4_pred_proba, CNN_Xt_pred_proba]:\n",
    "    print(accuracy_score(yt, clf.argmax(axis=1)))"
   ]
  },
  {
   "cell_type": "code",
   "execution_count": 53,
   "metadata": {
    "collapsed": false
   },
   "outputs": [
    {
     "name": "stdout",
     "output_type": "stream",
     "text": [
      "0.9399\n"
     ]
    },
    {
     "data": {
      "text/plain": [
       "array([[954,   4,   6,   5,   0,   1,   2,   1,  19,   8],\n",
       "       [  4, 967,   1,   1,   0,   0,   0,   0,   3,  24],\n",
       "       [ 12,   1, 906,  13,  22,  16,  18,   9,   2,   1],\n",
       "       [  6,   2,  17, 855,  16,  74,  17,   7,   2,   4],\n",
       "       [  2,   0,   8,  10, 957,   4,   8,  11,   0,   0],\n",
       "       [  3,   0,   9,  57,  13, 904,   4,   8,   0,   2],\n",
       "       [  7,   1,   7,  10,   3,   0, 970,   1,   0,   1],\n",
       "       [  2,   0,   6,   8,  15,   9,   1, 957,   1,   1],\n",
       "       [ 16,   2,   5,   4,   0,   1,   1,   0, 965,   6],\n",
       "       [  2,  23,   1,   1,   0,   0,   1,   1,   7, 964]])"
      ]
     },
     "execution_count": 53,
     "metadata": {},
     "output_type": "execute_result"
    }
   ],
   "source": [
    "print(accuracy_score(yt, CNN_FUS.argmax(axis=1)))\n",
    "confusion_matrix(yt, CNN_FUS.argmax(axis=1))"
   ]
  },
  {
   "cell_type": "code",
   "execution_count": 7,
   "metadata": {
    "collapsed": false
   },
   "outputs": [],
   "source": [
    "FUS_X = np.hstack([CNN_X_pred_proba, GRB_X_pred_proba, SVC_X_pred, RFC_X_pred_proba, KNN_X_pred_proba]).astype(np.float32)\n",
    "FUS_Xt = np.hstack([CNN_Xt_pred_proba, GRB_Xt_pred_proba, SVC_Xt_pred, RFC_Xt_pred_proba, KNN_Xt_pred_proba]).astype(np.float32)\n",
    "\n",
    "FUS = lambda a: np.hstack(a).astype(np.float32)"
   ]
  },
  {
   "cell_type": "code",
   "execution_count": 8,
   "metadata": {
    "collapsed": true
   },
   "outputs": [],
   "source": [
    "X_pca_30 = pyload(\"pickles/X_pca_30.pickle\")\n",
    "X_pca_40 = pyload(\"pickles/X_pca_40.pickle\")\n",
    "Xt_pca_30 = pyload(\"pickles/Xt_pca_30.pickle\")\n",
    "Xt_pca_40 = pyload(\"pickles/Xt_pca_40.pickle\")\n",
    "\n",
    "X_pca_200 = pyload(\"pickles/X_pca_200.pickle\")\n",
    "Xt_pca_200 = pyload(\"pickles/Xt_pca_200.pickle\")"
   ]
  },
  {
   "cell_type": "code",
   "execution_count": null,
   "metadata": {
    "collapsed": true
   },
   "outputs": [],
   "source": []
  },
  {
   "cell_type": "code",
   "execution_count": 51,
   "metadata": {
    "collapsed": false
   },
   "outputs": [
    {
     "data": {
      "text/plain": [
       "GaussianNB()"
      ]
     },
     "execution_count": 51,
     "metadata": {},
     "output_type": "execute_result"
    }
   ],
   "source": [
    "clf = GaussianNB()\n",
    "clf.fit(FUS_X, y)"
   ]
  },
  {
   "cell_type": "code",
   "execution_count": 52,
   "metadata": {
    "collapsed": false
   },
   "outputs": [
    {
     "data": {
      "text/plain": [
       "0.49880000000000002"
      ]
     },
     "execution_count": 52,
     "metadata": {},
     "output_type": "execute_result"
    }
   ],
   "source": [
    "accuracy_score(yt, clf.predict(FUS_Xt))"
   ]
  },
  {
   "cell_type": "code",
   "execution_count": 26,
   "metadata": {
    "collapsed": false
   },
   "outputs": [
    {
     "name": "stdout",
     "output_type": "stream",
     "text": [
      "0.9272\n",
      "[[938   4  12   4   1   0   1   1  23  16]\n",
      " [  6 951   3   0   1   1   0   0   4  34]\n",
      " [ 16   1 896  15  25  19  13   6   3   6]\n",
      " [ 10   3  29 789  28  99  13   9   4  16]\n",
      " [  5   0  11  12 943   8   6  14   0   1]\n",
      " [  2   1  19  38  15 909   2   9   0   5]\n",
      " [  7   0  13  10   8   1 958   1   0   2]\n",
      " [  4   0   5   3  17   9   1 959   0   2]\n",
      " [ 15   4   5   2   1   1   1   0 961  10]\n",
      " [  4  16   1   1   0   0   1   1   8 968]]\n",
      "0.9316\n",
      "[[936   4  14   7   0   0   4   1  24  10]\n",
      " [  5 965   2   0   0   2   0   0   3  23]\n",
      " [ 13   1 902  15  22  18  18   7   3   1]\n",
      " [  6   1  17 844  15  87  15   8   3   4]\n",
      " [  4   1  12  10 943  11   8  11   0   0]\n",
      " [  2   1  14  65  13 890   4   8   0   3]\n",
      " [  7   1   7  12   4   4 962   2   0   1]\n",
      " [  4   0   5   9  17   9   1 954   0   1]\n",
      " [ 15   6   4   3   0   1   1   0 963   7]\n",
      " [  6  22   1   2   0   0   1   1  10 957]]\n"
     ]
    }
   ],
   "source": [
    "FUS_X_CNN_KNN = FUS([CNN_X_pred_proba, KNN_X_pred_proba, GRB_X_pred_proba])\n",
    "FUS_Xt_CNN_KNN = FUS([CNN_Xt_pred_proba, KNN_Xt_pred_proba, GRB_Xt_pred_proba])\n",
    "\n",
    "rfc = RandomForestClassifier(n_estimators=128)\n",
    "rfc.fit(FUS_X_CNN_KNN, y)\n",
    "Pred = rfc.predict(FUS_Xt_CNN_KNN)\n",
    "print(accuracy_score(yt, Pred))\n",
    "print(confusion_matrix(yt, Pred))\n",
    "\n",
    "log = LogisticRegression()\n",
    "log.fit(FUS_X_CNN_KNN, y)\n",
    "Pred = log.predict(FUS_Xt_CNN_KNN)\n",
    "print(accuracy_score(yt, Pred))\n",
    "print(confusion_matrix(yt, Pred))"
   ]
  },
  {
   "cell_type": "code",
   "execution_count": 12,
   "metadata": {
    "collapsed": false
   },
   "outputs": [
    {
     "data": {
      "text/plain": [
       "array([[592,  27,  84,  16,  49,  10,  37,  11, 154,  20],\n",
       "       [ 90, 418,  54,  32,  70,  18,  99,  20, 133,  66],\n",
       "       [126,  12, 422,  53, 165,  32, 125,  27,  29,   9],\n",
       "       [ 57,  25, 162, 216, 129, 121, 187,  50,  31,  22],\n",
       "       [ 69,   8, 239,  32, 435,  16, 129,  39,  27,   6],\n",
       "       [ 52,  20, 161, 132, 129, 283, 133,  49,  34,   7],\n",
       "       [ 25,   5, 178,  43, 177,  22, 515,  11,  16,   8],\n",
       "       [ 84,  22, 126,  44, 171,  52,  92, 343,  36,  30],\n",
       "       [161,  40,  32,  37,  42,  13,  20,  13, 620,  22],\n",
       "       [125, 126,  47,  30,  52,  20,  75,  38, 153, 334]])"
      ]
     },
     "execution_count": 12,
     "metadata": {},
     "output_type": "execute_result"
    }
   ],
   "source": [
    "confusion_matrix(yt, KNN_Xt_pred_proba.argmax(axis=1))"
   ]
  },
  {
   "cell_type": "code",
   "execution_count": 19,
   "metadata": {
    "collapsed": false
   },
   "outputs": [
    {
     "name": "stdout",
     "output_type": "stream",
     "text": [
      "0.9323\n"
     ]
    },
    {
     "data": {
      "text/plain": [
       "array([[938,   4,  13,   7,   0,   0,   4,   1,  24,   9],\n",
       "       [  4, 966,   2,   0,   0,   2,   0,   0,   3,  23],\n",
       "       [ 12,   1, 902,  15,  22,  18,  19,   7,   3,   1],\n",
       "       [  6,   1,  18, 843,  15,  87,  16,   8,   3,   3],\n",
       "       [  5,   1,  12,  10, 942,  11,   8,  11,   0,   0],\n",
       "       [  2,   1,  13,  64,  13, 891,   4,   9,   0,   3],\n",
       "       [  7,   1,   8,  13,   4,   2, 963,   1,   0,   1],\n",
       "       [  3,   0,   5,   9,  16,   8,   1, 956,   1,   1],\n",
       "       [ 14,   5,   4,   3,   0,   1,   1,   0, 966,   6],\n",
       "       [  6,  22,   1,   2,   0,   0,   1,   1,  11, 956]])"
      ]
     },
     "execution_count": 19,
     "metadata": {},
     "output_type": "execute_result"
    }
   ],
   "source": [
    "print(accuracy_score(yt, ((5*CNN_Xt_pred_proba.astype(np.float32)+KNN_Xt_pred_proba.astype(np.float32))/2).argmax(axis=1)))\n",
    "confusion_matrix(yt, ((5*CNN_Xt_pred_proba.astype(np.float32)+KNN_Xt_pred_proba.astype(np.float32))/2).argmax(axis=1))"
   ]
  },
  {
   "cell_type": "code",
   "execution_count": 55,
   "metadata": {
    "collapsed": false
   },
   "outputs": [
    {
     "data": {
      "text/plain": [
       "0.88929999999999998"
      ]
     },
     "execution_count": 55,
     "metadata": {},
     "output_type": "execute_result"
    }
   ],
   "source": [
    "rfc = RandomForestClassifier(n_estimators=128)\n",
    "rfc.fit(FUS_X, y)\n",
    "accuracy_score(yt, rfc.predict(FUS_Xt))"
   ]
  },
  {
   "cell_type": "code",
   "execution_count": 57,
   "metadata": {
    "collapsed": false
   },
   "outputs": [
    {
     "data": {
      "text/plain": [
       "0.90059999999999996"
      ]
     },
     "execution_count": 57,
     "metadata": {},
     "output_type": "execute_result"
    }
   ],
   "source": [
    "rfc = RandomForestClassifier(n_estimators=512)\n",
    "rfc.fit(FUS_X, y)\n",
    "accuracy_score(yt, rfc.predict(FUS_Xt))"
   ]
  },
  {
   "cell_type": "code",
   "execution_count": 7,
   "metadata": {
    "collapsed": false
   },
   "outputs": [
    {
     "data": {
      "text/plain": [
       "0.90839999999999999"
      ]
     },
     "execution_count": 7,
     "metadata": {},
     "output_type": "execute_result"
    }
   ],
   "source": [
    "rfc = RandomForestClassifier(n_estimators=1024)\n",
    "rfc.fit(FUS_X, y)\n",
    "accuracy_score(yt, rfc.predict(FUS_Xt))"
   ]
  },
  {
   "cell_type": "code",
   "execution_count": 8,
   "metadata": {
    "collapsed": false
   },
   "outputs": [
    {
     "data": {
      "text/plain": [
       "0.90529999999999999"
      ]
     },
     "execution_count": 8,
     "metadata": {},
     "output_type": "execute_result"
    }
   ],
   "source": [
    "rfc = RandomForestClassifier(n_estimators=2048)\n",
    "rfc.fit(FUS_X, y)\n",
    "accuracy_score(yt, rfc.predict(FUS_Xt))"
   ]
  },
  {
   "cell_type": "code",
   "execution_count": null,
   "metadata": {
    "collapsed": false
   },
   "outputs": [],
   "source": [
    "grb = GradientBoostingClassifier()\n",
    "grb.fit(X, y)\n",
    "accuracy_score(yt, grb.predict(FUS_Xt))"
   ]
  },
  {
   "cell_type": "code",
   "execution_count": 31,
   "metadata": {
    "collapsed": true
   },
   "outputs": [],
   "source": [
    "FUS_X_CNN_KNN = FUS([CNN_X_pred_proba]) # , KNN_X_pred_proba\n",
    "FUS_Xt_CNN_KNN = FUS([CNN_Xt_pred_proba]) #, KNN_Xt_pred_proba"
   ]
  },
  {
   "cell_type": "code",
   "execution_count": 12,
   "metadata": {
    "collapsed": false
   },
   "outputs": [
    {
     "data": {
      "text/plain": [
       "0.92710000000000004"
      ]
     },
     "execution_count": 12,
     "metadata": {},
     "output_type": "execute_result"
    }
   ],
   "source": [
    "rfc = RandomForestClassifier(n_estimators=128)\n",
    "rfc.fit(FUS_X_CNN_KNN, y)\n",
    "accuracy_score(yt, rfc.predict(FUS_Xt_CNN_KNN))"
   ]
  },
  {
   "cell_type": "code",
   "execution_count": 32,
   "metadata": {
    "collapsed": false
   },
   "outputs": [
    {
     "data": {
      "text/plain": [
       "0.92120000000000002"
      ]
     },
     "execution_count": 32,
     "metadata": {},
     "output_type": "execute_result"
    }
   ],
   "source": [
    "rfc = RandomForestClassifier(n_estimators=256)\n",
    "rfc.fit(FUS_X_CNN_KNN, y)\n",
    "accuracy_score(yt, rfc.predict(FUS_Xt_CNN_KNN))"
   ]
  },
  {
   "cell_type": "code",
   "execution_count": 14,
   "metadata": {
    "collapsed": false
   },
   "outputs": [
    {
     "data": {
      "text/plain": [
       "0.92669999999999997"
      ]
     },
     "execution_count": 14,
     "metadata": {},
     "output_type": "execute_result"
    }
   ],
   "source": [
    "rfc = RandomForestClassifier(n_estimators=512)\n",
    "rfc.fit(FUS_X_CNN_KNN, y)\n",
    "accuracy_score(yt, rfc.predict(FUS_Xt_CNN_KNN))"
   ]
  },
  {
   "cell_type": "code",
   "execution_count": 15,
   "metadata": {
    "collapsed": false
   },
   "outputs": [
    {
     "data": {
      "text/plain": [
       "0.92759999999999998"
      ]
     },
     "execution_count": 15,
     "metadata": {},
     "output_type": "execute_result"
    }
   ],
   "source": [
    "rfc = RandomForestClassifier(n_estimators=1024)\n",
    "rfc.fit(FUS_X_CNN_KNN, y)\n",
    "accuracy_score(yt, rfc.predict(FUS_Xt_CNN_KNN))"
   ]
  },
  {
   "cell_type": "code",
   "execution_count": 27,
   "metadata": {
    "collapsed": false
   },
   "outputs": [
    {
     "data": {
      "text/plain": [
       "0.9274"
      ]
     },
     "execution_count": 27,
     "metadata": {},
     "output_type": "execute_result"
    }
   ],
   "source": [
    "rfc = RandomForestClassifier(n_estimators=2048)\n",
    "rfc.fit(FUS_X_CNN_KNN, y)\n",
    "accuracy_score(yt, rfc.predict(FUS_Xt_CNN_KNN))"
   ]
  },
  {
   "cell_type": "code",
   "execution_count": 28,
   "metadata": {
    "collapsed": false
   },
   "outputs": [
    {
     "data": {
      "text/plain": [
       "0.90759999999999996"
      ]
     },
     "execution_count": 28,
     "metadata": {},
     "output_type": "execute_result"
    }
   ],
   "source": [
    "grb = GradientBoostingClassifier()\n",
    "grb.fit(FUS_X_CNN_KNN, y)\n",
    "accuracy_score(yt, grb.predict(FUS_Xt_CNN_KNN))"
   ]
  },
  {
   "cell_type": "code",
   "execution_count": 9,
   "metadata": {
    "collapsed": false
   },
   "outputs": [],
   "source": [
    "X_CNN_PCA200 = FUS([CNN_X_pred_proba, X_pca_200])\n",
    "Xt_CNN_PCA200 = FUS([CNN_Xt_pred_proba, Xt_pca_200])"
   ]
  },
  {
   "cell_type": "code",
   "execution_count": 10,
   "metadata": {
    "collapsed": false
   },
   "outputs": [
    {
     "data": {
      "text/plain": [
       "0.9304"
      ]
     },
     "execution_count": 10,
     "metadata": {},
     "output_type": "execute_result"
    }
   ],
   "source": [
    "rfc = RandomForestClassifier(n_estimators=1024)\n",
    "rfc.fit(X_CNN_PCA200, y)\n",
    "accuracy_score(yt, rfc.predict(Xt_CNN_PCA200))"
   ]
  },
  {
   "cell_type": "code",
   "execution_count": 28,
   "metadata": {
    "collapsed": false
   },
   "outputs": [
    {
     "data": {
      "text/plain": [
       "array([[936,   4,  14,   7,   1,   0,   3,   1,  24,  10],\n",
       "       [  4, 966,   2,   0,   0,   2,   0,   0,   3,  23],\n",
       "       [ 12,   1, 900,  14,  22,  19,  21,   7,   3,   1],\n",
       "       [  7,   1,  17, 840,  16,  88,  17,   8,   3,   3],\n",
       "       [  5,   1,  10,  12, 941,  12,   8,  11,   0,   0],\n",
       "       [  2,   1,  11,  66,  13, 891,   4,  10,   0,   2],\n",
       "       [  7,   1,   8,  12,   4,   3, 963,   1,   0,   1],\n",
       "       [  4,   0,   5,   9,  16,   7,   1, 957,   0,   1],\n",
       "       [ 13,   4,   5,   3,   0,   1,   1,   0, 967,   6],\n",
       "       [  4,  23,   1,   2,   0,   0,   1,   1,  10, 958]])"
      ]
     },
     "execution_count": 28,
     "metadata": {},
     "output_type": "execute_result"
    }
   ],
   "source": [
    "confusion_matrix(yt, CNN_Xt_pred_proba.argmax(axis=1))"
   ]
  },
  {
   "cell_type": "code",
   "execution_count": 30,
   "metadata": {
    "collapsed": false
   },
   "outputs": [
    {
     "data": {
      "text/plain": [
       "array([[592,  27,  84,  16,  49,  10,  37,  11, 154,  20],\n",
       "       [ 90, 418,  54,  32,  70,  18,  99,  20, 133,  66],\n",
       "       [126,  12, 422,  53, 165,  32, 125,  27,  29,   9],\n",
       "       [ 57,  25, 162, 216, 129, 121, 187,  50,  31,  22],\n",
       "       [ 69,   8, 239,  32, 435,  16, 129,  39,  27,   6],\n",
       "       [ 52,  20, 161, 132, 129, 283, 133,  49,  34,   7],\n",
       "       [ 25,   5, 178,  43, 177,  22, 515,  11,  16,   8],\n",
       "       [ 84,  22, 126,  44, 171,  52,  92, 343,  36,  30],\n",
       "       [161,  40,  32,  37,  42,  13,  20,  13, 620,  22],\n",
       "       [125, 126,  47,  30,  52,  20,  75,  38, 153, 334]])"
      ]
     },
     "execution_count": 30,
     "metadata": {},
     "output_type": "execute_result"
    }
   ],
   "source": [
    "confusion_matrix(yt, KNN_Xt_pred_proba.argmax(axis=1))"
   ]
  },
  {
   "cell_type": "code",
   "execution_count": 31,
   "metadata": {
    "collapsed": false
   },
   "outputs": [
    {
     "data": {
      "text/plain": [
       "array([[544,  31,  68,  17,  37,  18,  25,  40, 174,  46],\n",
       "       [ 44, 554,  23,  36,  23,  35,  32,  34,  46, 173],\n",
       "       [ 80,  28, 345,  71, 154,  65, 125,  76,  39,  17],\n",
       "       [ 49,  30,  97, 293,  68, 183, 155,  49,  29,  47],\n",
       "       [ 50,  11, 148,  38, 406,  49, 167,  92,  26,  13],\n",
       "       [ 31,  20, 101, 165,  69, 406,  84,  69,  31,  24],\n",
       "       [  8,  32,  86,  61, 117,  37, 593,  26,  10,  30],\n",
       "       [ 51,  16,  46,  70, 108,  96,  50, 473,  19,  71],\n",
       "       [114,  69,  14,  28,  20,  28,  20,  23, 614,  70],\n",
       "       [ 55, 153,  15,  38,  14,  29,  27,  47,  72, 550]])"
      ]
     },
     "execution_count": 31,
     "metadata": {},
     "output_type": "execute_result"
    }
   ],
   "source": [
    "confusion_matrix(yt, GRB_Xt_pred_proba.argmax(axis=1))"
   ]
  },
  {
   "cell_type": "code",
   "execution_count": 25,
   "metadata": {
    "collapsed": false
   },
   "outputs": [
    {
     "data": {
      "text/plain": [
       "0.44869999999999999"
      ]
     },
     "execution_count": 25,
     "metadata": {},
     "output_type": "execute_result"
    }
   ],
   "source": [
    "svc = svm.SVC(kernel='poly')\n",
    "svc.fit(X_CNN_PCA200, y)\n",
    "accuracy_score(yt, svc.predict(Xt_CNN_PCA200))"
   ]
  },
  {
   "cell_type": "code",
   "execution_count": 44,
   "metadata": {
    "collapsed": false
   },
   "outputs": [
    {
     "data": {
      "text/plain": [
       "0.93189999999999995"
      ]
     },
     "execution_count": 44,
     "metadata": {},
     "output_type": "execute_result"
    }
   ],
   "source": [
    "accuracy_score(yt, CNN_Xt_pred_proba.argmax(axis=1).flatten())"
   ]
  },
  {
   "cell_type": "markdown",
   "metadata": {},
   "source": [
    "### Optimization Problem"
   ]
  },
  {
   "cell_type": "code",
   "execution_count": 38,
   "metadata": {
    "collapsed": true
   },
   "outputs": [],
   "source": [
    "def acc(W, C, y=None):\n",
    "    if y is None:\n",
    "        y = yt\n",
    "    global m\n",
    "    global n\n",
    "    _ = accuracy_score(y, np.array([w*c.astype(np.float32) for w,c in zip(W,C)]).sum(axis=0).argmax(axis=1))\n",
    "    if _ > m:\n",
    "        n = W\n",
    "        m = _\n",
    "    print(\"\\r({Wt}). Accuracy: {0:.4f}. Highest Accuracy: {1:.4f}. Highest Weights: {Wh}\".format(_, m, Wt=W, Wh=n), end=\"\")\n",
    "    return _"
   ]
  },
  {
   "cell_type": "code",
   "execution_count": 77,
   "metadata": {
    "collapsed": false
   },
   "outputs": [
    {
     "name": "stdout",
     "output_type": "stream",
     "text": [
      "0.9333\n"
     ]
    }
   ],
   "source": [
    "print(accuracy_score(yt, CNN1_pred_proba.argmax(axis=1)))"
   ]
  },
  {
   "cell_type": "code",
   "execution_count": 79,
   "metadata": {
    "collapsed": false
   },
   "outputs": [
    {
     "name": "stdout",
     "output_type": "stream",
     "text": [
      "([9.5, 9.5]). Accuracy: 0.5775. Highest Accuracy: 0.9333. Highest Weights: [0.5, 0.0]"
     ]
    }
   ],
   "source": [
    "n,m = [0,0],0; exp_knn = np.array([[acc([x,y], [CNN1_pred_proba, HOG_pred_proba]) for x in itr] for y in itr])"
   ]
  },
  {
   "cell_type": "code",
   "execution_count": 57,
   "metadata": {
    "collapsed": false
   },
   "outputs": [
    {
     "name": "stdout",
     "output_type": "stream",
     "text": [
      "([9.9000000000000004, 9.9000000000000004]). Accuracy: 0.9271. Highest Accuracy: 0.9403. Highest Weights: [1.5, 0.10000000000000001]"
     ]
    }
   ],
   "source": [
    "m = 0; \n",
    "itr = np.arange(0, 10, 0.1); \n",
    "n,m = [0,0],0; exp_knn = np.array([[acc([x,y], [CNN_FUS, KNN_Xt_pred_proba]) for x in itr] for y in itr])"
   ]
  },
  {
   "cell_type": "code",
   "execution_count": 59,
   "metadata": {
    "collapsed": false
   },
   "outputs": [
    {
     "data": {
      "text/plain": [
       "[1.5, 0.10000000000000001]"
      ]
     },
     "execution_count": 59,
     "metadata": {},
     "output_type": "execute_result"
    }
   ],
   "source": [
    "n"
   ]
  },
  {
   "cell_type": "code",
   "execution_count": 57,
   "metadata": {
    "collapsed": false
   },
   "outputs": [],
   "source": [
    "Pred_9399 = 1.5 * CNN_FUS.astype(np.float32) + 0.1 * KNN_Xt_pred_proba.astype(np.float32)"
   ]
  },
  {
   "cell_type": "code",
   "execution_count": 58,
   "metadata": {
    "collapsed": false
   },
   "outputs": [
    {
     "data": {
      "text/plain": [
       "0.94030000000000002"
      ]
     },
     "execution_count": 58,
     "metadata": {},
     "output_type": "execute_result"
    }
   ],
   "source": [
    "accuracy_score(yt, Pred_9399.argmax(axis=1))"
   ]
  },
  {
   "cell_type": "code",
   "execution_count": 113,
   "metadata": {
    "collapsed": true
   },
   "outputs": [],
   "source": [
    "labels = [\"airplane\",\"automobile\",\"bird\",\"cat\",\"deer\",\"dog\",\"frog\",\"horse\",\"ship\",\"truck\"]"
   ]
  },
  {
   "cell_type": "code",
   "execution_count": 126,
   "metadata": {
    "collapsed": false
   },
   "outputs": [
    {
     "ename": "AttributeError",
     "evalue": "Unknown property format",
     "output_type": "error",
     "traceback": [
      "\u001b[0;31m---------------------------------------------------------------------------\u001b[0m",
      "\u001b[0;31mAttributeError\u001b[0m                            Traceback (most recent call last)",
      "\u001b[0;32m<ipython-input-126-44eafa523b8e>\u001b[0m in \u001b[0;36m<module>\u001b[0;34m()\u001b[0m\n\u001b[1;32m     10\u001b[0m     \u001b[0mfig\u001b[0m\u001b[0;34m.\u001b[0m\u001b[0madd_subplot\u001b[0m\u001b[0;34m(\u001b[0m\u001b[0;36m4\u001b[0m\u001b[0;34m,\u001b[0m \u001b[0;36m4\u001b[0m\u001b[0;34m,\u001b[0m \u001b[0mi\u001b[0m\u001b[0;34m+\u001b[0m\u001b[0;36m1\u001b[0m\u001b[0;34m)\u001b[0m\u001b[0;34m\u001b[0m\u001b[0m\n\u001b[1;32m     11\u001b[0m     \u001b[0mplt\u001b[0m\u001b[0;34m.\u001b[0m\u001b[0mimshow\u001b[0m\u001b[0;34m(\u001b[0m\u001b[0mvis\u001b[0m\u001b[0;34m[\u001b[0m\u001b[0mi\u001b[0m\u001b[0;34m]\u001b[0m\u001b[0;34m.\u001b[0m\u001b[0mreshape\u001b[0m\u001b[0;34m(\u001b[0m\u001b[0;36m3\u001b[0m\u001b[0;34m,\u001b[0m\u001b[0;36m32\u001b[0m\u001b[0;34m,\u001b[0m\u001b[0;36m32\u001b[0m\u001b[0;34m)\u001b[0m\u001b[0;34m.\u001b[0m\u001b[0mtranspose\u001b[0m\u001b[0;34m(\u001b[0m\u001b[0;36m1\u001b[0m\u001b[0;34m,\u001b[0m\u001b[0;36m2\u001b[0m\u001b[0;34m,\u001b[0m\u001b[0;36m0\u001b[0m\u001b[0;34m)\u001b[0m\u001b[0;34m)\u001b[0m\u001b[0;34m\u001b[0m\u001b[0m\n\u001b[0;32m---> 12\u001b[0;31m     \u001b[0mplt\u001b[0m\u001b[0;34m.\u001b[0m\u001b[0mtitle\u001b[0m\u001b[0;34m(\u001b[0m\u001b[0;34m\"({})\\nCNN: {}\\nCNN+KNN: {}\\nTrue: {}\"\u001b[0m\u001b[0;34m.\u001b[0m\u001b[0mformat\u001b[0m\u001b[0;34m(\u001b[0m\u001b[0mi\u001b[0m\u001b[0;34m,\u001b[0m \u001b[0mlabels\u001b[0m\u001b[0;34m[\u001b[0m\u001b[0mcnn_vote\u001b[0m\u001b[0;34m[\u001b[0m\u001b[0mi\u001b[0m\u001b[0;34m]\u001b[0m\u001b[0;34m]\u001b[0m\u001b[0;34m,\u001b[0m \u001b[0mlabels\u001b[0m\u001b[0;34m[\u001b[0m\u001b[0mknn_vote\u001b[0m\u001b[0;34m[\u001b[0m\u001b[0mi\u001b[0m\u001b[0;34m]\u001b[0m\u001b[0;34m]\u001b[0m\u001b[0;34m,\u001b[0m \u001b[0mlabels\u001b[0m\u001b[0;34m[\u001b[0m\u001b[0mtrue_vote\u001b[0m\u001b[0;34m[\u001b[0m\u001b[0mi\u001b[0m\u001b[0;34m]\u001b[0m\u001b[0;34m]\u001b[0m\u001b[0;34m)\u001b[0m\u001b[0;34m,\u001b[0m \u001b[0my\u001b[0m\u001b[0;34m=\u001b[0m\u001b[0;36m1.05\u001b[0m\u001b[0;34m,\u001b[0m \u001b[0mformat\u001b[0m\u001b[0;34m=\u001b[0m\u001b[0;34m{\u001b[0m\u001b[0;34m\"fontsize\"\u001b[0m\u001b[0;34m:\u001b[0m \u001b[0;36m12\u001b[0m\u001b[0;34m}\u001b[0m\u001b[0;34m)\u001b[0m\u001b[0;34m\u001b[0m\u001b[0m\n\u001b[0m\u001b[1;32m     13\u001b[0m     \u001b[0mplt\u001b[0m\u001b[0;34m.\u001b[0m\u001b[0mtight_layout\u001b[0m\u001b[0;34m(\u001b[0m\u001b[0mpad\u001b[0m\u001b[0;34m=\u001b[0m\u001b[0;36m0.4\u001b[0m\u001b[0;34m,\u001b[0m \u001b[0mw_pad\u001b[0m\u001b[0;34m=\u001b[0m\u001b[0;36m0.5\u001b[0m\u001b[0;34m,\u001b[0m \u001b[0mh_pad\u001b[0m\u001b[0;34m=\u001b[0m\u001b[0;36m1.\u001b[0m\u001b[0;34m)\u001b[0m\u001b[0;34m\u001b[0m\u001b[0m\n\u001b[1;32m     14\u001b[0m     \u001b[0mplt\u001b[0m\u001b[0;34m.\u001b[0m\u001b[0maxis\u001b[0m\u001b[0;34m(\u001b[0m\u001b[0;34m'off'\u001b[0m\u001b[0;34m)\u001b[0m\u001b[0;34m\u001b[0m\u001b[0m\n",
      "\u001b[0;32m/Users/devyhia/.pyenv/versions/3.4.3/lib/python3.4/site-packages/matplotlib/pyplot.py\u001b[0m in \u001b[0;36mtitle\u001b[0;34m(s, *args, **kwargs)\u001b[0m\n\u001b[1;32m   1347\u001b[0m \u001b[0;34m\u001b[0m\u001b[0m\n\u001b[1;32m   1348\u001b[0m     \"\"\"\n\u001b[0;32m-> 1349\u001b[0;31m     \u001b[0ml\u001b[0m \u001b[0;34m=\u001b[0m  \u001b[0mgca\u001b[0m\u001b[0;34m(\u001b[0m\u001b[0;34m)\u001b[0m\u001b[0;34m.\u001b[0m\u001b[0mset_title\u001b[0m\u001b[0;34m(\u001b[0m\u001b[0ms\u001b[0m\u001b[0;34m,\u001b[0m \u001b[0;34m*\u001b[0m\u001b[0margs\u001b[0m\u001b[0;34m,\u001b[0m \u001b[0;34m**\u001b[0m\u001b[0mkwargs\u001b[0m\u001b[0;34m)\u001b[0m\u001b[0;34m\u001b[0m\u001b[0m\n\u001b[0m\u001b[1;32m   1350\u001b[0m     \u001b[0mdraw_if_interactive\u001b[0m\u001b[0;34m(\u001b[0m\u001b[0;34m)\u001b[0m\u001b[0;34m\u001b[0m\u001b[0m\n\u001b[1;32m   1351\u001b[0m     \u001b[0;32mreturn\u001b[0m \u001b[0ml\u001b[0m\u001b[0;34m\u001b[0m\u001b[0m\n",
      "\u001b[0;32m/Users/devyhia/.pyenv/versions/3.4.3/lib/python3.4/site-packages/matplotlib/axes/_axes.py\u001b[0m in \u001b[0;36mset_title\u001b[0;34m(self, label, fontdict, loc, **kwargs)\u001b[0m\n\u001b[1;32m    144\u001b[0m         \u001b[0;32mif\u001b[0m \u001b[0mfontdict\u001b[0m \u001b[0;32mis\u001b[0m \u001b[0;32mnot\u001b[0m \u001b[0;32mNone\u001b[0m\u001b[0;34m:\u001b[0m\u001b[0;34m\u001b[0m\u001b[0m\n\u001b[1;32m    145\u001b[0m             \u001b[0mtitle\u001b[0m\u001b[0;34m.\u001b[0m\u001b[0mupdate\u001b[0m\u001b[0;34m(\u001b[0m\u001b[0mfontdict\u001b[0m\u001b[0;34m)\u001b[0m\u001b[0;34m\u001b[0m\u001b[0m\n\u001b[0;32m--> 146\u001b[0;31m         \u001b[0mtitle\u001b[0m\u001b[0;34m.\u001b[0m\u001b[0mupdate\u001b[0m\u001b[0;34m(\u001b[0m\u001b[0mkwargs\u001b[0m\u001b[0;34m)\u001b[0m\u001b[0;34m\u001b[0m\u001b[0m\n\u001b[0m\u001b[1;32m    147\u001b[0m         \u001b[0;32mreturn\u001b[0m \u001b[0mtitle\u001b[0m\u001b[0;34m\u001b[0m\u001b[0m\n\u001b[1;32m    148\u001b[0m \u001b[0;34m\u001b[0m\u001b[0m\n",
      "\u001b[0;32m/Users/devyhia/.pyenv/versions/3.4.3/lib/python3.4/site-packages/matplotlib/artist.py\u001b[0m in \u001b[0;36mupdate\u001b[0;34m(self, props)\u001b[0m\n\u001b[1;32m    755\u001b[0m             \u001b[0mfunc\u001b[0m \u001b[0;34m=\u001b[0m \u001b[0mgetattr\u001b[0m\u001b[0;34m(\u001b[0m\u001b[0mself\u001b[0m\u001b[0;34m,\u001b[0m \u001b[0;34m'set_'\u001b[0m \u001b[0;34m+\u001b[0m \u001b[0mk\u001b[0m\u001b[0;34m,\u001b[0m \u001b[0;32mNone\u001b[0m\u001b[0;34m)\u001b[0m\u001b[0;34m\u001b[0m\u001b[0m\n\u001b[1;32m    756\u001b[0m             \u001b[0;32mif\u001b[0m \u001b[0mfunc\u001b[0m \u001b[0;32mis\u001b[0m \u001b[0;32mNone\u001b[0m \u001b[0;32mor\u001b[0m \u001b[0;32mnot\u001b[0m \u001b[0msix\u001b[0m\u001b[0;34m.\u001b[0m\u001b[0mcallable\u001b[0m\u001b[0;34m(\u001b[0m\u001b[0mfunc\u001b[0m\u001b[0;34m)\u001b[0m\u001b[0;34m:\u001b[0m\u001b[0;34m\u001b[0m\u001b[0m\n\u001b[0;32m--> 757\u001b[0;31m                 \u001b[0;32mraise\u001b[0m \u001b[0mAttributeError\u001b[0m\u001b[0;34m(\u001b[0m\u001b[0;34m'Unknown property %s'\u001b[0m \u001b[0;34m%\u001b[0m \u001b[0mk\u001b[0m\u001b[0;34m)\u001b[0m\u001b[0;34m\u001b[0m\u001b[0m\n\u001b[0m\u001b[1;32m    758\u001b[0m             \u001b[0mfunc\u001b[0m\u001b[0;34m(\u001b[0m\u001b[0mv\u001b[0m\u001b[0;34m)\u001b[0m\u001b[0;34m\u001b[0m\u001b[0m\n\u001b[1;32m    759\u001b[0m             \u001b[0mchanged\u001b[0m \u001b[0;34m=\u001b[0m \u001b[0;32mTrue\u001b[0m\u001b[0;34m\u001b[0m\u001b[0m\n",
      "\u001b[0;31mAttributeError\u001b[0m: Unknown property format"
     ]
    },
    {
     "data": {
      "image/png": "[encoded data removed]",
      "text/plain": [
       "<matplotlib.figure.Figure at 0x111e28c88>"
      ]
     },
     "metadata": {},
     "output_type": "display_data"
    }
   ],
   "source": [
    "idx = CNN_FUS.argmax(axis=1)!=Pred_9399.argmax(axis=1)\n",
    "vis = Xt[idx]\n",
    "knn_vote = Pred_9399[idx].argmax(axis=1)\n",
    "cnn_vote = CNN_FUS[idx].argmax(axis=1)\n",
    "true_vote = yt[idx]\n",
    "\n",
    "fig = plt.figure(0)\n",
    "fig.set_size_inches(10, 10)\n",
    "for i in range(13):\n",
    "    fig.add_subplot(4, 4, i+1)\n",
    "    plt.imshow(vis[i].reshape(3,32,32).transpose(1,2,0))\n",
    "    plt.title(\"({})\\nCNN: {}\\nCNN+KNN: {}\\nTrue: {}\".format(i, labels[cnn_vote[i]], labels[knn_vote[i]], labels[true_vote[i]]), y=1.05, )\n",
    "    plt.tight_layout(pad=0.4, w_pad=0.5, h_pad=1.)\n",
    "    plt.axis('off')"
   ]
  },
  {
   "cell_type": "code",
   "execution_count": 204,
   "metadata": {
    "collapsed": false
   },
   "outputs": [],
   "source": [
    "x,y = (2.,.5); Pred_9346 = x*CNN1_pred_proba.astype(np.float32)+y*KNN_Xt_pred_proba.astype(np.float32)"
   ]
  },
  {
   "cell_type": "code",
   "execution_count": 208,
   "metadata": {
    "collapsed": false
   },
   "outputs": [
    {
     "data": {
      "text/plain": [
       "array([[951,   3,   9,   5,   1,   2,   3,   1,  15,  10],\n",
       "       [  5, 964,   2,   1,   0,   1,   0,   0,   3,  24],\n",
       "       [ 11,   0, 906,  17,  22,  15,  18,   7,   3,   1],\n",
       "       [  8,   3,  19, 839,  21,  78,  15,   8,   3,   6],\n",
       "       [  1,   0,  12,  12, 950,   9,   7,   8,   0,   1],\n",
       "       [  3,   0,   8,  66,  13, 899,   4,   6,   0,   1],\n",
       "       [  6,   0,  12,  11,   5,   1, 962,   1,   1,   1],\n",
       "       [  2,   0,   8,  16,  14,  13,   1, 944,   1,   1],\n",
       "       [ 17,   3,   4,   4,   0,   0,   0,   0, 966,   6],\n",
       "       [  3,  20,   3,   2,   0,   0,   1,   0,   6, 965]])"
      ]
     },
     "execution_count": 208,
     "metadata": {},
     "output_type": "execute_result"
    }
   ],
   "source": [
    "n,m = [0,0],0; exp_knn = np.array([[acc([x,y], [Pred_9346, KNN_Xt_pred_proba]) for x in itr] for y in itr])"
   ]
  },
  {
   "cell_type": "code",
   "execution_count": 62,
   "metadata": {
    "collapsed": false
   },
   "outputs": [],
   "source": [
    "cat_index = Pred_9399.argmax(axis=1) == 3\n",
    "dog_index = Pred_9399.argmax(axis=1) == 5\n",
    "\n",
    "CAT_Expert_pred_proba_mc = np.hstack((np.zeros((10000,3)), CAT_Expert_pred_proba[:,0].reshape(-1,1), np.zeros((10000, 1)), CAT_Expert_pred_proba[:,1].reshape(-1,1), np.zeros((10000, 4)))) \n",
    "DOG_Expert_pred_proba_mc = np.hstack((np.zeros((10000,3)), DOG_Expert_pred_proba[:,0].reshape(-1,1), np.zeros((10000, 1)), DOG_Expert_pred_proba[:,1].reshape(-1,1), np.zeros((10000, 4)))) "
   ]
  },
  {
   "cell_type": "code",
   "execution_count": 63,
   "metadata": {
    "collapsed": false
   },
   "outputs": [
    {
     "name": "stdout",
     "output_type": "stream",
     "text": [
      "([9.9000000000000004, 9.9000000000000004]). Accuracy: 0.8839. Highest Accuracy: 0.8902. Highest Weights: [0.5, 0.10000000000000001]"
     ]
    }
   ],
   "source": [
    "n,m = [0,0],0; exp_cat = np.array([[acc([x,y], [Pred_9399[cat_index], CAT_DOG_pred_proba_mc[cat_index]], yt[cat_index]) for x in itr] for y in itr]); n_cat = n"
   ]
  },
  {
   "cell_type": "code",
   "execution_count": 64,
   "metadata": {
    "collapsed": false
   },
   "outputs": [
    {
     "name": "stdout",
     "output_type": "stream",
     "text": [
      "([9.9000000000000004, 9.9000000000000004]). Accuracy: 0.8940. Highest Accuracy: 0.8999. Highest Weights: [0.40000000000000002, 0.30000000000000004]"
     ]
    }
   ],
   "source": [
    "n,m = [0,0],0; exp_dog = np.array([[acc([x,y], [Pred_9399[dog_index], CAT_DOG_pred_proba_mc[dog_index]], yt[dog_index]) for x in itr] for y in itr]); n_dog = n"
   ]
  },
  {
   "cell_type": "code",
   "execution_count": 65,
   "metadata": {
    "collapsed": true
   },
   "outputs": [],
   "source": [
    "Pred_9399_CAT_DOG = Pred_9399.copy()\n",
    "Pred_9399_CAT_DOG[cat_index] = n_cat[0] * Pred_9399[cat_index].astype(np.float32) + n_cat[1] * CAT_DOG_pred_proba_mc[cat_index].astype(np.float32)\n",
    "Pred_9399_CAT_DOG[dog_index] = n_dog[0] * Pred_9399[dog_index].astype(np.float32) + n_dog[1] * CAT_DOG_pred_proba_mc[dog_index].astype(np.float32)"
   ]
  },
  {
   "cell_type": "code",
   "execution_count": 66,
   "metadata": {
    "collapsed": false
   },
   "outputs": [
    {
     "name": "stdout",
     "output_type": "stream",
     "text": [
      "0.9408\n"
     ]
    }
   ],
   "source": [
    "print(accuracy_score(yt, Pred_9399_CAT_DOG.argmax(axis=1)))"
   ]
  },
  {
   "cell_type": "code",
   "execution_count": 71,
   "metadata": {
    "collapsed": false
   },
   "outputs": [
    {
     "name": "stdout",
     "output_type": "stream",
     "text": [
      "([9.5, 9.5]). Accuracy: 0.9266. Highest Accuracy: 0.9319."
     ]
    }
   ],
   "source": [
    "m =0; exp_grb = np.array([[acc([x,y], [CNN_Xt_pred_proba, GRB_Xt_pred_proba]) for x in itr] for y in itr])"
   ]
  },
  {
   "cell_type": "code",
   "execution_count": 72,
   "metadata": {
    "collapsed": false
   },
   "outputs": [
    {
     "name": "stdout",
     "output_type": "stream",
     "text": [
      "([9.5, 9.5]). Accuracy: 0.9313. Highest Accuracy: 0.9320."
     ]
    }
   ],
   "source": [
    "m =0; exp_rfc = np.array([[acc([x,y], [CNN_Xt_pred_proba, RFC_Xt_pred_proba]) for x in itr] for y in itr])"
   ]
  },
  {
   "cell_type": "code",
   "execution_count": 21,
   "metadata": {
    "collapsed": false
   },
   "outputs": [
    {
     "data": {
      "text/plain": [
       "(2, 9)"
      ]
     },
     "execution_count": 21,
     "metadata": {},
     "output_type": "execute_result"
    }
   ],
   "source": [
    "(int(exp.argmax()/exp.shape[0]), int(exp.argmax()%exp.shape[0]))"
   ]
  },
  {
   "cell_type": "code",
   "execution_count": 10,
   "metadata": {
    "collapsed": false
   },
   "outputs": [
    {
     "name": "stdout",
     "output_type": "stream",
     "text": [
      "0.9325\n",
      "[[939   4  13   7   0   0   4   1  24   8]\n",
      " [  4 966   2   0   0   2   0   0   3  23]\n",
      " [ 12   1 902  15  22  18  19   7   3   1]\n",
      " [  6   1  18 844  15  87  16   7   3   3]\n",
      " [  5   1  12  10 942  11   8  11   0   0]\n",
      " [  2   1  13  64  13 891   4   9   0   3]\n",
      " [  7   1   8  13   4   2 963   1   0   1]\n",
      " [  3   0   5   9  16   8   1 956   1   1]\n",
      " [ 14   5   4   3   0   1   1   0 966   6]\n",
      " [  6  22   1   2   0   0   1   1  11 956]]\n"
     ]
    }
   ],
   "source": [
    "x,y = (9,2); Pred_9325 = ((x*CNN1_pred_proba.astype(np.float32)+y*KNN_Xt_pred_proba.astype(np.float32)))\n",
    "print(accuracy_score(yt, Pred_9325.argmax(axis=1)))\n",
    "print(confusion_matrix(yt, Pred_9325.argmax(axis=1)))"
   ]
  },
  {
   "cell_type": "code",
   "execution_count": 27,
   "metadata": {
    "collapsed": false
   },
   "outputs": [
    {
     "data": {
      "text/plain": [
       "array([[ 0.],\n",
       "       [ 0.],\n",
       "       [ 0.],\n",
       "       ..., \n",
       "       [ 0.],\n",
       "       [ 0.],\n",
       "       [ 0.]])"
      ]
     },
     "execution_count": 27,
     "metadata": {},
     "output_type": "execute_result"
    }
   ],
   "source": [
    "np.zeros((10000,1))"
   ]
  },
  {
   "cell_type": "code",
   "execution_count": 35,
   "metadata": {
    "collapsed": false
   },
   "outputs": [
    {
     "data": {
      "text/plain": [
       "(10000,)"
      ]
     },
     "execution_count": 35,
     "metadata": {},
     "output_type": "execute_result"
    }
   ],
   "source": []
  },
  {
   "cell_type": "code",
   "execution_count": 37,
   "metadata": {
    "collapsed": false
   },
   "outputs": [],
   "source": [
    "CAT_DOG_pred_proba_mc = np.hstack((np.zeros((10000,3)), CAT_DOG_pred_proba[:,0].reshape(-1,1), np.zeros((10000, 1)), CAT_DOG_pred_proba[:,1].reshape(-1,1), np.zeros((10000, 4)))) "
   ]
  },
  {
   "cell_type": "code",
   "execution_count": 41,
   "metadata": {
    "collapsed": false,
    "scrolled": true
   },
   "outputs": [
    {
     "name": "stdout",
     "output_type": "stream",
     "text": [
      "0.889352818372\n",
      "0.649269311065\n",
      "0.894788593904\n",
      "0.627335299902\n"
     ]
    }
   ],
   "source": [
    "cat_index = Pred_9399.argmax(axis=1) == 3\n",
    "dog_index = Pred_9399.argmax(axis=1) == 5\n",
    "CAT_DOG_pred_proba_mc = np.hstack((np.zeros((10000,3)), CAT_DOG_pred_proba[:,0].reshape(-1,1), np.zeros((10000, 1)), CAT_DOG_pred_proba[:,1].reshape(-1,1), np.zeros((10000, 4)))) \n",
    "\n",
    "print(accuracy_score(yt[cat_index], Pred_9399[cat_index].argmax(axis=1)))\n",
    "print(accuracy_score(yt[cat_index], CAT_DOG_pred_proba_mc[cat_index].argmax(axis=1)))\n",
    "\n",
    "print(accuracy_score(yt[dog_index], Pred_9399[dog_index].argmax(axis=1)))\n",
    "print(accuracy_score(yt[dog_index], CAT_DOG_pred_proba_mc[dog_index].argmax(axis=1)))"
   ]
  },
  {
   "cell_type": "code",
   "execution_count": 60,
   "metadata": {
    "collapsed": false
   },
   "outputs": [
    {
     "name": "stdout",
     "output_type": "stream",
     "text": [
      "([9.5, 9.5]). Accuracy: 0.8759. Highest Accuracy: 0.8780."
     ]
    }
   ],
   "source": [
    "itr = np.arange(0, 10, 0.5)\n",
    "n,m = [0,0],0; exp_cat = np.array([[acc([x,y], [Pred_9325[cat_index], CAT_DOG_pred_proba_mc[cat_index]], yt[cat_index]) for x in itr] for y in itr])"
   ]
  },
  {
   "cell_type": "code",
   "execution_count": 63,
   "metadata": {
    "collapsed": false
   },
   "outputs": [],
   "source": [
    "n_cat = n"
   ]
  },
  {
   "cell_type": "code",
   "execution_count": 64,
   "metadata": {
    "collapsed": false
   },
   "outputs": [
    {
     "name": "stdout",
     "output_type": "stream",
     "text": [
      "([9.5, 9.5]). Accuracy: 0.8755. Highest Accuracy: 0.8853."
     ]
    }
   ],
   "source": [
    "n,m = [0,0],0; exp_dog = np.array([[acc([x,y], [Pred_9325[dog_index], CAT_DOG_pred_proba_mc[dog_index]], yt[dog_index]) for x in itr] for y in itr])"
   ]
  },
  {
   "cell_type": "code",
   "execution_count": 65,
   "metadata": {
    "collapsed": true
   },
   "outputs": [],
   "source": [
    "n_dog = n"
   ]
  },
  {
   "cell_type": "code",
   "execution_count": 66,
   "metadata": {
    "collapsed": false
   },
   "outputs": [
    {
     "data": {
      "text/plain": [
       "[0.5, 3.5]"
      ]
     },
     "execution_count": 66,
     "metadata": {},
     "output_type": "execute_result"
    }
   ],
   "source": [
    "n_dog"
   ]
  },
  {
   "cell_type": "code",
   "execution_count": 69,
   "metadata": {
    "collapsed": false
   },
   "outputs": [],
   "source": [
    "Pred_9325_CAT_DOG = Pred_9325.copy()\n",
    "Pred_9325_CAT_DOG[cat_index] = n_cat[0] * Pred_9325[cat_index].astype(np.float32) + n_cat[1] * CAT_DOG_pred_proba_mc[cat_index].astype(np.float32)\n",
    "Pred_9325_CAT_DOG[dog_index] = n_dog[0] * Pred_9325[dog_index].astype(np.float32) + n_dog[1] * CAT_DOG_pred_proba_mc[dog_index].astype(np.float32)"
   ]
  },
  {
   "cell_type": "code",
   "execution_count": 71,
   "metadata": {
    "collapsed": false
   },
   "outputs": [
    {
     "name": "stdout",
     "output_type": "stream",
     "text": [
      "0.9342\n",
      "[[939   4  13   7   0   0   4   1  24   8]\n",
      " [  4 966   2   1   0   1   0   0   3  23]\n",
      " [ 12   1 902  16  22  17  19   7   3   1]\n",
      " [  6   1  18 868  15  63  16   7   3   3]\n",
      " [  5   1  12  12 942   9   8  11   0   0]\n",
      " [  2   1  13  71  13 884   4   9   0   3]\n",
      " [  7   1   8  13   4   2 963   1   0   1]\n",
      " [  3   0   5  10  16   7   1 956   1   1]\n",
      " [ 14   5   4   3   0   1   1   0 966   6]\n",
      " [  6  22   1   2   0   0   1   1  11 956]]\n"
     ]
    }
   ],
   "source": [
    "print(accuracy_score(yt, Pred_9325_CAT_DOG.argmax(axis=1)))\n",
    "print(confusion_matrix(yt, Pred_9325_CAT_DOG.argmax(axis=1)))"
   ]
  },
  {
   "cell_type": "code",
   "execution_count": 85,
   "metadata": {
    "collapsed": false
   },
   "outputs": [
    {
     "name": "stdout",
     "output_type": "stream",
     "text": [
      "([7.5, 0.5, 8.0]). Accuracy: 0.9200. Highest Accuracy: 0.9336."
     ]
    },
    {
     "ename": "KeyboardInterrupt",
     "evalue": "",
     "output_type": "error",
     "traceback": [
      "\u001b[0;31m---------------------------------------------------------------------------\u001b[0m",
      "\u001b[0;31mKeyboardInterrupt\u001b[0m                         Traceback (most recent call last)",
      "\u001b[0;32m<ipython-input-85-431d1257b96b>\u001b[0m in \u001b[0;36m<module>\u001b[0;34m()\u001b[0m\n\u001b[0;32m----> 1\u001b[0;31m \u001b[0mitr\u001b[0m \u001b[0;34m=\u001b[0m \u001b[0mnp\u001b[0m\u001b[0;34m.\u001b[0m\u001b[0marange\u001b[0m\u001b[0;34m(\u001b[0m\u001b[0;36m0\u001b[0m\u001b[0;34m,\u001b[0m \u001b[0;36m10\u001b[0m\u001b[0;34m,\u001b[0m \u001b[0;36m0.5\u001b[0m\u001b[0;34m)\u001b[0m\u001b[0;34m;\u001b[0m \u001b[0mn\u001b[0m\u001b[0;34m,\u001b[0m\u001b[0mm\u001b[0m \u001b[0;34m=\u001b[0m \u001b[0;34m[\u001b[0m\u001b[0;36m0\u001b[0m\u001b[0;34m,\u001b[0m\u001b[0;36m0\u001b[0m\u001b[0;34m,\u001b[0m\u001b[0;36m0\u001b[0m\u001b[0;34m]\u001b[0m\u001b[0;34m,\u001b[0m\u001b[0;36m0\u001b[0m\u001b[0;34m;\u001b[0m \u001b[0mexp_dog\u001b[0m \u001b[0;34m=\u001b[0m \u001b[0mnp\u001b[0m\u001b[0;34m.\u001b[0m\u001b[0marray\u001b[0m\u001b[0;34m(\u001b[0m\u001b[0;34m[\u001b[0m\u001b[0macc\u001b[0m\u001b[0;34m(\u001b[0m\u001b[0;34m[\u001b[0m\u001b[0mx\u001b[0m\u001b[0;34m,\u001b[0m\u001b[0my\u001b[0m\u001b[0;34m,\u001b[0m\u001b[0mz\u001b[0m\u001b[0;34m]\u001b[0m\u001b[0;34m,\u001b[0m \u001b[0;34m[\u001b[0m\u001b[0mCNN_Xt_pred_proba\u001b[0m\u001b[0;34m,\u001b[0m \u001b[0mCAT_DOG_pred_proba_mc\u001b[0m\u001b[0;34m,\u001b[0m \u001b[0mKNN_Xt_pred_proba\u001b[0m\u001b[0;34m]\u001b[0m\u001b[0;34m,\u001b[0m \u001b[0myt\u001b[0m\u001b[0;34m)\u001b[0m \u001b[0;32mfor\u001b[0m \u001b[0mx\u001b[0m \u001b[0;32min\u001b[0m \u001b[0mitr\u001b[0m \u001b[0;32mfor\u001b[0m \u001b[0my\u001b[0m \u001b[0;32min\u001b[0m \u001b[0mitr\u001b[0m \u001b[0;32mfor\u001b[0m \u001b[0mz\u001b[0m \u001b[0;32min\u001b[0m \u001b[0mitr\u001b[0m\u001b[0;34m]\u001b[0m\u001b[0;34m)\u001b[0m\u001b[0;34m\u001b[0m\u001b[0m\n\u001b[0m",
      "\u001b[0;32m<ipython-input-85-431d1257b96b>\u001b[0m in \u001b[0;36m<listcomp>\u001b[0;34m(.0)\u001b[0m\n\u001b[0;32m----> 1\u001b[0;31m \u001b[0mitr\u001b[0m \u001b[0;34m=\u001b[0m \u001b[0mnp\u001b[0m\u001b[0;34m.\u001b[0m\u001b[0marange\u001b[0m\u001b[0;34m(\u001b[0m\u001b[0;36m0\u001b[0m\u001b[0;34m,\u001b[0m \u001b[0;36m10\u001b[0m\u001b[0;34m,\u001b[0m \u001b[0;36m0.5\u001b[0m\u001b[0;34m)\u001b[0m\u001b[0;34m;\u001b[0m \u001b[0mn\u001b[0m\u001b[0;34m,\u001b[0m\u001b[0mm\u001b[0m \u001b[0;34m=\u001b[0m \u001b[0;34m[\u001b[0m\u001b[0;36m0\u001b[0m\u001b[0;34m,\u001b[0m\u001b[0;36m0\u001b[0m\u001b[0;34m,\u001b[0m\u001b[0;36m0\u001b[0m\u001b[0;34m]\u001b[0m\u001b[0;34m,\u001b[0m\u001b[0;36m0\u001b[0m\u001b[0;34m;\u001b[0m \u001b[0mexp_dog\u001b[0m \u001b[0;34m=\u001b[0m \u001b[0mnp\u001b[0m\u001b[0;34m.\u001b[0m\u001b[0marray\u001b[0m\u001b[0;34m(\u001b[0m\u001b[0;34m[\u001b[0m\u001b[0macc\u001b[0m\u001b[0;34m(\u001b[0m\u001b[0;34m[\u001b[0m\u001b[0mx\u001b[0m\u001b[0;34m,\u001b[0m\u001b[0my\u001b[0m\u001b[0;34m,\u001b[0m\u001b[0mz\u001b[0m\u001b[0;34m]\u001b[0m\u001b[0;34m,\u001b[0m \u001b[0;34m[\u001b[0m\u001b[0mCNN_Xt_pred_proba\u001b[0m\u001b[0;34m,\u001b[0m \u001b[0mCAT_DOG_pred_proba_mc\u001b[0m\u001b[0;34m,\u001b[0m \u001b[0mKNN_Xt_pred_proba\u001b[0m\u001b[0;34m]\u001b[0m\u001b[0;34m,\u001b[0m \u001b[0myt\u001b[0m\u001b[0;34m)\u001b[0m \u001b[0;32mfor\u001b[0m \u001b[0mx\u001b[0m \u001b[0;32min\u001b[0m \u001b[0mitr\u001b[0m \u001b[0;32mfor\u001b[0m \u001b[0my\u001b[0m \u001b[0;32min\u001b[0m \u001b[0mitr\u001b[0m \u001b[0;32mfor\u001b[0m \u001b[0mz\u001b[0m \u001b[0;32min\u001b[0m \u001b[0mitr\u001b[0m\u001b[0;34m]\u001b[0m\u001b[0;34m)\u001b[0m\u001b[0;34m\u001b[0m\u001b[0m\n\u001b[0m",
      "\u001b[0;32m<ipython-input-59-92d7479f653e>\u001b[0m in \u001b[0;36macc\u001b[0;34m(W, C, y)\u001b[0m\n\u001b[1;32m      4\u001b[0m     \u001b[0;32mglobal\u001b[0m \u001b[0mm\u001b[0m\u001b[0;34m\u001b[0m\u001b[0m\n\u001b[1;32m      5\u001b[0m     \u001b[0;32mglobal\u001b[0m \u001b[0mn\u001b[0m\u001b[0;34m\u001b[0m\u001b[0m\n\u001b[0;32m----> 6\u001b[0;31m     \u001b[0m_\u001b[0m \u001b[0;34m=\u001b[0m \u001b[0maccuracy_score\u001b[0m\u001b[0;34m(\u001b[0m\u001b[0my\u001b[0m\u001b[0;34m,\u001b[0m \u001b[0mnp\u001b[0m\u001b[0;34m.\u001b[0m\u001b[0marray\u001b[0m\u001b[0;34m(\u001b[0m\u001b[0;34m[\u001b[0m\u001b[0mw\u001b[0m\u001b[0;34m*\u001b[0m\u001b[0mc\u001b[0m\u001b[0;34m.\u001b[0m\u001b[0mastype\u001b[0m\u001b[0;34m(\u001b[0m\u001b[0mnp\u001b[0m\u001b[0;34m.\u001b[0m\u001b[0mfloat32\u001b[0m\u001b[0;34m)\u001b[0m \u001b[0;32mfor\u001b[0m \u001b[0mw\u001b[0m\u001b[0;34m,\u001b[0m\u001b[0mc\u001b[0m \u001b[0;32min\u001b[0m \u001b[0mzip\u001b[0m\u001b[0;34m(\u001b[0m\u001b[0mW\u001b[0m\u001b[0;34m,\u001b[0m\u001b[0mC\u001b[0m\u001b[0;34m)\u001b[0m\u001b[0;34m]\u001b[0m\u001b[0;34m)\u001b[0m\u001b[0;34m.\u001b[0m\u001b[0msum\u001b[0m\u001b[0;34m(\u001b[0m\u001b[0maxis\u001b[0m\u001b[0;34m=\u001b[0m\u001b[0;36m0\u001b[0m\u001b[0;34m)\u001b[0m\u001b[0;34m.\u001b[0m\u001b[0margmax\u001b[0m\u001b[0;34m(\u001b[0m\u001b[0maxis\u001b[0m\u001b[0;34m=\u001b[0m\u001b[0;36m1\u001b[0m\u001b[0;34m)\u001b[0m\u001b[0;34m)\u001b[0m\u001b[0;34m\u001b[0m\u001b[0m\n\u001b[0m\u001b[1;32m      7\u001b[0m     \u001b[0;32mif\u001b[0m \u001b[0m_\u001b[0m \u001b[0;34m>\u001b[0m \u001b[0mm\u001b[0m\u001b[0;34m:\u001b[0m\u001b[0;34m\u001b[0m\u001b[0m\n\u001b[1;32m      8\u001b[0m         \u001b[0mn\u001b[0m \u001b[0;34m=\u001b[0m \u001b[0mW\u001b[0m\u001b[0;34m\u001b[0m\u001b[0m\n",
      "\u001b[0;32m<ipython-input-59-92d7479f653e>\u001b[0m in \u001b[0;36m<listcomp>\u001b[0;34m(.0)\u001b[0m\n\u001b[1;32m      4\u001b[0m     \u001b[0;32mglobal\u001b[0m \u001b[0mm\u001b[0m\u001b[0;34m\u001b[0m\u001b[0m\n\u001b[1;32m      5\u001b[0m     \u001b[0;32mglobal\u001b[0m \u001b[0mn\u001b[0m\u001b[0;34m\u001b[0m\u001b[0m\n\u001b[0;32m----> 6\u001b[0;31m     \u001b[0m_\u001b[0m \u001b[0;34m=\u001b[0m \u001b[0maccuracy_score\u001b[0m\u001b[0;34m(\u001b[0m\u001b[0my\u001b[0m\u001b[0;34m,\u001b[0m \u001b[0mnp\u001b[0m\u001b[0;34m.\u001b[0m\u001b[0marray\u001b[0m\u001b[0;34m(\u001b[0m\u001b[0;34m[\u001b[0m\u001b[0mw\u001b[0m\u001b[0;34m*\u001b[0m\u001b[0mc\u001b[0m\u001b[0;34m.\u001b[0m\u001b[0mastype\u001b[0m\u001b[0;34m(\u001b[0m\u001b[0mnp\u001b[0m\u001b[0;34m.\u001b[0m\u001b[0mfloat32\u001b[0m\u001b[0;34m)\u001b[0m \u001b[0;32mfor\u001b[0m \u001b[0mw\u001b[0m\u001b[0;34m,\u001b[0m\u001b[0mc\u001b[0m \u001b[0;32min\u001b[0m \u001b[0mzip\u001b[0m\u001b[0;34m(\u001b[0m\u001b[0mW\u001b[0m\u001b[0;34m,\u001b[0m\u001b[0mC\u001b[0m\u001b[0;34m)\u001b[0m\u001b[0;34m]\u001b[0m\u001b[0;34m)\u001b[0m\u001b[0;34m.\u001b[0m\u001b[0msum\u001b[0m\u001b[0;34m(\u001b[0m\u001b[0maxis\u001b[0m\u001b[0;34m=\u001b[0m\u001b[0;36m0\u001b[0m\u001b[0;34m)\u001b[0m\u001b[0;34m.\u001b[0m\u001b[0margmax\u001b[0m\u001b[0;34m(\u001b[0m\u001b[0maxis\u001b[0m\u001b[0;34m=\u001b[0m\u001b[0;36m1\u001b[0m\u001b[0;34m)\u001b[0m\u001b[0;34m)\u001b[0m\u001b[0;34m\u001b[0m\u001b[0m\n\u001b[0m\u001b[1;32m      7\u001b[0m     \u001b[0;32mif\u001b[0m \u001b[0m_\u001b[0m \u001b[0;34m>\u001b[0m \u001b[0mm\u001b[0m\u001b[0;34m:\u001b[0m\u001b[0;34m\u001b[0m\u001b[0m\n\u001b[1;32m      8\u001b[0m         \u001b[0mn\u001b[0m \u001b[0;34m=\u001b[0m \u001b[0mW\u001b[0m\u001b[0;34m\u001b[0m\u001b[0m\n",
      "\u001b[0;31mKeyboardInterrupt\u001b[0m: "
     ]
    }
   ],
   "source": [
    "itr = np.arange(0, 10, 0.5); n,m = [0,0,0],0; exp_dog = np.array([acc([x,y,z], [CNN_Xt_pred_proba, CAT_DOG_pred_proba_mc, KNN_Xt_pred_proba], yt) for x in itr for y in itr for z in itr])"
   ]
  },
  {
   "cell_type": "code",
   "execution_count": 98,
   "metadata": {
    "collapsed": false
   },
   "outputs": [
    {
     "name": "stdout",
     "output_type": "stream",
     "text": [
      "([9.5, 9.5]). Accuracy: 0.8744. Highest Accuracy: 0.9336. Highest Weights: [3.0, 0.5]"
     ]
    }
   ],
   "source": [
    "itr = np.arange(0, 10, 0.5); n,m = [0,0],0; exp_dog = np.array([acc([x,y], [CNN_Xt_pred_proba, CAT_DOG_pred_proba_mc], yt) for x in itr for y in itr])"
   ]
  },
  {
   "cell_type": "code",
   "execution_count": 105,
   "metadata": {
    "collapsed": false
   },
   "outputs": [
    {
     "name": "stdout",
     "output_type": "stream",
     "text": [
      "0.9336\n",
      "([9.5, 9.5]). Accuracy: 0.9320. Highest Accuracy: 0.9336. Highest Weights: [0.5, 0.0]"
     ]
    }
   ],
   "source": [
    "Pred_CNN_KNN = 3.0*CNN_Xt_pred_proba.astype(np.float32)+0.5*CAT_DOG_pred_proba_mc.astype(np.float32)\n",
    "print(accuracy_score(yt, Pred_CNN_KNN.argmax(axis=1)))\n",
    "itr = np.arange(0, 10, 0.5); n,m = [0,0],0; exp_dog = np.array([acc([x,y], [Pred_CNN_KNN, KNN_Xt_pred_proba], yt) for x in itr for y in itr])"
   ]
  },
  {
   "cell_type": "markdown",
   "metadata": {},
   "source": [
    "### Multi-Layer Perceptron"
   ]
  },
  {
   "cell_type": "code",
   "execution_count": 37,
   "metadata": {
    "collapsed": false
   },
   "outputs": [
    {
     "ename": "RuntimeError",
     "evalue": "Training diverged and returned NaN.",
     "output_type": "error",
     "traceback": [
      "\u001b[0;31m------------------------------------------------\u001b[0m",
      "\u001b[0;31mRuntimeError\u001b[0m   Traceback (most recent call last)",
      "\u001b[0;32m<ipython-input-37-d35f8b439448>\u001b[0m in \u001b[0;36m<module>\u001b[0;34m()\u001b[0m\n\u001b[1;32m      7\u001b[0m     \u001b[0mlearning_rate\u001b[0m\u001b[0;34m=\u001b[0m\u001b[0;36m0.001\u001b[0m\u001b[0;34m,\u001b[0m\u001b[0;34m\u001b[0m\u001b[0m\n\u001b[1;32m      8\u001b[0m     n_iter=25)\n\u001b[0;32m----> 9\u001b[0;31m \u001b[0mnn\u001b[0m\u001b[0;34m.\u001b[0m\u001b[0mfit\u001b[0m\u001b[0;34m(\u001b[0m\u001b[0mX_pca_200\u001b[0m\u001b[0;34m,\u001b[0m \u001b[0my\u001b[0m\u001b[0;34m)\u001b[0m\u001b[0;34m\u001b[0m\u001b[0m\n\u001b[0m\u001b[1;32m     10\u001b[0m \u001b[0;34m\u001b[0m\u001b[0m\n\u001b[1;32m     11\u001b[0m \u001b[0mPred\u001b[0m \u001b[0;34m=\u001b[0m \u001b[0mnn\u001b[0m\u001b[0;34m.\u001b[0m\u001b[0mpredict\u001b[0m\u001b[0;34m(\u001b[0m\u001b[0mXt_pca_200\u001b[0m\u001b[0;34m)\u001b[0m\u001b[0;34m\u001b[0m\u001b[0m\n",
      "\u001b[0;32m/Users/devyhia/.pyenv/versions/3.4.3/lib/python3.4/site-packages/sknn/mlp.py\u001b[0m in \u001b[0;36mfit\u001b[0;34m(self, X, y, w)\u001b[0m\n\u001b[1;32m    395\u001b[0m \u001b[0;34m\u001b[0m\u001b[0m\n\u001b[1;32m    396\u001b[0m         \u001b[0;31m# Now train based on a problem transformed into regression.\u001b[0m\u001b[0;34m\u001b[0m\u001b[0;34m\u001b[0m\u001b[0m\n\u001b[0;32m--> 397\u001b[0;31m         \u001b[0;32mreturn\u001b[0m \u001b[0msuper\u001b[0m\u001b[0;34m(\u001b[0m\u001b[0mClassifier\u001b[0m\u001b[0;34m,\u001b[0m \u001b[0mself\u001b[0m\u001b[0;34m)\u001b[0m\u001b[0;34m.\u001b[0m\u001b[0m_fit\u001b[0m\u001b[0;34m(\u001b[0m\u001b[0mX\u001b[0m\u001b[0;34m,\u001b[0m \u001b[0myp\u001b[0m\u001b[0;34m,\u001b[0m \u001b[0mw\u001b[0m\u001b[0;34m)\u001b[0m\u001b[0;34m\u001b[0m\u001b[0m\n\u001b[0m\u001b[1;32m    398\u001b[0m \u001b[0;34m\u001b[0m\u001b[0m\n\u001b[1;32m    399\u001b[0m     \u001b[0;32mdef\u001b[0m \u001b[0mpartial_fit\u001b[0m\u001b[0;34m(\u001b[0m\u001b[0mself\u001b[0m\u001b[0;34m,\u001b[0m \u001b[0mX\u001b[0m\u001b[0;34m,\u001b[0m \u001b[0my\u001b[0m\u001b[0;34m,\u001b[0m \u001b[0mclasses\u001b[0m\u001b[0;34m=\u001b[0m\u001b[0;32mNone\u001b[0m\u001b[0;34m)\u001b[0m\u001b[0;34m:\u001b[0m\u001b[0;34m\u001b[0m\u001b[0m\n",
      "\u001b[0;32m/Users/devyhia/.pyenv/versions/3.4.3/lib/python3.4/site-packages/sknn/mlp.py\u001b[0m in \u001b[0;36m_fit\u001b[0;34m(self, X, y, w)\u001b[0m\n\u001b[1;32m    246\u001b[0m                 \u001b[0;34m\"Try setting the `learning_rate` 10x lower to resolve this, for example:\\n\"\u001b[0m\u001b[0;34m\u001b[0m\u001b[0m\n\u001b[1;32m    247\u001b[0m                 \"    learning_rate=%f\" % (self.learning_rate * 0.1)))\n\u001b[0;32m--> 248\u001b[0;31m             \u001b[0;32mraise\u001b[0m \u001b[0me\u001b[0m\u001b[0;34m\u001b[0m\u001b[0m\n\u001b[0m\u001b[1;32m    249\u001b[0m \u001b[0;34m\u001b[0m\u001b[0m\n\u001b[1;32m    250\u001b[0m         \u001b[0;32mreturn\u001b[0m \u001b[0mself\u001b[0m\u001b[0;34m\u001b[0m\u001b[0m\n",
      "\u001b[0;32m/Users/devyhia/.pyenv/versions/3.4.3/lib/python3.4/site-packages/sknn/mlp.py\u001b[0m in \u001b[0;36m_fit\u001b[0;34m(self, X, y, w)\u001b[0m\n\u001b[1;32m    237\u001b[0m \u001b[0;34m\u001b[0m\u001b[0m\n\u001b[1;32m    238\u001b[0m         \u001b[0;32mtry\u001b[0m\u001b[0;34m:\u001b[0m\u001b[0;34m\u001b[0m\u001b[0m\n\u001b[0;32m--> 239\u001b[0;31m             \u001b[0mself\u001b[0m\u001b[0;34m.\u001b[0m\u001b[0m_train\u001b[0m\u001b[0;34m(\u001b[0m\u001b[0mX\u001b[0m\u001b[0;34m,\u001b[0m \u001b[0my\u001b[0m\u001b[0;34m,\u001b[0m \u001b[0mw\u001b[0m\u001b[0;34m)\u001b[0m\u001b[0;34m\u001b[0m\u001b[0m\n\u001b[0m\u001b[1;32m    240\u001b[0m         \u001b[0;32mexcept\u001b[0m \u001b[0mRuntimeError\u001b[0m \u001b[0;32mas\u001b[0m \u001b[0me\u001b[0m\u001b[0;34m:\u001b[0m\u001b[0;34m\u001b[0m\u001b[0m\n\u001b[1;32m    241\u001b[0m             log.error(\"\\n{}{}{}\\n\\n{}\\n\".format(\n",
      "\u001b[0;32m/Users/devyhia/.pyenv/versions/3.4.3/lib/python3.4/site-packages/sknn/mlp.py\u001b[0m in \u001b[0;36m_train\u001b[0;34m(self, X, y, w)\u001b[0m\n\u001b[1;32m    152\u001b[0m             \u001b[0;32mif\u001b[0m \u001b[0mavg_train_error\u001b[0m \u001b[0;32mis\u001b[0m \u001b[0;32mnot\u001b[0m \u001b[0;32mNone\u001b[0m\u001b[0;34m:\u001b[0m\u001b[0;34m\u001b[0m\u001b[0m\n\u001b[1;32m    153\u001b[0m                 \u001b[0;32mif\u001b[0m \u001b[0mmath\u001b[0m\u001b[0;34m.\u001b[0m\u001b[0misnan\u001b[0m\u001b[0;34m(\u001b[0m\u001b[0mavg_train_error\u001b[0m\u001b[0;34m)\u001b[0m\u001b[0;34m:\u001b[0m\u001b[0;34m\u001b[0m\u001b[0m\n\u001b[0;32m--> 154\u001b[0;31m                     \u001b[0;32mraise\u001b[0m \u001b[0mRuntimeError\u001b[0m\u001b[0;34m(\u001b[0m\u001b[0;34m\"Training diverged and returned NaN.\"\u001b[0m\u001b[0;34m)\u001b[0m\u001b[0;34m\u001b[0m\u001b[0m\n\u001b[0m\u001b[1;32m    155\u001b[0m \u001b[0;34m\u001b[0m\u001b[0m\n\u001b[1;32m    156\u001b[0m                 \u001b[0mbest_train_error\u001b[0m \u001b[0;34m=\u001b[0m \u001b[0mmin\u001b[0m\u001b[0;34m(\u001b[0m\u001b[0mbest_train_error\u001b[0m\u001b[0;34m,\u001b[0m \u001b[0mavg_train_error\u001b[0m\u001b[0;34m)\u001b[0m\u001b[0;34m\u001b[0m\u001b[0m\n",
      "\u001b[0;31mRuntimeError\u001b[0m: Training diverged and returned NaN."
     ]
    }
   ],
   "source": [
    "from sknn.mlp import Classifier, Layer\n",
    "\n",
    "nn = Classifier(\n",
    "    layers=[\n",
    "        Layer(\"Rectifier\", units=400),\n",
    "        Layer(\"Softmax\")],\n",
    "    learning_rate=0.001,\n",
    "    n_iter=25)\n",
    "nn.fit(X_pca_200, y)\n",
    "\n",
    "Pred = nn.predict(Xt_pca_200)\n",
    "\n",
    "print(accuracy_score(yt, Pred))\n",
    "print(confusion_matrix(yt, Pred))"
   ]
  },
  {
   "cell_type": "code",
   "execution_count": 106,
   "metadata": {
    "collapsed": true
   },
   "outputs": [],
   "source": [
    "cm = confusion_matrix(yt, CNN_Xt_pred_proba.argmax(axis=1))"
   ]
  },
  {
   "cell_type": "code",
   "execution_count": 193,
   "metadata": {
    "collapsed": false
   },
   "outputs": [
    {
     "data": {
      "text/plain": [
       "<matplotlib.text.Text at 0x1385c87f0>"
      ]
     },
     "execution_count": 193,
     "metadata": {},
     "output_type": "execute_result"
    },
    {
     "name": "stderr",
     "output_type": "stream",
     "text": [
      "/Users/devyhia/.pyenv/versions/3.4.3/lib/python3.4/site-packages/matplotlib/collections.py:590: FutureWarning: elementwise comparison failed; returning scalar instead, but in the future will perform elementwise comparison\n",
      "  if self._edgecolors == str('face'):\n"
     ]
    },
    {
     "data": {
      "image/png": "[encoded data removed]",
      "text/plain": [
       "<matplotlib.figure.Figure at 0x13859f710>"
      ]
     },
     "metadata": {},
     "output_type": "display_data"
    }
   ],
   "source": [
    "fig = plt.figure(figsize = (5,5)) # create a 5 x 5 figure \n",
    "im = plt.imshow(cm, interpolation='nearest', cmap=plt.cm.Blues)\n",
    "plt.colorbar(im, fraction=0.046, pad=0.04)\n",
    "targets = [\"airplane\",\"automobile\",\"bird\",\"cat\",\"deer\",\"dog\",\"frog\",\"horse\",\"ship\",\"truck\"]\n",
    "tick_marks = range(0,10)\n",
    "plt.xticks(tick_marks, targets, rotation=90)\n",
    "plt.yticks(tick_marks, targets)\n",
    "plt.tight_layout()\n",
    "plt.title(\"Confusion Matrix (CNN)\", y=1.025)\n",
    "plt.ylabel('True label')\n",
    "plt.xlabel('Predicted label')"
   ]
  },
  {
   "cell_type": "code",
   "execution_count": 127,
   "metadata": {
    "collapsed": false
   },
   "outputs": [
    {
     "data": {
      "text/plain": [
       "array([[936,   4,  14,   7,   1,   0,   3,   1,  24,  10],\n",
       "       [  4, 966,   2,   0,   0,   2,   0,   0,   3,  23],\n",
       "       [ 12,   1, 900,  14,  22,  19,  21,   7,   3,   1],\n",
       "       [  7,   1,  17, 840,  16,  88,  17,   8,   3,   3],\n",
       "       [  5,   1,  10,  12, 941,  12,   8,  11,   0,   0],\n",
       "       [  2,   1,  11,  66,  13, 891,   4,  10,   0,   2],\n",
       "       [  7,   1,   8,  12,   4,   3, 963,   1,   0,   1],\n",
       "       [  4,   0,   5,   9,  16,   7,   1, 957,   0,   1],\n",
       "       [ 13,   4,   5,   3,   0,   1,   1,   0, 967,   6],\n",
       "       [  4,  23,   1,   2,   0,   0,   1,   1,  10, 958]])"
      ]
     },
     "execution_count": 127,
     "metadata": {},
     "output_type": "execute_result"
    }
   ],
   "source": [
    "cm"
   ]
  },
  {
   "cell_type": "markdown",
   "metadata": {
    "collapsed": true
   },
   "source": [
    "### Difference Between CNN & CNN+KNN"
   ]
  },
  {
   "cell_type": "code",
   "execution_count": 33,
   "metadata": {
    "collapsed": false
   },
   "outputs": [
    {
     "data": {
      "text/plain": [
       "0.93330000000000002"
      ]
     },
     "execution_count": 33,
     "metadata": {},
     "output_type": "execute_result"
    }
   ],
   "source": [
    "accuracy_score(yt, CNN1_pred_proba.argmax(axis=1))"
   ]
  },
  {
   "cell_type": "code",
   "execution_count": 35,
   "metadata": {
    "collapsed": false
   },
   "outputs": [
    {
     "name": "stdout",
     "output_type": "stream",
     "text": [
      "([9.75, 9.75]). Accuracy: 0.9200. Highest Accuracy: 0.9315. Highest Weights: [2.25, 0.5]"
     ]
    }
   ],
   "source": [
    "itr = np.arange(0, 10, 0.25); n,m = [0,0],0; exp_knn = np.array([[acc([x,y], [CNN2_pred_proba, KNN_Xt_pred_proba], yt) for x in itr] for y in itr])"
   ]
  },
  {
   "cell_type": "code",
   "execution_count": 24,
   "metadata": {
    "collapsed": false,
    "scrolled": true
   },
   "outputs": [
    {
     "name": "stdout",
     "output_type": "stream",
     "text": [
      "([9.75, 9.75]). Accuracy: 0.9233. Highest Accuracy: 0.9346. Highest Weights: [1.0, 0.25]"
     ]
    }
   ],
   "source": [
    "itr = np.arange(0, 10, 0.25); n,m = [0,0],0; exp_knn = np.array([[acc([x,y], [CNN1_pred_proba, KNN_Xt_pred_proba], yt) for x in itr] for y in itr])"
   ]
  },
  {
   "cell_type": "code",
   "execution_count": 25,
   "metadata": {
    "collapsed": false
   },
   "outputs": [
    {
     "name": "stdout",
     "output_type": "stream",
     "text": [
      "([9.75, 9.75]). Accuracy: 0.9209. Highest Accuracy: 0.9297. Highest Weights: [2.0, 0.25]"
     ]
    }
   ],
   "source": [
    "itr = np.arange(0, 10, 0.25); n,m = [0,0],0; exp_knn = np.array([[acc([x,y], [CNN3_pred_proba, KNN_Xt_pred_proba], yt) for x in itr] for y in itr])"
   ]
  },
  {
   "cell_type": "code",
   "execution_count": 26,
   "metadata": {
    "collapsed": false
   },
   "outputs": [
    {
     "name": "stdout",
     "output_type": "stream",
     "text": [
      "([9.75, 9.75]). Accuracy: 0.9215. Highest Accuracy: 0.9325. Highest Weights: [2.25, 0.5]"
     ]
    }
   ],
   "source": [
    "itr = np.arange(0, 10, 0.25); n,m = [0,0],0; exp_knn = np.array([[acc([x,y], [CNN4_pred_proba, KNN_Xt_pred_proba], yt) for x in itr] for y in itr])"
   ]
  },
  {
   "cell_type": "code",
   "execution_count": 27,
   "metadata": {
    "collapsed": false
   },
   "outputs": [
    {
     "name": "stdout",
     "output_type": "stream",
     "text": [
      "([9.75, 9.75]). Accuracy: 0.4822. Highest Accuracy: 0.4958. Highest Weights: [0.75, 0.25]"
     ]
    }
   ],
   "source": [
    "itr = np.arange(0, 10, 0.25); n,m = [0,0],0; exp_knn = np.array([[acc([x,y], [GRB_Xt_pred_proba, KNN_Xt_pred_proba], yt) for x in itr] for y in itr])"
   ]
  },
  {
   "cell_type": "code",
   "execution_count": 29,
   "metadata": {
    "collapsed": false
   },
   "outputs": [
    {
     "name": "stdout",
     "output_type": "stream",
     "text": [
      "0.478\n"
     ]
    }
   ],
   "source": [
    "print(accuracy_score(yt, GRB_Xt_pred_proba.argmax(axis=1)))"
   ]
  },
  {
   "cell_type": "code",
   "execution_count": 30,
   "metadata": {
    "collapsed": false
   },
   "outputs": [
    {
     "name": "stdout",
     "output_type": "stream",
     "text": [
      "([9.75, 9.75]). Accuracy: 0.4537. Highest Accuracy: 0.5080. Highest Weights: [8.25, 1.0]"
     ]
    }
   ],
   "source": [
    "itr = np.arange(0, 10, 0.25); n,m = [0,0],0; exp_knn = np.array([[acc([x,y], [RFC_Xt_pred_proba, KNN_Xt_pred_proba], yt) for x in itr] for y in itr])"
   ]
  },
  {
   "cell_type": "code",
   "execution_count": 31,
   "metadata": {
    "collapsed": false
   },
   "outputs": [
    {
     "name": "stdout",
     "output_type": "stream",
     "text": [
      "0.4914\n"
     ]
    }
   ],
   "source": [
    "print(accuracy_score(yt, RFC_Xt_pred_proba.argmax(axis=1)))"
   ]
  },
  {
   "cell_type": "code",
   "execution_count": 32,
   "metadata": {
    "collapsed": false
   },
   "outputs": [
    {
     "name": "stdout",
     "output_type": "stream",
     "text": [
      "([9.75, 9.75]). Accuracy: 0.9291. Highest Accuracy: 0.9338. Highest Weights: [3.75, 0.5]"
     ]
    }
   ],
   "source": [
    "itr = np.arange(0, 10, 0.25); n,m = [0,0],0; exp_knn = np.array([[acc([x,y], [CNN1_pred_proba, GRB_Xt_pred_proba], yt) for x in itr] for y in itr])"
   ]
  },
  {
   "cell_type": "code",
   "execution_count": 34,
   "metadata": {
    "collapsed": false
   },
   "outputs": [
    {
     "name": "stdout",
     "output_type": "stream",
     "text": [
      "([9.75, 9.75]). Accuracy: 0.9265. Highest Accuracy: 0.9315. Highest Weights: [4.0, 1.25]"
     ]
    }
   ],
   "source": [
    "itr = np.arange(0, 10, 0.25); n,m = [0,0],0; exp_knn = np.array([[acc([x,y], [CNN2_pred_proba, GRB_Xt_pred_proba], yt) for x in itr] for y in itr])"
   ]
  },
  {
   "cell_type": "code",
   "execution_count": 36,
   "metadata": {
    "collapsed": false
   },
   "outputs": [
    {
     "name": "stdout",
     "output_type": "stream",
     "text": [
      "([9.75, 9.75]). Accuracy: 0.9273. Highest Accuracy: 0.9298. Highest Weights: [0.5, 0.25]"
     ]
    }
   ],
   "source": [
    "itr = np.arange(0, 10, 0.25); n,m = [0,0],0; exp_knn = np.array([[acc([x,y], [CNN3_pred_proba, GRB_Xt_pred_proba], yt) for x in itr] for y in itr])"
   ]
  },
  {
   "cell_type": "code",
   "execution_count": 37,
   "metadata": {
    "collapsed": false
   },
   "outputs": [
    {
     "name": "stdout",
     "output_type": "stream",
     "text": [
      "([9.75, 9.75]). Accuracy: 0.9266. Highest Accuracy: 0.9319. Highest Weights: [0.25, 0.0]"
     ]
    }
   ],
   "source": [
    "itr = np.arange(0, 10, 0.25); n,m = [0,0],0; exp_knn = np.array([[acc([x,y], [CNN4_pred_proba, GRB_Xt_pred_proba], yt) for x in itr] for y in itr])"
   ]
  },
  {
   "cell_type": "code",
   "execution_count": null,
   "metadata": {
    "collapsed": true
   },
   "outputs": [],
   "source": [
    "print(accuracy_score(yt, Pred.argmax(axis=1)))"
   ]
  },
  {
   "cell_type": "code",
   "execution_count": 46,
   "metadata": {
    "collapsed": false
   },
   "outputs": [
    {
     "name": "stdout",
     "output_type": "stream",
     "text": [
      "([9.5, 9.5]). Accuracy: 0.9377. Highest Accuracy: 0.9391. Highest Weights: [5.5, 3.5]"
     ]
    }
   ],
   "source": [
    "itr = np.arange(0, 10, 0.5); n,m = [0,0],0; exp_knn = np.array([[acc([x,y], [CNN1_pred_proba, CNN2_pred_proba], yt) for x in itr] for y in itr])"
   ]
  },
  {
   "cell_type": "code",
   "execution_count": 47,
   "metadata": {
    "collapsed": true
   },
   "outputs": [],
   "source": [
    "CNN12 = n[0] * CNN1_pred_proba.astype(np.float32) + n[1] * CNN2_pred_proba.astype(np.float32)"
   ]
  },
  {
   "cell_type": "code",
   "execution_count": 48,
   "metadata": {
    "collapsed": false,
    "scrolled": true
   },
   "outputs": [
    {
     "name": "stdout",
     "output_type": "stream",
     "text": [
      "0.9391\n"
     ]
    }
   ],
   "source": [
    "print(accuracy_score(yt, CNN12.argmax(axis=1)))"
   ]
  },
  {
   "cell_type": "code",
   "execution_count": 49,
   "metadata": {
    "collapsed": false,
    "scrolled": true
   },
   "outputs": [
    {
     "name": "stdout",
     "output_type": "stream",
     "text": [
      "([9.5, 9.5]). Accuracy: 0.9391. Highest Accuracy: 0.9394. Highest Weights: [2.5, 9.5]"
     ]
    }
   ],
   "source": [
    "itr = np.arange(0, 10, 0.5); n,m = [0,0],0; exp_knn = np.array([[acc([x,y], [CNN12, CNN3_pred_proba], yt) for x in itr] for y in itr])"
   ]
  },
  {
   "cell_type": "code",
   "execution_count": null,
   "metadata": {
    "collapsed": true
   },
   "outputs": [],
   "source": [
    "itr = np.arange(0, 10, 0.5); n,m = [0,0],0; exp_knn = np.array([[acc([x,y], [CNN12, CNN3_pred_proba], yt) for x in itr] for y in itr])"
   ]
  },
  {
   "cell_type": "code",
   "execution_count": 50,
   "metadata": {
    "collapsed": true
   },
   "outputs": [],
   "source": [
    "CNN123 = n[0] * CNN12 + n[1] * CNN3_pred_proba.astype(np.float32)"
   ]
  },
  {
   "cell_type": "code",
   "execution_count": 51,
   "metadata": {
    "collapsed": false
   },
   "outputs": [
    {
     "name": "stdout",
     "output_type": "stream",
     "text": [
      "([9.5, 9.5]). Accuracy: 0.9395. Highest Accuracy: 0.9399. Highest Weights: [0.5, 5.5]"
     ]
    }
   ],
   "source": [
    "itr = np.arange(0, 10, 0.5); n,m = [0,0],0; exp_knn = np.array([[acc([x,y], [CNN123, CNN4_pred_proba], yt) for x in itr] for y in itr])"
   ]
  },
  {
   "cell_type": "code",
   "execution_count": 52,
   "metadata": {
    "collapsed": false
   },
   "outputs": [
    {
     "data": {
      "text/plain": [
       "[0.5, 5.5]"
      ]
     },
     "execution_count": 52,
     "metadata": {},
     "output_type": "execute_result"
    }
   ],
   "source": [
    "CNN_"
   ]
  },
  {
   "cell_type": "code",
   "execution_count": 54,
   "metadata": {
    "collapsed": false
   },
   "outputs": [
    {
     "data": {
      "text/plain": [
       "array([3, 8, 8, ..., 5, 1, 7])"
      ]
     },
     "execution_count": 54,
     "metadata": {},
     "output_type": "execute_result"
    }
   ],
   "source": [
    "CNN_FUS.argmax(axis=1)\n",
    "CNN_"
   ]
  },
  {
   "cell_type": "code",
   "execution_count": 117,
   "metadata": {
    "collapsed": false
   },
   "outputs": [
    {
     "name": "stdout",
     "output_type": "stream",
     "text": [
      "([9.75, 9.75]). Accuracy: 0.9330. Highest Accuracy: 0.9340. Highest Weights: [1.25, 0.75]"
     ]
    }
   ],
   "source": [
    "itr = np.arange(0, 10, 0.25); n,m = [0,0],0; exp_knn = np.array([[acc([x,y], [CNN1_pred_proba, RFC_Xt_pred_proba], yt) for x in itr] for y in itr])"
   ]
  },
  {
   "cell_type": "code",
   "execution_count": 118,
   "metadata": {
    "collapsed": false
   },
   "outputs": [
    {
     "name": "stdout",
     "output_type": "stream",
     "text": [
      "([9.75, 9.75]). Accuracy: 0.9307. Highest Accuracy: 0.9316. Highest Weights: [0.75, 0.25]"
     ]
    }
   ],
   "source": [
    "itr = np.arange(0, 10, 0.25); n,m = [0,0],0; exp_knn = np.array([[acc([x,y], [CNN2_pred_proba, RFC_Xt_pred_proba], yt) for x in itr] for y in itr])"
   ]
  },
  {
   "cell_type": "code",
   "execution_count": 119,
   "metadata": {
    "collapsed": false
   },
   "outputs": [
    {
     "name": "stdout",
     "output_type": "stream",
     "text": [
      "([9.75, 9.75]). Accuracy: 0.9282. Highest Accuracy: 0.9298. Highest Weights: [3.25, 0.5]"
     ]
    }
   ],
   "source": [
    "itr = np.arange(0, 10, 0.25); n,m = [0,0],0; exp_knn = np.array([[acc([x,y], [CNN3_pred_proba, RFC_Xt_pred_proba], yt) for x in itr] for y in itr])"
   ]
  },
  {
   "cell_type": "code",
   "execution_count": 120,
   "metadata": {
    "collapsed": false
   },
   "outputs": [
    {
     "name": "stdout",
     "output_type": "stream",
     "text": [
      "([9.75, 9.75]). Accuracy: 0.9313. Highest Accuracy: 0.9321. Highest Weights: [7.25, 3.75]"
     ]
    }
   ],
   "source": [
    "itr = np.arange(0, 10, 0.25); n,m = [0,0],0; exp_knn = np.array([[acc([x,y], [CNN4_pred_proba, RFC_Xt_pred_proba], yt) for x in itr] for y in itr])"
   ]
  },
  {
   "cell_type": "code",
   "execution_count": 121,
   "metadata": {
    "collapsed": false
   },
   "outputs": [
    {
     "name": "stdout",
     "output_type": "stream",
     "text": [
      "([9.75, 9.75]). Accuracy: 0.9368. Highest Accuracy: 0.9399. Highest Weights: [0.25, 0.0]"
     ]
    }
   ],
   "source": [
    "itr = np.arange(0, 10, 0.25); n,m = [0,0],0; exp_knn = np.array([[acc([x,y], [CNN_FUS, RFC_Xt_pred_proba], yt) for x in itr] for y in itr])"
   ]
  },
  {
   "cell_type": "code",
   "execution_count": 125,
   "metadata": {
    "collapsed": false
   },
   "outputs": [
    {
     "name": "stdout",
     "output_type": "stream",
     "text": [
      "([9.75, 9.75]). Accuracy: 0.9271. Highest Accuracy: 0.9403. Highest Weights: [3.75, 0.25]"
     ]
    }
   ],
   "source": [
    "itr = np.arange(0, 10, 0.25); n,m = [0,0],0; exp_knn = np.array([[acc([x,y], [CNN_FUS, KNN_Xt_pred_proba], yt) for x in itr] for y in itr])"
   ]
  },
  {
   "cell_type": "code",
   "execution_count": null,
   "metadata": {
    "collapsed": true
   },
   "outputs": [],
   "source": []
  }
 ],
 "metadata": {
  "kernelspec": {
   "display_name": "Python 3",
   "language": "python",
   "name": "python3"
  },
  "language_info": {
   "codemirror_mode": {
    "name": "ipython",
    "version": 3
   },
   "file_extension": ".py",
   "mimetype": "text/x-python",
   "name": "python",
   "nbconvert_exporter": "python",
   "pygments_lexer": "ipython3",
   "version": "3.4.3"
  }
 },
 "nbformat": 4,
 "nbformat_minor": 0
}
