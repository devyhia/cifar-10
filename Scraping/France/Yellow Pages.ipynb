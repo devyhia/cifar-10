{
 "cells": [
  {
   "cell_type": "code",
   "execution_count": 20,
   "metadata": {
    "collapsed": true
   },
   "outputs": [],
   "source": [
    "import pandas as pd\n",
    "import json\n",
    "import re\n",
    "from lxml import html\n",
    "import http.client\n",
    "import threading\n",
    "import urllib"
   ]
  },
  {
   "cell_type": "code",
   "execution_count": 3,
   "metadata": {
    "collapsed": true
   },
   "outputs": [],
   "source": [
    "df_french_cities = pd.read_json(\"french_cities.json\", orient='records')"
   ]
  },
  {
   "cell_type": "code",
   "execution_count": 5,
   "metadata": {
    "collapsed": false
   },
   "outputs": [],
   "source": [
    "df_french_cities['translators_count'] = 0"
   ]
  },
  {
   "cell_type": "code",
   "execution_count": 24,
   "metadata": {
    "collapsed": true
   },
   "outputs": [],
   "source": [
    "def count_per_location(city):    \n",
    "    conn = http.client.HTTPConnection(\"www.pagesjaunes.fr\")\n",
    "\n",
    "    headers = {\n",
    "        'cache-control': \"no-cache\",\n",
    "        'postman-token': \"c7f9b543-7df3-7850-3bb2-81cfbb209da0\"\n",
    "        }\n",
    "\n",
    "    conn.request(\"GET\", \"/annuaire/chercherlespros?quoiqui=Traduction&ou={ou}&proximite=0\".format(ou=urllib.parse.quote(city)), headers=headers)\n",
    "    \n",
    "    try:\n",
    "        res = conn.getresponse()\n",
    "        data = res.read()\n",
    "        body = data.decode(\"latin-1\")\n",
    "\n",
    "        tree = html.fromstring(body)\n",
    "        elem = tree.xpath('//strong[@id=\"SEL-nbresultat\"]/text()')\n",
    "        count = int(elem[0].replace(' ', ''))\n",
    "    except Exception as e:\n",
    "        print(e)\n",
    "        print(body)\n",
    "        if 'elem' in locals():\n",
    "            print(elem)\n",
    "        count = 0\n",
    "    \n",
    "    return count"
   ]
  },
  {
   "cell_type": "code",
   "execution_count": 25,
   "metadata": {
    "collapsed": false
   },
   "outputs": [
    {
     "name": "stdout",
     "output_type": "stream",
     "text": [
      "100.00% ... Thionville ... 4057 Translators."
     ]
    }
   ],
   "source": [
    "for idx, elm in df_french_cities.iterrows():\n",
    "    df_french_cities.loc[idx, 'translators_count'] = count_per_location(elm['city'])\n",
    "    completion = 100 * (idx+1)/df_french_cities.shape[0]\n",
    "    print(\"\\r{0:.2f}% ... {city} ... {count} Translators.\".format(\n",
    "            completion,\n",
    "            city=elm['city'],\n",
    "            count=df_french_cities['translators_count'].sum()\n",
    "        ), end=\"\")"
   ]
  },
  {
   "cell_type": "code",
   "execution_count": 27,
   "metadata": {
    "collapsed": false
   },
   "outputs": [],
   "source": [
    "df_french_cities.to_json(\"french_cities_translators_count.json\", orient=\"records\")"
   ]
  },
  {
   "cell_type": "code",
   "execution_count": null,
   "metadata": {
    "collapsed": true
   },
   "outputs": [],
   "source": []
  }
 ],
 "metadata": {
  "kernelspec": {
   "display_name": "Python 3",
   "language": "python",
   "name": "python3"
  },
  "language_info": {
   "codemirror_mode": {
    "name": "ipython",
    "version": 3
   },
   "file_extension": ".py",
   "mimetype": "text/x-python",
   "name": "python",
   "nbconvert_exporter": "python",
   "pygments_lexer": "ipython3",
   "version": "3.4.3"
  }
 },
 "nbformat": 4,
 "nbformat_minor": 0
}
