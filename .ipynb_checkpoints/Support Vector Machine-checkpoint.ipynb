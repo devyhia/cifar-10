{
 "cells": [
  {
   "cell_type": "markdown",
   "metadata": {},
   "source": [
    "## Support Vector Machines"
   ]
  },
  {
   "cell_type": "code",
   "execution_count": 1,
   "metadata": {
    "collapsed": true
   },
   "outputs": [],
   "source": [
    "from init import *"
   ]
  },
  {
   "cell_type": "code",
   "execution_count": 11,
   "metadata": {
    "collapsed": true
   },
   "outputs": [],
   "source": [
    "from sklearn.linear_model import LinearRegression\n",
    "from sklearn.linear_model import LogisticRegression\n",
    "from sklearn.tree import DecisionTreeClassifier\n",
    "import sklearn.svm as svm\n",
    "from sklearn import metrics\n",
    "from sklearn import datasets\n",
    "from sklearn.decomposition import PCA"
   ]
  },
  {
   "cell_type": "code",
   "execution_count": 3,
   "metadata": {
    "collapsed": true
   },
   "outputs": [],
   "source": [
    "%matplotlib inline"
   ]
  },
  {
   "cell_type": "code",
   "execution_count": 4,
   "metadata": {
    "collapsed": true
   },
   "outputs": [],
   "source": [
    "X = train_features.reshape(50000, 3*32*32)\n",
    "Xt = test_features.reshape(10000, 3*32*32)\n",
    "y = train_labels.flatten()s\n",
    "yt = test_labels.flatten()"
   ]
  },
  {
   "cell_type": "code",
   "execution_count": 12,
   "metadata": {
    "collapsed": true
   },
   "outputs": [],
   "source": [
    "def SVM_SVC(_X=None, _Xt=None):\n",
    "    if _X is None:\n",
    "        _X = X\n",
    "    \n",
    "    if _Xt is None:\n",
    "        _Xt = Xt\n",
    "    \n",
    "    msg(\"[SVM SVC] Training\")\n",
    "    svc = svm.SVC(verbose=True)\n",
    "    svc.fit(X, y)\n",
    "    done()\n",
    "    \n",
    "    msg(\"[SVM SVC] Training Accuracy\")\n",
    "    X_pred = svc.predict(X)\n",
    "    msg(metrics.accuracy_score(y, X_pred))\n",
    "    done()\n",
    "    \n",
    "    msg(\"[SVM SVC] Testing Accuracy\")\n",
    "    Xt_pred = svc.predict(Xt)\n",
    "    msg(metrics.accuracy_score(yt, Xt_pred))\n",
    "    done()"
   ]
  },
  {
   "cell_type": "code",
   "execution_count": null,
   "metadata": {
    "collapsed": false
   },
   "outputs": [
    {
     "name": "stdout",
     "output_type": "stream",
     "text": [
      "[SVM SVC] Training ... [LibSVM]"
     ]
    }
   ],
   "source": [
    "SVM_SVC()"
   ]
  },
  {
   "cell_type": "code",
   "execution_count": null,
   "metadata": {
    "collapsed": true
   },
   "outputs": [],
   "source": [
    "svc = svm.SVC(verbose=True)\n",
    "svc.fit(X, y)"
   ]
  }
 ],
 "metadata": {
  "kernelspec": {
   "display_name": "Python 3",
   "language": "python",
   "name": "python3"
  },
  "language_info": {
   "codemirror_mode": {
    "name": "ipython",
    "version": 3
   },
   "file_extension": ".py",
   "mimetype": "text/x-python",
   "name": "python",
   "nbconvert_exporter": "python",
   "pygments_lexer": "ipython3",
   "version": "3.4.3"
  }
 },
 "nbformat": 4,
 "nbformat_minor": 1
}
