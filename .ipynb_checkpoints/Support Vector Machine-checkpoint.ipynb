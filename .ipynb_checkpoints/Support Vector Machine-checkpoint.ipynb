{
 "cells": [
  {
   "cell_type": "markdown",
   "metadata": {},
   "source": [
    "## Support Vector Machines"
   ]
  },
  {
   "cell_type": "code",
   "execution_count": 86,
   "metadata": {
    "collapsed": true
   },
   "outputs": [],
   "source": [
    "from init import *"
   ]
  },
  {
   "cell_type": "code",
   "execution_count": 87,
   "metadata": {
    "collapsed": true
   },
   "outputs": [],
   "source": [
    "from sklearn.linear_model import LinearRegression\n",
    "from sklearn.linear_model import LogisticRegression\n",
    "from sklearn.tree import DecisionTreeClassifier\n",
    "import sklearn.svm as svm\n",
    "from sklearn import metrics\n",
    "from sklearn import datasets\n",
    "from sklearn.decomposition import PCA\n",
    "import pandas as pd"
   ]
  },
  {
   "cell_type": "code",
   "execution_count": 88,
   "metadata": {
    "collapsed": true
   },
   "outputs": [],
   "source": [
    "%matplotlib inline"
   ]
  },
  {
   "cell_type": "code",
   "execution_count": 89,
   "metadata": {
    "collapsed": false
   },
   "outputs": [],
   "source": [
    "X = train_features.reshape(50000, 3*32*32)\n",
    "Xt = test_features.reshape(10000, 3*32*32)\n",
    "y = train_labels.flatten()\n",
    "yt = test_labels.flatten()"
   ]
  },
  {
   "cell_type": "code",
   "execution_count": 10,
   "metadata": {
    "collapsed": true
   },
   "outputs": [],
   "source": [
    "def SVM_SVC(_X=None, _Xt=None):\n",
    "    if _X is None:\n",
    "        _X = X\n",
    "    \n",
    "    if _Xt is None:\n",
    "        _Xt = Xt\n",
    "    \n",
    "    msg(\"[SVM SVC] Training\")\n",
    "    svc = svm.SVC(verbose=True)\n",
    "    svc.fit(X, y)\n",
    "    done()\n",
    "    \n",
    "    msg(\"[SVM SVC] Training Accuracy\")\n",
    "    X_pred = svc.predict(X)\n",
    "    msg(metrics.accuracy_score(y, X_pred))\n",
    "    done()\n",
    "    \n",
    "    msg(\"[SVM SVC] Testing Accuracy\")\n",
    "    Xt_pred = svc.predict(Xt)\n",
    "    msg(metrics.accuracy_score(yt, Xt_pred))\n",
    "    done()"
   ]
  },
  {
   "cell_type": "code",
   "execution_count": null,
   "metadata": {
    "collapsed": false
   },
   "outputs": [
    {
     "name": "stdout",
     "output_type": "stream",
     "text": [
      "[SVM SVC] Training ... [LibSVM]"
     ]
    }
   ],
   "source": [
    "SVM_SVC()"
   ]
  },
  {
   "cell_type": "raw",
   "metadata": {},
   "source": [
    "Results:\n",
    "========\n",
    "    [SVM SVC 2] Training ... done.\n",
    "    [SVM SVC 2] Training Accuracy ... 0.10038 ... done.\n",
    "    [SVM SVC 2] Testing Accuracy ... 0.1 ... done.\n",
    "    [SVM SVC 3] Training ... done.\n",
    "    [SVM SVC 3] Training Accuracy ... 0.10056 ... done.\n",
    "    [SVM SVC 3] Testing Accuracy ... 0.1 ... done.\n",
    "    [SVM SVC 4] Training ... done.\n",
    "    [SVM SVC 4] Training Accuracy ... 0.10074 ... done.\n",
    "    [SVM SVC 4] Testing Accuracy ... 0.1 ... done.\n",
    "    [SVM SVC 5] Training ... done.\n",
    "    [SVM SVC 5] Training Accuracy ... 0.10094 ... done.\n",
    "    [SVM SVC 5] Testing Accuracy ... 0.1 ... done.\n",
    "    [SVM SVC 6] Training ... done.\n",
    "    [SVM SVC 6] Training Accuracy ... 0.10114 ... done.\n",
    "    [SVM SVC 6] Testing Accuracy ... 0.1 ... done.\n",
    "    [SVM SVC 100] Training ... done.\n",
    "    [SVM SVC 100] Training Accuracy ... 0.12302 ... done.\n",
    "    [SVM SVC 100] Testing Accuracy ... 0.1053 ... done.\n",
    "    [SVM SVC 500] Training ... done.\n",
    "    [SVM SVC 500] Training Accuracy ... 0.20292 ... done.\n",
    "    [SVM SVC 500] Testing Accuracy ... 0.1146 ... done.\n",
    "    [SVM SVC 1000] Training ... done.\n",
    "    [SVM SVC 1000] Training Accuracy ... 0.29582 ... done.\n",
    "    [SVM SVC 1000] Testing Accuracy ... 0.1207 ... done.\n",
    "    [SVM SVC 2000] Training ... done.\n",
    "    [SVM SVC 2000] Training Accuracy ... 0.47636 ... done.\n",
    "    [SVM SVC 2000] Testing Accuracy ... 0.1298 ... done.\n",
    "    [SVM SVC 3000] Training ... done.\n",
    "    [SVM SVC 3000] Training Accuracy ... 0.65352 ... done.\n",
    "    [SVM SVC 3000] Testing Accuracy ... 0.1372 ... done.\n",
    "    [SVM SVC -1] Training ... done.\n",
    "    [SVM SVC -1] Training Accuracy ... 1.0 ... done.\n",
    "    [SVM SVC -1] Testing Accuracy ... 0.1477 ... done."
   ]
  },
  {
   "cell_type": "code",
   "execution_count": null,
   "metadata": {
    "collapsed": true
   },
   "outputs": [],
   "source": [
    "X"
   ]
  },
  {
   "cell_type": "code",
   "execution_count": null,
   "metadata": {
    "collapsed": true
   },
   "outputs": [],
   "source": [
    "svc = svm.SVC(verbose=True)\n",
    "svc.fit(X, y)"
   ]
  },
  {
   "cell_type": "code",
   "execution_count": 6,
   "metadata": {
    "collapsed": false
   },
   "outputs": [
    {
     "data": {
      "text/html": [
       "<div>\n",
       "<table border=\"1\" class=\"dataframe\">\n",
       "  <thead>\n",
       "    <tr style=\"text-align: right;\">\n",
       "      <th></th>\n",
       "      <th>Iterations</th>\n",
       "      <th>Accuracy</th>\n",
       "    </tr>\n",
       "  </thead>\n",
       "  <tbody>\n",
       "    <tr>\n",
       "      <th>0</th>\n",
       "      <td>2</td>\n",
       "      <td>10.00</td>\n",
       "    </tr>\n",
       "    <tr>\n",
       "      <th>1</th>\n",
       "      <td>3</td>\n",
       "      <td>10.00</td>\n",
       "    </tr>\n",
       "    <tr>\n",
       "      <th>2</th>\n",
       "      <td>100</td>\n",
       "      <td>10.53</td>\n",
       "    </tr>\n",
       "    <tr>\n",
       "      <th>3</th>\n",
       "      <td>500</td>\n",
       "      <td>11.46</td>\n",
       "    </tr>\n",
       "    <tr>\n",
       "      <th>4</th>\n",
       "      <td>1000</td>\n",
       "      <td>12.07</td>\n",
       "    </tr>\n",
       "    <tr>\n",
       "      <th>5</th>\n",
       "      <td>2000</td>\n",
       "      <td>12.98</td>\n",
       "    </tr>\n",
       "    <tr>\n",
       "      <th>6</th>\n",
       "      <td>3000</td>\n",
       "      <td>13.72</td>\n",
       "    </tr>\n",
       "    <tr>\n",
       "      <th>7</th>\n",
       "      <td>$\\infty$ (-1)</td>\n",
       "      <td>14.77</td>\n",
       "    </tr>\n",
       "  </tbody>\n",
       "</table>\n",
       "</div>"
      ],
      "text/plain": [
       "      Iterations  Accuracy\n",
       "0              2     10.00\n",
       "1              3     10.00\n",
       "2            100     10.53\n",
       "3            500     11.46\n",
       "4           1000     12.07\n",
       "5           2000     12.98\n",
       "6           3000     13.72\n",
       "7  $\\infty$ (-1)     14.77"
      ]
     },
     "execution_count": 6,
     "metadata": {},
     "output_type": "execute_result"
    }
   ],
   "source": [
    "res = pd.DataFrame([\n",
    "        [ '2', 10.00 ],\n",
    "        [ '3', 10.00 ],\n",
    "#         [ '4', 10.00 ],\n",
    "#         [ '5', 10.00 ],\n",
    "#         [ '6', 10.00 ],\n",
    "        [ '100', 10.53 ],\n",
    "        [ '500', 11.46 ],\n",
    "        [ '1000', 12.07 ],\n",
    "        [ '2000', 12.98 ],\n",
    "        [ '3000', 13.72 ],\n",
    "        [ '$\\infty$ (-1)', 14.77 ]\n",
    "    ], columns=['Iterations', 'Accuracy'])\n",
    "res"
   ]
  },
  {
   "cell_type": "code",
   "execution_count": 7,
   "metadata": {
    "collapsed": false
   },
   "outputs": [
    {
     "name": "stdout",
     "output_type": "stream",
     "text": [
      "      Iterations  Accuracy\n",
      "0              2     10.00\n",
      "1              3     10.00\n",
      "2            100     10.53\n",
      "3            500     11.46\n",
      "4           1000     12.07\n",
      "5           2000     12.98\n",
      "6           3000     13.72\n",
      "7  $\\infty$ (-1)     14.77\n"
     ]
    }
   ],
   "source": [
    "print(res)"
   ]
  },
  {
   "cell_type": "code",
   "execution_count": 8,
   "metadata": {
    "collapsed": false
   },
   "outputs": [
    {
     "data": {
      "text/plain": [
       "<matplotlib.text.Text at 0x7fa8f5c90278>"
      ]
     },
     "execution_count": 8,
     "metadata": {},
     "output_type": "execute_result"
    },
    {
     "data": {
      "image/png": "[encoded data removed]",
      "text/plain": [
       "<matplotlib.figure.Figure at 0x7fa8f5ce3080>"
      ]
     },
     "metadata": {},
     "output_type": "display_data"
    }
   ],
   "source": [
    "ax = res.plot(x='Iterations', y='Accuracy', figsize=(10, 7))\n",
    "ax.set_ylim(9, 20)\n",
    "ax.set_ylabel('Accuracy over # of Iterations')\n",
    "ax.set_title('Linear Support Vector Machines (LSVM) Performance on CIFAR-10', y=1.03, fontdict={'fontsize': 15})"
   ]
  },
  {
   "cell_type": "markdown",
   "metadata": {},
   "source": [
    "### Result\n",
    "Linear Support Vector Machines (SVMs) are performing very poorly on the given problem. Maybe other kernels prove to be better."
   ]
  },
  {
   "cell_type": "markdown",
   "metadata": {
    "collapsed": true
   },
   "source": [
    "## Polynomial Support Verctor Machines"
   ]
  },
  {
   "cell_type": "code",
   "execution_count": 11,
   "metadata": {
    "collapsed": true
   },
   "outputs": [],
   "source": [
    "def SVM_SVC_POLY(_X=None, _Xt=None, I=2):\n",
    "    if _X is None:\n",
    "        _X = X\n",
    "    \n",
    "    if _Xt is None:\n",
    "        _Xt = Xt\n",
    "    \n",
    "    msg(\"[SVM POLY %d] Training\" %I)\n",
    "    svc = svm.SVC(kernel='poly', max_iter=I)\n",
    "    svc.fit(X, y)\n",
    "    done()\n",
    "    \n",
    "    msg(\"[SVM POLY %d] Training Accuracy\"%I)\n",
    "    X_pred = svc.predict(X)\n",
    "    msg(metrics.accuracy_score(y, X_pred))\n",
    "    done()\n",
    "    \n",
    "    msg(\"[SVM POLY %d] Testing Accuracy\"%I)\n",
    "    Xt_pred = svc.predict(Xt)\n",
    "    msg(metrics.accuracy_score(yt, Xt_pred))\n",
    "    done()"
   ]
  },
  {
   "cell_type": "code",
   "execution_count": 7,
   "metadata": {
    "collapsed": false
   },
   "outputs": [
    {
     "name": "stdout",
     "output_type": "stream",
     "text": [
      "[SVM POLY] Training ... "
     ]
    },
    {
     "name": "stderr",
     "output_type": "stream",
     "text": [
      "/home/devyhia/.pyenv/versions/3.4.3/lib/python3.4/site-packages/sklearn/svm/base.py:224: ConvergenceWarning: Solver terminated early (max_iter=2).  Consider pre-processing your data with StandardScaler or MinMaxScaler.\n",
      "  % self.max_iter, ConvergenceWarning)\n"
     ]
    },
    {
     "name": "stdout",
     "output_type": "stream",
     "text": [
      "done.\n",
      "[SVM POLY] Training Accuracy ... 0.12442 ... done.\n",
      "[SVM POLY] Testing Accuracy ... 0.1207 ... done.\n"
     ]
    }
   ],
   "source": [
    "SVM_SVC_POLY()"
   ]
  },
  {
   "cell_type": "code",
   "execution_count": 9,
   "metadata": {
    "collapsed": false
   },
   "outputs": [
    {
     "name": "stdout",
     "output_type": "stream",
     "text": [
      "[SVM POLY] Training ... "
     ]
    },
    {
     "name": "stderr",
     "output_type": "stream",
     "text": [
      "/home/devyhia/.pyenv/versions/3.4.3/lib/python3.4/site-packages/sklearn/svm/base.py:224: ConvergenceWarning: Solver terminated early (max_iter=3).  Consider pre-processing your data with StandardScaler or MinMaxScaler.\n",
      "  % self.max_iter, ConvergenceWarning)\n"
     ]
    },
    {
     "name": "stdout",
     "output_type": "stream",
     "text": [
      "done.\n",
      "[SVM POLY] Training Accuracy ... 0.11272 ... done.\n",
      "[SVM POLY] Testing Accuracy ... 0.11 ... done.\n"
     ]
    }
   ],
   "source": [
    "SVM_SVC_POLY(I=3)"
   ]
  },
  {
   "cell_type": "code",
   "execution_count": 10,
   "metadata": {
    "collapsed": false
   },
   "outputs": [
    {
     "name": "stdout",
     "output_type": "stream",
     "text": [
      "[SVM POLY] Training ... "
     ]
    },
    {
     "name": "stderr",
     "output_type": "stream",
     "text": [
      "/home/devyhia/.pyenv/versions/3.4.3/lib/python3.4/site-packages/sklearn/svm/base.py:224: ConvergenceWarning: Solver terminated early (max_iter=100).  Consider pre-processing your data with StandardScaler or MinMaxScaler.\n",
      "  % self.max_iter, ConvergenceWarning)\n"
     ]
    },
    {
     "name": "stdout",
     "output_type": "stream",
     "text": [
      "done.\n",
      "[SVM POLY] Training Accuracy ... 0.16994 ... done.\n",
      "[SVM POLY] Testing Accuracy ... 0.1722 ... done.\n"
     ]
    }
   ],
   "source": [
    "SVM_SVC_POLY(I=100)"
   ]
  },
  {
   "cell_type": "code",
   "execution_count": 12,
   "metadata": {
    "collapsed": false
   },
   "outputs": [
    {
     "name": "stdout",
     "output_type": "stream",
     "text": [
      "[SVM POLY 500] Training ... "
     ]
    },
    {
     "name": "stderr",
     "output_type": "stream",
     "text": [
      "/home/devyhia/.pyenv/versions/3.4.3/lib/python3.4/site-packages/sklearn/svm/base.py:224: ConvergenceWarning: Solver terminated early (max_iter=500).  Consider pre-processing your data with StandardScaler or MinMaxScaler.\n",
      "  % self.max_iter, ConvergenceWarning)\n"
     ]
    },
    {
     "name": "stdout",
     "output_type": "stream",
     "text": [
      "done.\n",
      "[SVM POLY 500] Training Accuracy ... 0.29246 ... done.\n",
      "[SVM POLY 500] Testing Accuracy ... 0.2765 ... done.\n",
      "[SVM POLY 1000] Training ... "
     ]
    },
    {
     "name": "stderr",
     "output_type": "stream",
     "text": [
      "/home/devyhia/.pyenv/versions/3.4.3/lib/python3.4/site-packages/sklearn/svm/base.py:224: ConvergenceWarning: Solver terminated early (max_iter=1000).  Consider pre-processing your data with StandardScaler or MinMaxScaler.\n",
      "  % self.max_iter, ConvergenceWarning)\n"
     ]
    },
    {
     "name": "stdout",
     "output_type": "stream",
     "text": [
      "done.\n",
      "[SVM POLY 1000] Training Accuracy ... 0.31456 ... done.\n",
      "[SVM POLY 1000] Testing Accuracy ... 0.2908 ... done.\n",
      "[SVM POLY 2000] Training ... "
     ]
    },
    {
     "name": "stderr",
     "output_type": "stream",
     "text": [
      "/home/devyhia/.pyenv/versions/3.4.3/lib/python3.4/site-packages/sklearn/svm/base.py:224: ConvergenceWarning: Solver terminated early (max_iter=2000).  Consider pre-processing your data with StandardScaler or MinMaxScaler.\n",
      "  % self.max_iter, ConvergenceWarning)\n"
     ]
    },
    {
     "name": "stdout",
     "output_type": "stream",
     "text": [
      "done.\n",
      "[SVM POLY 2000] Training Accuracy ... 0.40668 ... done.\n",
      "[SVM POLY 2000] Testing Accuracy ... 0.3456 ... done.\n",
      "[SVM POLY 3000] Training ... "
     ]
    },
    {
     "name": "stderr",
     "output_type": "stream",
     "text": [
      "/home/devyhia/.pyenv/versions/3.4.3/lib/python3.4/site-packages/sklearn/svm/base.py:224: ConvergenceWarning: Solver terminated early (max_iter=3000).  Consider pre-processing your data with StandardScaler or MinMaxScaler.\n",
      "  % self.max_iter, ConvergenceWarning)\n"
     ]
    },
    {
     "name": "stdout",
     "output_type": "stream",
     "text": [
      "done.\n",
      "[SVM POLY 3000] Training Accuracy ... 0.47364 ... done.\n",
      "[SVM POLY 3000] Testing Accuracy ... 0.3815 ... done.\n",
      "[SVM POLY -1] Training ... done.\n",
      "[SVM POLY -1] Training Accuracy ... 1.0 ... done.\n",
      "[SVM POLY -1] Testing Accuracy ... 0.4988 ... done.\n"
     ]
    }
   ],
   "source": [
    "for i in [500,1000,2000,3000,-1]:\n",
    "    SVM_SVC_POLY(I=i)"
   ]
  },
  {
   "cell_type": "code",
   "execution_count": 80,
   "metadata": {
    "collapsed": false
   },
   "outputs": [
    {
     "data": {
      "text/html": [
       "<div>\n",
       "<table border=\"1\" class=\"dataframe\">\n",
       "  <thead>\n",
       "    <tr style=\"text-align: right;\">\n",
       "      <th></th>\n",
       "      <th>Iterations</th>\n",
       "      <th>Accuracy</th>\n",
       "    </tr>\n",
       "  </thead>\n",
       "  <tbody>\n",
       "    <tr>\n",
       "      <th>0</th>\n",
       "      <td>2</td>\n",
       "      <td>12.07</td>\n",
       "    </tr>\n",
       "    <tr>\n",
       "      <th>1</th>\n",
       "      <td>3</td>\n",
       "      <td>11.00</td>\n",
       "    </tr>\n",
       "    <tr>\n",
       "      <th>2</th>\n",
       "      <td>100</td>\n",
       "      <td>17.22</td>\n",
       "    </tr>\n",
       "    <tr>\n",
       "      <th>3</th>\n",
       "      <td>500</td>\n",
       "      <td>27.65</td>\n",
       "    </tr>\n",
       "    <tr>\n",
       "      <th>4</th>\n",
       "      <td>1000</td>\n",
       "      <td>29.08</td>\n",
       "    </tr>\n",
       "    <tr>\n",
       "      <th>5</th>\n",
       "      <td>2000</td>\n",
       "      <td>34.56</td>\n",
       "    </tr>\n",
       "    <tr>\n",
       "      <th>6</th>\n",
       "      <td>3000</td>\n",
       "      <td>38.15</td>\n",
       "    </tr>\n",
       "    <tr>\n",
       "      <th>7</th>\n",
       "      <td>$\\infty$ (-1)</td>\n",
       "      <td>49.88</td>\n",
       "    </tr>\n",
       "  </tbody>\n",
       "</table>\n",
       "</div>"
      ],
      "text/plain": [
       "      Iterations  Accuracy\n",
       "0              2     12.07\n",
       "1              3     11.00\n",
       "2            100     17.22\n",
       "3            500     27.65\n",
       "4           1000     29.08\n",
       "5           2000     34.56\n",
       "6           3000     38.15\n",
       "7  $\\infty$ (-1)     49.88"
      ]
     },
     "execution_count": 80,
     "metadata": {},
     "output_type": "execute_result"
    }
   ],
   "source": [
    "res_poly = pd.DataFrame([\n",
    "        ['2', 12.07],\n",
    "        ['3', 11.00],\n",
    "        ['100', 17.22 ],\n",
    "        ['500', 27.65 ],\n",
    "        ['1000', 29.08 ],\n",
    "        ['2000', 34.56 ],\n",
    "        ['3000', 38.15 ],\n",
    "        ['$\\infty$ (-1)', 49.88 ]\n",
    "    ], columns=['Iterations', 'Accuracy'])\n",
    "res_poly"
   ]
  },
  {
   "cell_type": "code",
   "execution_count": 83,
   "metadata": {
    "collapsed": false
   },
   "outputs": [
    {
     "data": {
      "text/plain": [
       "<matplotlib.text.Annotation at 0x7fa8f3eaac18>"
      ]
     },
     "execution_count": 83,
     "metadata": {},
     "output_type": "execute_result"
    },
    {
     "data": {
      "image/png": "[encoded data removed]",
      "text/plain": [
       "<matplotlib.figure.Figure at 0x7fa8f3f5a160>"
      ]
     },
     "metadata": {},
     "output_type": "display_data"
    }
   ],
   "source": [
    "ax = res.plot(x='Iterations', y='Accuracy', figsize=(10, 7), label='SVM - RBF Kernel')\n",
    "res_poly.plot(x='Iterations', y='Accuracy', figsize=(10, 7), ax=ax, label='SVM - POLY Kernel')\n",
    "# ax.set_ylim(9, 20)\n",
    "ax.set_ylabel('Accuracy')\n",
    "ax.set_title('Support Vector Machines (SVM) Performance on CIFAR-10', y=1.03, fontdict={'fontsize': 15})\n",
    "ax.annotate(\n",
    "    'Maximum RBF: %.2f%%' % res.iloc[-1].Accuracy, xy=(7, res.iloc[-1].Accuracy),  xycoords='data',\n",
    "    xytext=(0.8, 0.25), textcoords='axes fraction',\n",
    "    arrowprops=dict(facecolor='black', shrink=0.08, width=0.5, frac=0.15, headwidth=7.5),\n",
    "    horizontalalignment='right', verticalalignment='top',\n",
    ")\n",
    "ax.annotate(\n",
    "    'Maximum POLY: %.2f%%' % res_poly.iloc[-1].Accuracy, xy=(7, res_poly.iloc[-1].Accuracy),  xycoords='data',\n",
    "    xytext=(0.8, 0.85), textcoords='axes fraction',\n",
    "    arrowprops=dict(facecolor='black', shrink=0.08, width=0.5, frac=0.15, headwidth=7.5),\n",
    "    horizontalalignment='right', verticalalignment='top',\n",
    ")"
   ]
  },
  {
   "cell_type": "markdown",
   "metadata": {},
   "source": [
    "### Sigmoid Support Vector Machines"
   ]
  },
  {
   "cell_type": "code",
   "execution_count": 84,
   "metadata": {
    "collapsed": true
   },
   "outputs": [],
   "source": [
    "def SVM_SVC_SIG(_X=None, _Xt=None, I=2):\n",
    "    if _X is None:\n",
    "        _X = X\n",
    "    \n",
    "    if _Xt is None:\n",
    "        _Xt = Xt\n",
    "    \n",
    "    msg(\"[SVM SIG %d] Training\" %I)\n",
    "    svc = svm.SVC(kernel='sigmoid', max_iter=I)\n",
    "    svc.fit(X, y)\n",
    "    done()\n",
    "    \n",
    "    msg(\"[SVM SIG %d] Training Accuracy\"%I)\n",
    "    X_pred = svc.predict(X)\n",
    "    msg(metrics.accuracy_score(y, X_pred))\n",
    "    done()\n",
    "    \n",
    "    msg(\"[SVM SIG %d] Testing Accuracy\"%I)\n",
    "    Xt_pred = svc.predict(Xt)\n",
    "    msg(metrics.accuracy_score(yt, Xt_pred))\n",
    "    done()"
   ]
  },
  {
   "cell_type": "code",
   "execution_count": 90,
   "metadata": {
    "collapsed": false,
    "scrolled": false
   },
   "outputs": [
    {
     "name": "stdout",
     "output_type": "stream",
     "text": [
      "[SVM SIG 2] Training ... "
     ]
    },
    {
     "name": "stderr",
     "output_type": "stream",
     "text": [
      "/home/devyhia/.pyenv/versions/3.4.3/lib/python3.4/site-packages/sklearn/svm/base.py:224: ConvergenceWarning: Solver terminated early (max_iter=2).  Consider pre-processing your data with StandardScaler or MinMaxScaler.\n",
      "  % self.max_iter, ConvergenceWarning)\n"
     ]
    },
    {
     "name": "stdout",
     "output_type": "stream",
     "text": [
      "done.\n",
      "[SVM SIG 2] Training Accuracy ... 0.1 ... done.\n",
      "[SVM SIG 2] Testing Accuracy ... 0.1 ... done.\n",
      "[SVM SIG 3] Training ... "
     ]
    },
    {
     "name": "stderr",
     "output_type": "stream",
     "text": [
      "/home/devyhia/.pyenv/versions/3.4.3/lib/python3.4/site-packages/sklearn/svm/base.py:224: ConvergenceWarning: Solver terminated early (max_iter=3).  Consider pre-processing your data with StandardScaler or MinMaxScaler.\n",
      "  % self.max_iter, ConvergenceWarning)\n"
     ]
    },
    {
     "name": "stdout",
     "output_type": "stream",
     "text": [
      "done.\n",
      "[SVM SIG 3] Training Accuracy ... 0.1 ... done.\n",
      "[SVM SIG 3] Testing Accuracy ... 0.1 ... done.\n",
      "[SVM SIG 100] Training ... "
     ]
    },
    {
     "name": "stderr",
     "output_type": "stream",
     "text": [
      "/home/devyhia/.pyenv/versions/3.4.3/lib/python3.4/site-packages/sklearn/svm/base.py:224: ConvergenceWarning: Solver terminated early (max_iter=100).  Consider pre-processing your data with StandardScaler or MinMaxScaler.\n",
      "  % self.max_iter, ConvergenceWarning)\n"
     ]
    },
    {
     "name": "stdout",
     "output_type": "stream",
     "text": [
      "done.\n",
      "[SVM SIG 100] Training Accuracy ... 0.1 ... done.\n",
      "[SVM SIG 100] Testing Accuracy ... 0.1 ... done.\n",
      "[SVM SIG 500] Training ... "
     ]
    },
    {
     "name": "stderr",
     "output_type": "stream",
     "text": [
      "/home/devyhia/.pyenv/versions/3.4.3/lib/python3.4/site-packages/sklearn/svm/base.py:224: ConvergenceWarning: Solver terminated early (max_iter=500).  Consider pre-processing your data with StandardScaler or MinMaxScaler.\n",
      "  % self.max_iter, ConvergenceWarning)\n"
     ]
    },
    {
     "name": "stdout",
     "output_type": "stream",
     "text": [
      "done.\n",
      "[SVM SIG 500] Training Accuracy ... 0.1 ... done.\n",
      "[SVM SIG 500] Testing Accuracy ... 0.1 ... done.\n",
      "[SVM SIG 1000] Training ... "
     ]
    },
    {
     "name": "stderr",
     "output_type": "stream",
     "text": [
      "/home/devyhia/.pyenv/versions/3.4.3/lib/python3.4/site-packages/sklearn/svm/base.py:224: ConvergenceWarning: Solver terminated early (max_iter=1000).  Consider pre-processing your data with StandardScaler or MinMaxScaler.\n",
      "  % self.max_iter, ConvergenceWarning)\n"
     ]
    },
    {
     "name": "stdout",
     "output_type": "stream",
     "text": [
      "done.\n",
      "[SVM SIG 1000] Training Accuracy ... 0.1 ... done.\n",
      "[SVM SIG 1000] Testing Accuracy ... 0.1 ... done.\n",
      "[SVM SIG 2000] Training ... "
     ]
    },
    {
     "name": "stderr",
     "output_type": "stream",
     "text": [
      "/home/devyhia/.pyenv/versions/3.4.3/lib/python3.4/site-packages/sklearn/svm/base.py:224: ConvergenceWarning: Solver terminated early (max_iter=2000).  Consider pre-processing your data with StandardScaler or MinMaxScaler.\n",
      "  % self.max_iter, ConvergenceWarning)\n"
     ]
    },
    {
     "name": "stdout",
     "output_type": "stream",
     "text": [
      "done.\n",
      "[SVM SIG 2000] Training Accuracy ... 0.1 ... done.\n",
      "[SVM SIG 2000] Testing Accuracy ... 0.1 ... done.\n",
      "[SVM SIG 3000] Training ... "
     ]
    },
    {
     "name": "stderr",
     "output_type": "stream",
     "text": [
      "/home/devyhia/.pyenv/versions/3.4.3/lib/python3.4/site-packages/sklearn/svm/base.py:224: ConvergenceWarning: Solver terminated early (max_iter=3000).  Consider pre-processing your data with StandardScaler or MinMaxScaler.\n",
      "  % self.max_iter, ConvergenceWarning)\n"
     ]
    },
    {
     "name": "stdout",
     "output_type": "stream",
     "text": [
      "done.\n",
      "[SVM SIG 3000] Training Accuracy ... 0.1 ... done.\n",
      "[SVM SIG 3000] Testing Accuracy ... 0.1 ... done.\n",
      "[SVM SIG -1] Training ... done.\n",
      "[SVM SIG -1] Training Accuracy ... 0.1 ... done.\n",
      "[SVM SIG -1] Testing Accuracy ... 0.1 ... done.\n"
     ]
    }
   ],
   "source": [
    "for i in [2,3,100,500,1000,2000,3000,-1]:\n",
    "    SVM_SVC_SIG(I=i)"
   ]
  },
  {
   "cell_type": "code",
   "execution_count": 91,
   "metadata": {
    "collapsed": false
   },
   "outputs": [
    {
     "data": {
      "text/html": [
       "<div>\n",
       "<table border=\"1\" class=\"dataframe\">\n",
       "  <thead>\n",
       "    <tr style=\"text-align: right;\">\n",
       "      <th></th>\n",
       "      <th>Iterations</th>\n",
       "      <th>Accuracy</th>\n",
       "    </tr>\n",
       "  </thead>\n",
       "  <tbody>\n",
       "    <tr>\n",
       "      <th>0</th>\n",
       "      <td>2</td>\n",
       "      <td>10</td>\n",
       "    </tr>\n",
       "    <tr>\n",
       "      <th>1</th>\n",
       "      <td>3</td>\n",
       "      <td>10</td>\n",
       "    </tr>\n",
       "    <tr>\n",
       "      <th>2</th>\n",
       "      <td>100</td>\n",
       "      <td>10</td>\n",
       "    </tr>\n",
       "    <tr>\n",
       "      <th>3</th>\n",
       "      <td>500</td>\n",
       "      <td>10</td>\n",
       "    </tr>\n",
       "    <tr>\n",
       "      <th>4</th>\n",
       "      <td>1000</td>\n",
       "      <td>10</td>\n",
       "    </tr>\n",
       "    <tr>\n",
       "      <th>5</th>\n",
       "      <td>2000</td>\n",
       "      <td>10</td>\n",
       "    </tr>\n",
       "    <tr>\n",
       "      <th>6</th>\n",
       "      <td>3000</td>\n",
       "      <td>10</td>\n",
       "    </tr>\n",
       "    <tr>\n",
       "      <th>7</th>\n",
       "      <td>$\\infty$ (-1)</td>\n",
       "      <td>10</td>\n",
       "    </tr>\n",
       "  </tbody>\n",
       "</table>\n",
       "</div>"
      ],
      "text/plain": [
       "      Iterations  Accuracy\n",
       "0              2        10\n",
       "1              3        10\n",
       "2            100        10\n",
       "3            500        10\n",
       "4           1000        10\n",
       "5           2000        10\n",
       "6           3000        10\n",
       "7  $\\infty$ (-1)        10"
      ]
     },
     "execution_count": 91,
     "metadata": {},
     "output_type": "execute_result"
    }
   ],
   "source": [
    "res_sig = pd.DataFrame([\n",
    "        ['2', 10],\n",
    "        ['3', 10],\n",
    "        ['100', 10],\n",
    "        ['500', 10],\n",
    "        ['1000', 10],\n",
    "        ['2000', 10],\n",
    "        ['3000', 10],\n",
    "        ['$\\infty$ (-1)', 10]\n",
    "    ], columns=['Iterations', 'Accuracy']\n",
    ")\n",
    "res_sig"
   ]
  },
  {
   "cell_type": "code",
   "execution_count": 92,
   "metadata": {
    "collapsed": false
   },
   "outputs": [
    {
     "data": {
      "text/plain": [
       "<matplotlib.text.Annotation at 0x7fa8f41f12e8>"
      ]
     },
     "execution_count": 92,
     "metadata": {},
     "output_type": "execute_result"
    },
    {
     "data": {
      "image/png": "[encoded data removed]",
      "text/plain": [
       "<matplotlib.figure.Figure at 0x7fa8f3f850b8>"
      ]
     },
     "metadata": {},
     "output_type": "display_data"
    }
   ],
   "source": [
    "ax = res.plot(x='Iterations', y='Accuracy', figsize=(10, 7), label='SVM - RBF Kernel')\n",
    "res_poly.plot(x='Iterations', y='Accuracy', figsize=(10, 7), ax=ax, label='SVM - Polynomial/3 Kernel')\n",
    "res_sig.plot(x='Iterations', y='Accuracy', figsize=(10, 7), ax=ax, label='SVM - Sigmoid Kernel')\n",
    "# ax.set_ylim(9, 20)\n",
    "ax.set_ylabel('Accuracy')\n",
    "ax.set_title('Support Vector Machines (SVM) Performance on CIFAR-10', y=1.03, fontdict={'fontsize': 15})\n",
    "ax.annotate(\n",
    "    'Maximum RBF: %.2f%%' % res.iloc[-1].Accuracy, xy=(7, res.iloc[-1].Accuracy),  xycoords='data',\n",
    "    xytext=(0.8, 0.25), textcoords='axes fraction',\n",
    "    arrowprops=dict(facecolor='black', shrink=0.08, width=0.5, frac=0.15, headwidth=7.5),\n",
    "    horizontalalignment='right', verticalalignment='top',\n",
    ")\n",
    "ax.annotate(\n",
    "    'Maximum Polynomial/3: %.2f%%' % res_poly.iloc[-1].Accuracy, xy=(7, res_poly.iloc[-1].Accuracy),  xycoords='data',\n",
    "    xytext=(0.8, 0.85), textcoords='axes fraction',\n",
    "    arrowprops=dict(facecolor='black', shrink=0.08, width=0.5, frac=0.15, headwidth=7.5),\n",
    "    horizontalalignment='right', verticalalignment='top',\n",
    ")\n",
    "\n",
    "ax.annotate(\n",
    "    'Maximum Sigmoid: %.2f%%' % res_sig.iloc[-1].Accuracy, xy=(7, res_sig.iloc[-1].Accuracy),  xycoords='data',\n",
    "    xytext=(0.8, 0.85), textcoords='axes fraction',\n",
    "    arrowprops=dict(facecolor='black', shrink=0.08, width=0.5, frac=0.15, headwidth=7.5),\n",
    "    horizontalalignment='right', verticalalignment='top',\n",
    ")"
   ]
  },
  {
   "cell_type": "code",
   "execution_count": null,
   "metadata": {
    "collapsed": true
   },
   "outputs": [],
   "source": []
  }
 ],
 "metadata": {
  "kernelspec": {
   "display_name": "Python 3",
   "language": "python",
   "name": "python3"
  },
  "language_info": {
   "codemirror_mode": {
    "name": "ipython",
    "version": 3
   },
   "file_extension": ".py",
   "mimetype": "text/x-python",
   "name": "python",
   "nbconvert_exporter": "python",
   "pygments_lexer": "ipython3",
   "version": "3.4.3"
  }
 },
 "nbformat": 4,
 "nbformat_minor": 1
}
