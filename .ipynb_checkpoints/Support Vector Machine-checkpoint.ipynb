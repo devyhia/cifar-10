{
 "cells": [
  {
   "cell_type": "markdown",
   "metadata": {},
   "source": [
    "## Support Vector Machines"
   ]
  },
  {
   "cell_type": "code",
   "execution_count": 4,
   "metadata": {
    "collapsed": true
   },
   "outputs": [],
   "source": [
    "from init import *"
   ]
  },
  {
   "cell_type": "code",
   "execution_count": 5,
   "metadata": {
    "collapsed": true
   },
   "outputs": [],
   "source": [
    "from sklearn.linear_model import LinearRegression\n",
    "from sklearn.linear_model import LogisticRegression\n",
    "from sklearn.tree import DecisionTreeClassifier\n",
    "import sklearn.svm as svm\n",
    "from sklearn import metrics\n",
    "from sklearn import datasets\n",
    "from sklearn.decomposition import PCA\n",
    "import pandas as pd"
   ]
  },
  {
   "cell_type": "code",
   "execution_count": 6,
   "metadata": {
    "collapsed": true
   },
   "outputs": [],
   "source": [
    "%matplotlib inline"
   ]
  },
  {
   "cell_type": "code",
   "execution_count": 9,
   "metadata": {
    "collapsed": false
   },
   "outputs": [],
   "source": [
    "X = train_features.reshape(50000, 3*32*32)\n",
    "Xt = test_features.reshape(10000, 3*32*32)\n",
    "y = train_labels.flatten()\n",
    "yt = test_labels.flatten()"
   ]
  },
  {
   "cell_type": "code",
   "execution_count": 10,
   "metadata": {
    "collapsed": true
   },
   "outputs": [],
   "source": [
    "def SVM_SVC(_X=None, _Xt=None):\n",
    "    if _X is None:\n",
    "        _X = X\n",
    "    \n",
    "    if _Xt is None:\n",
    "        _Xt = Xt\n",
    "    \n",
    "    msg(\"[SVM SVC] Training\")\n",
    "    svc = svm.SVC(verbose=True)\n",
    "    svc.fit(X, y)\n",
    "    done()\n",
    "    \n",
    "    msg(\"[SVM SVC] Training Accuracy\")\n",
    "    X_pred = svc.predict(X)\n",
    "    msg(metrics.accuracy_score(y, X_pred))\n",
    "    done()\n",
    "    \n",
    "    msg(\"[SVM SVC] Testing Accuracy\")\n",
    "    Xt_pred = svc.predict(Xt)\n",
    "    msg(metrics.accuracy_score(yt, Xt_pred))\n",
    "    done()"
   ]
  },
  {
   "cell_type": "code",
   "execution_count": null,
   "metadata": {
    "collapsed": false
   },
   "outputs": [
    {
     "name": "stdout",
     "output_type": "stream",
     "text": [
      "[SVM SVC] Training ... [LibSVM]"
     ]
    }
   ],
   "source": [
    "SVM_SVC()"
   ]
  },
  {
   "cell_type": "raw",
   "metadata": {},
   "source": [
    "Results:\n",
    "========\n",
    "    [SVM SVC 2] Training ... done.\n",
    "    [SVM SVC 2] Training Accuracy ... 0.10038 ... done.\n",
    "    [SVM SVC 2] Testing Accuracy ... 0.1 ... done.\n",
    "    [SVM SVC 3] Training ... done.\n",
    "    [SVM SVC 3] Training Accuracy ... 0.10056 ... done.\n",
    "    [SVM SVC 3] Testing Accuracy ... 0.1 ... done.\n",
    "    [SVM SVC 4] Training ... done.\n",
    "    [SVM SVC 4] Training Accuracy ... 0.10074 ... done.\n",
    "    [SVM SVC 4] Testing Accuracy ... 0.1 ... done.\n",
    "    [SVM SVC 5] Training ... done.\n",
    "    [SVM SVC 5] Training Accuracy ... 0.10094 ... done.\n",
    "    [SVM SVC 5] Testing Accuracy ... 0.1 ... done.\n",
    "    [SVM SVC 6] Training ... done.\n",
    "    [SVM SVC 6] Training Accuracy ... 0.10114 ... done.\n",
    "    [SVM SVC 6] Testing Accuracy ... 0.1 ... done.\n",
    "    [SVM SVC 100] Training ... done.\n",
    "    [SVM SVC 100] Training Accuracy ... 0.12302 ... done.\n",
    "    [SVM SVC 100] Testing Accuracy ... 0.1053 ... done.\n",
    "    [SVM SVC 500] Training ... done.\n",
    "    [SVM SVC 500] Training Accuracy ... 0.20292 ... done.\n",
    "    [SVM SVC 500] Testing Accuracy ... 0.1146 ... done.\n",
    "    [SVM SVC 1000] Training ... done.\n",
    "    [SVM SVC 1000] Training Accuracy ... 0.29582 ... done.\n",
    "    [SVM SVC 1000] Testing Accuracy ... 0.1207 ... done.\n",
    "    [SVM SVC 2000] Training ... done.\n",
    "    [SVM SVC 2000] Training Accuracy ... 0.47636 ... done.\n",
    "    [SVM SVC 2000] Testing Accuracy ... 0.1298 ... done.\n",
    "    [SVM SVC 3000] Training ... done.\n",
    "    [SVM SVC 3000] Training Accuracy ... 0.65352 ... done.\n",
    "    [SVM SVC 3000] Testing Accuracy ... 0.1372 ... done.\n",
    "    [SVM SVC -1] Training ... done.\n",
    "    [SVM SVC -1] Training Accuracy ... 1.0 ... done.\n",
    "    [SVM SVC -1] Testing Accuracy ... 0.1477 ... done."
   ]
  },
  {
   "cell_type": "code",
   "execution_count": null,
   "metadata": {
    "collapsed": true
   },
   "outputs": [],
   "source": [
    "X"
   ]
  },
  {
   "cell_type": "code",
   "execution_count": null,
   "metadata": {
    "collapsed": true
   },
   "outputs": [],
   "source": [
    "svc = svm.SVC(verbose=True)\n",
    "svc.fit(X, y)"
   ]
  },
  {
   "cell_type": "code",
   "execution_count": 18,
   "metadata": {
    "collapsed": false
   },
   "outputs": [
    {
     "data": {
      "text/html": [
       "<div>\n",
       "<table border=\"1\" class=\"dataframe\">\n",
       "  <thead>\n",
       "    <tr style=\"text-align: right;\">\n",
       "      <th></th>\n",
       "      <th>Iterations</th>\n",
       "      <th>Accuracy</th>\n",
       "    </tr>\n",
       "  </thead>\n",
       "  <tbody>\n",
       "    <tr>\n",
       "      <th>0</th>\n",
       "      <td>2</td>\n",
       "      <td>10.00</td>\n",
       "    </tr>\n",
       "    <tr>\n",
       "      <th>1</th>\n",
       "      <td>3</td>\n",
       "      <td>10.00</td>\n",
       "    </tr>\n",
       "    <tr>\n",
       "      <th>2</th>\n",
       "      <td>4</td>\n",
       "      <td>10.00</td>\n",
       "    </tr>\n",
       "    <tr>\n",
       "      <th>3</th>\n",
       "      <td>5</td>\n",
       "      <td>10.00</td>\n",
       "    </tr>\n",
       "    <tr>\n",
       "      <th>4</th>\n",
       "      <td>6</td>\n",
       "      <td>10.00</td>\n",
       "    </tr>\n",
       "    <tr>\n",
       "      <th>5</th>\n",
       "      <td>100</td>\n",
       "      <td>10.53</td>\n",
       "    </tr>\n",
       "    <tr>\n",
       "      <th>6</th>\n",
       "      <td>500</td>\n",
       "      <td>11.46</td>\n",
       "    </tr>\n",
       "    <tr>\n",
       "      <th>7</th>\n",
       "      <td>1000</td>\n",
       "      <td>12.07</td>\n",
       "    </tr>\n",
       "    <tr>\n",
       "      <th>8</th>\n",
       "      <td>2000</td>\n",
       "      <td>12.98</td>\n",
       "    </tr>\n",
       "    <tr>\n",
       "      <th>9</th>\n",
       "      <td>3000</td>\n",
       "      <td>13.72</td>\n",
       "    </tr>\n",
       "    <tr>\n",
       "      <th>10</th>\n",
       "      <td>$\\infty$ (-1)</td>\n",
       "      <td>14.77</td>\n",
       "    </tr>\n",
       "  </tbody>\n",
       "</table>\n",
       "</div>"
      ],
      "text/plain": [
       "       Iterations  Accuracy\n",
       "0               2     10.00\n",
       "1               3     10.00\n",
       "2               4     10.00\n",
       "3               5     10.00\n",
       "4               6     10.00\n",
       "5             100     10.53\n",
       "6             500     11.46\n",
       "7            1000     12.07\n",
       "8            2000     12.98\n",
       "9            3000     13.72\n",
       "10  $\\infty$ (-1)     14.77"
      ]
     },
     "execution_count": 18,
     "metadata": {},
     "output_type": "execute_result"
    }
   ],
   "source": [
    "res = pd.DataFrame([\n",
    "        [ '2', 10.00 ],\n",
    "        [ '3', 10.00 ],\n",
    "        [ '4', 10.00 ],\n",
    "        [ '5', 10.00 ],\n",
    "        [ '6', 10.00 ],\n",
    "        [ '100', 10.53 ],\n",
    "        [ '500', 11.46 ],\n",
    "        [ '1000', 12.07 ],\n",
    "        [ '2000', 12.98 ],\n",
    "        [ '3000', 13.72 ],\n",
    "        [ '$\\infty$ (-1)', 14.77 ]\n",
    "    ], columns=['Iterations', 'Accuracy'])\n",
    "res"
   ]
  },
  {
   "cell_type": "code",
   "execution_count": 36,
   "metadata": {
    "collapsed": false
   },
   "outputs": [
    {
     "data": {
      "text/plain": [
       "<matplotlib.text.Text at 0x7f37054cccc0>"
      ]
     },
     "execution_count": 36,
     "metadata": {},
     "output_type": "execute_result"
    },
    {
     "data": {
      "image/png": "[encoded data removed]",
      "text/plain": [
       "<matplotlib.figure.Figure at 0x7f370548df60>"
      ]
     },
     "metadata": {},
     "output_type": "display_data"
    }
   ],
   "source": [
    "ax = res.plot(x='Iterations', y='Accuracy', figsize=(10, 7))\n",
    "ax.set_ylim(9, 20)\n",
    "ax.set_ylabel('Accuracy over # of Iterations')\n",
    "ax.set_title('Linear Support Vector Machines (LSVM) Performance on CIFAR-10', y=1.03, fontdict={'fontsize': 15})"
   ]
  },
  {
   "cell_type": "markdown",
   "metadata": {},
   "source": [
    "### Result\n",
    "Linear Support Vector Machines (SVMs) are performing very poorly on the given problem. Maybe other kernels prove to be better."
   ]
  },
  {
   "cell_type": "code",
   "execution_count": null,
   "metadata": {
    "collapsed": true
   },
   "outputs": [],
   "source": []
  }
 ],
 "metadata": {
  "kernelspec": {
   "display_name": "Python 3",
   "language": "python",
   "name": "python3"
  },
  "language_info": {
   "codemirror_mode": {
    "name": "ipython",
    "version": 3
   },
   "file_extension": ".py",
   "mimetype": "text/x-python",
   "name": "python",
   "nbconvert_exporter": "python",
   "pygments_lexer": "ipython3",
   "version": "3.4.3"
  }
 },
 "nbformat": 4,
 "nbformat_minor": 1
}
