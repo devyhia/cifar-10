{
 "cells": [
  {
   "cell_type": "markdown",
   "metadata": {},
   "source": [
    "## LDA + Logistic Regression Classifier"
   ]
  },
  {
   "cell_type": "code",
   "execution_count": 1,
   "metadata": {
    "collapsed": true
   },
   "outputs": [],
   "source": [
    "from init import *"
   ]
  },
  {
   "cell_type": "code",
   "execution_count": 25,
   "metadata": {
    "collapsed": true
   },
   "outputs": [],
   "source": [
    "from sklearn.linear_model import LinearRegression\n",
    "from sklearn.linear_model import LogisticRegression\n",
    "from sklearn import metrics\n",
    "from sklearn import datasets"
   ]
  },
  {
   "cell_type": "code",
   "execution_count": 3,
   "metadata": {
    "collapsed": true
   },
   "outputs": [],
   "source": [
    "%matplotlib inline"
   ]
  },
  {
   "cell_type": "markdown",
   "metadata": {},
   "source": [
    "#### Feature Procession"
   ]
  },
  {
   "cell_type": "code",
   "execution_count": 5,
   "metadata": {
    "collapsed": true
   },
   "outputs": [],
   "source": [
    "X = train_features.reshape(50000, 3*32*32)\n",
    "Xt = test_features.reshape(10000, 3*32*32)\n",
    "y = train_labels.flatten()\n",
    "yt = test_labels.flatten()"
   ]
  },
  {
   "cell_type": "markdown",
   "metadata": {},
   "source": [
    "#### LDA/9"
   ]
  },
  {
   "cell_type": "code",
   "execution_count": 18,
   "metadata": {
    "collapsed": false
   },
   "outputs": [],
   "source": [
    "from sklearn.lda import LDA"
   ]
  },
  {
   "cell_type": "code",
   "execution_count": 11,
   "metadata": {
    "collapsed": false
   },
   "outputs": [
    {
     "data": {
      "text/plain": [
       "LinearDiscriminantAnalysis(n_components=9, priors=None, shrinkage=None,\n",
       "              solver='svd', store_covariance=False, tol=0.0001)"
      ]
     },
     "execution_count": 11,
     "metadata": {},
     "output_type": "execute_result"
    }
   ],
   "source": [
    "lda_9 = LDA(n_components=9)\n",
    "lda_9.fit(X, y)"
   ]
  },
  {
   "cell_type": "code",
   "execution_count": 12,
   "metadata": {
    "collapsed": true
   },
   "outputs": [],
   "source": [
    "X_lda_9 = lda_9.transform(X)\n",
    "Xt_lda_9 = lda_9.transform(Xt)"
   ]
  },
  {
   "cell_type": "code",
   "execution_count": 13,
   "metadata": {
    "collapsed": false
   },
   "outputs": [
    {
     "name": "stdout",
     "output_type": "stream",
     "text": [
      "[LibLinear]"
     ]
    },
    {
     "data": {
      "text/plain": [
       "LogisticRegression(C=1.0, class_weight=None, dual=False, fit_intercept=True,\n",
       "          intercept_scaling=1, max_iter=100, multi_class='ovr', n_jobs=-1,\n",
       "          penalty='l2', random_state=None, solver='liblinear', tol=0.0001,\n",
       "          verbose=True, warm_start=False)"
      ]
     },
     "execution_count": 13,
     "metadata": {},
     "output_type": "execute_result"
    }
   ],
   "source": [
    "linreg_lda_9 = LogisticRegression(verbose=True, n_jobs=-1)\n",
    "linreg_lda_9.fit(X_lda_9, y)"
   ]
  },
  {
   "cell_type": "code",
   "execution_count": 15,
   "metadata": {
    "collapsed": false
   },
   "outputs": [
    {
     "data": {
      "text/plain": [
       "0.51536000000000004"
      ]
     },
     "execution_count": 15,
     "metadata": {},
     "output_type": "execute_result"
    }
   ],
   "source": [
    "X_pred_9 = linreg_lda_9.predict(X_lda_9)\n",
    "metrics.accuracy_score(y, X_pred_9)"
   ]
  },
  {
   "cell_type": "code",
   "execution_count": 17,
   "metadata": {
    "collapsed": false
   },
   "outputs": [
    {
     "data": {
      "text/plain": [
       "0.36720000000000003"
      ]
     },
     "execution_count": 17,
     "metadata": {},
     "output_type": "execute_result"
    }
   ],
   "source": [
    "Xt_pred_9 = linreg_lda_9.predict(Xt_lda_9)\n",
    "metrics.accuracy_score(yt, Xt_pred_9)"
   ]
  },
  {
   "cell_type": "markdown",
   "metadata": {},
   "source": [
    "#### LDA/8"
   ]
  },
  {
   "cell_type": "code",
   "execution_count": 26,
   "metadata": {
    "collapsed": true
   },
   "outputs": [],
   "source": [
    "def lda(n):\n",
    "    msg(\"[LDA %d] feature reduction\" % n)\n",
    "    lda = LDA(n_components=n)\n",
    "    lda.fit(X, y)\n",
    "    done()\n",
    "    \n",
    "    msg(\"[LDA %d] feature transform\" % n)\n",
    "    X_lda = lda.transform(X)\n",
    "    Xt_lda = lda.transform(Xt)\n",
    "    done()\n",
    "    \n",
    "    msg(\"[LDA %d] Logsistic Regression training\" % n)\n",
    "    linreg_lda = LogisticRegression(verbose=True, n_jobs=-1)\n",
    "    linreg_lda.fit(X_lda, ly)\n",
    "    done()\n",
    "    \n",
    "    msg(\"[LDA %d] training accuracy\" % n)\n",
    "    X_pred = linreg_lda.predict(X_lda)\n",
    "    acc_train = metrics.accuracy_score(y, X_pred)\n",
    "    done()\n",
    "    \n",
    "    msg(\"[LDA %d] testing accuracy\" % n)\n",
    "    Xt_pred = linreg_lda.predict(Xt_lda)\n",
    "    acc_test = metrics.accuracy_score(yt, Xt_pred)\n",
    "    done()\n",
    "    \n",
    "    print(\"[LDA %d] training accuracy= %f, test accuracy= %f\" % (n, acc_train, acc_test))"
   ]
  },
  {
   "cell_type": "code",
   "execution_count": 20,
   "metadata": {
    "collapsed": true
   },
   "outputs": [],
   "source": [
    "X_lda_8 = lda_8.transform(X)\n",
    "Xt_lda_8 = lda_8.transform(Xt)"
   ]
  },
  {
   "cell_type": "code",
   "execution_count": 21,
   "metadata": {
    "collapsed": false
   },
   "outputs": [
    {
     "name": "stdout",
     "output_type": "stream",
     "text": [
      "[LibLinear]"
     ]
    },
    {
     "data": {
      "text/plain": [
       "LogisticRegression(C=1.0, class_weight=None, dual=False, fit_intercept=True,\n",
       "          intercept_scaling=1, max_iter=100, multi_class='ovr', n_jobs=-1,\n",
       "          penalty='l2', random_state=None, solver='liblinear', tol=0.0001,\n",
       "          verbose=True, warm_start=False)"
      ]
     },
     "execution_count": 21,
     "metadata": {},
     "output_type": "execute_result"
    }
   ],
   "source": [
    "linreg_lda_8 = LogisticRegression(verbose=True, n_jobs=-1)\n",
    "linreg_lda_8.fit(X_lda_8, y)"
   ]
  },
  {
   "cell_type": "code",
   "execution_count": 22,
   "metadata": {
    "collapsed": false
   },
   "outputs": [
    {
     "data": {
      "text/plain": [
       "0.49559999999999998"
      ]
     },
     "execution_count": 22,
     "metadata": {},
     "output_type": "execute_result"
    }
   ],
   "source": [
    "X_pred_8 = linreg_lda_8.predict(X_lda_8)\n",
    "metrics.accuracy_score(y, X_pred_8)"
   ]
  },
  {
   "cell_type": "code",
   "execution_count": 23,
   "metadata": {
    "collapsed": false
   },
   "outputs": [
    {
     "data": {
      "text/plain": [
       "0.3664"
      ]
     },
     "execution_count": 23,
     "metadata": {},
     "output_type": "execute_result"
    }
   ],
   "source": [
    "Xt_pred_8 = linreg_lda_8.predict(Xt_lda_8)\n",
    "metrics.accuracy_score(yt, Xt_pred_8)"
   ]
  },
  {
   "cell_type": "markdown",
   "metadata": {},
   "source": [
    "#### LDA/7"
   ]
  },
  {
   "cell_type": "code",
   "execution_count": 27,
   "metadata": {
    "collapsed": false
   },
   "outputs": [
    {
     "name": "stdout",
     "output_type": "stream",
     "text": [
      "[LDA 7] feature reduction ... done.\n",
      "[LDA 7] feature transform ... done.\n",
      "[LDA 7] Logsistic Regression training ... [LibLinear]done.\n",
      "[LDA 7] training accuracy ... done.\n",
      "[LDA 7] testing accuracy ... done.\n",
      "[LDA 7] training accuracy= 0.472060, test accuracy= 0.360100\n"
     ]
    }
   ],
   "source": [
    "lda(7)"
   ]
  },
  {
   "cell_type": "markdown",
   "metadata": {},
   "source": [
    "#### LDA/6"
   ]
  },
  {
   "cell_type": "code",
   "execution_count": 28,
   "metadata": {
    "collapsed": false
   },
   "outputs": [
    {
     "name": "stdout",
     "output_type": "stream",
     "text": [
      "[LDA 6] feature reduction ... done.\n",
      "[LDA 6] feature transform ... done.\n",
      "[LDA 6] Logsistic Regression training ... [LibLinear]done.\n",
      "[LDA 6] training accuracy ... done.\n",
      "[LDA 6] testing accuracy ... done.\n",
      "[LDA 6] training accuracy= 0.452760, test accuracy= 0.352200\n"
     ]
    }
   ],
   "source": [
    "lda(6)"
   ]
  },
  {
   "cell_type": "markdown",
   "metadata": {},
   "source": [
    "#### LDA/5"
   ]
  },
  {
   "cell_type": "code",
   "execution_count": 29,
   "metadata": {
    "collapsed": false
   },
   "outputs": [
    {
     "name": "stdout",
     "output_type": "stream",
     "text": [
      "[LDA 5] feature reduction ... done.\n",
      "[LDA 5] feature transform ... done.\n",
      "[LDA 5] Logsistic Regression training ... [LibLinear]done.\n",
      "[LDA 5] training accuracy ... done.\n",
      "[LDA 5] testing accuracy ... done.\n",
      "[LDA 5] training accuracy= 0.426420, test accuracy= 0.341300\n"
     ]
    }
   ],
   "source": [
    "lda(5)"
   ]
  },
  {
   "cell_type": "markdown",
   "metadata": {},
   "source": [
    "#### LDA/4"
   ]
  },
  {
   "cell_type": "code",
   "execution_count": 30,
   "metadata": {
    "collapsed": false
   },
   "outputs": [
    {
     "name": "stdout",
     "output_type": "stream",
     "text": [
      "[LDA 4] feature reduction ... done.\n",
      "[LDA 4] feature transform ... done.\n",
      "[LDA 4] Logsistic Regression training ... [LibLinear]done.\n",
      "[LDA 4] training accuracy ... done.\n",
      "[LDA 4] testing accuracy ... done.\n",
      "[LDA 4] training accuracy= 0.400860, test accuracy= 0.328000\n"
     ]
    }
   ],
   "source": [
    "lda(4)"
   ]
  },
  {
   "cell_type": "markdown",
   "metadata": {},
   "source": [
    "#### LDA/3"
   ]
  },
  {
   "cell_type": "code",
   "execution_count": 31,
   "metadata": {
    "collapsed": false
   },
   "outputs": [
    {
     "name": "stdout",
     "output_type": "stream",
     "text": [
      "[LDA 3] feature reduction ... done.\n",
      "[LDA 3] feature transform ... done.\n",
      "[LDA 3] Logsistic Regression training ... [LibLinear]done.\n",
      "[LDA 3] training accuracy ... done.\n",
      "[LDA 3] testing accuracy ... done.\n",
      "[LDA 3] training accuracy= 0.360940, test accuracy= 0.305700\n"
     ]
    }
   ],
   "source": [
    "lda(3)"
   ]
  },
  {
   "cell_type": "markdown",
   "metadata": {},
   "source": [
    "#### LDA/2"
   ]
  },
  {
   "cell_type": "code",
   "execution_count": 32,
   "metadata": {
    "collapsed": false
   },
   "outputs": [
    {
     "name": "stdout",
     "output_type": "stream",
     "text": [
      "[LDA 2] feature reduction ... done.\n",
      "[LDA 2] feature transform ... done.\n",
      "[LDA 2] Logsistic Regression training ... [LibLinear]done.\n",
      "[LDA 2] training accuracy ... done.\n",
      "[LDA 2] testing accuracy ... done.\n",
      "[LDA 2] training accuracy= 0.282460, test accuracy= 0.257000\n"
     ]
    }
   ],
   "source": [
    "lda(2)"
   ]
  },
  {
   "cell_type": "markdown",
   "metadata": {},
   "source": [
    "#### LDA/1"
   ]
  },
  {
   "cell_type": "code",
   "execution_count": 33,
   "metadata": {
    "collapsed": false
   },
   "outputs": [
    {
     "name": "stdout",
     "output_type": "stream",
     "text": [
      "[LDA 1] feature reduction ... done.\n",
      "[LDA 1] feature transform ... done.\n",
      "[LDA 1] Logsistic Regression training ... [LibLinear]done.\n",
      "[LDA 1] training accuracy ... done.\n",
      "[LDA 1] testing accuracy ... done.\n",
      "[LDA 1] training accuracy= 0.196760, test accuracy= 0.189100\n"
     ]
    }
   ],
   "source": [
    "lda(1)"
   ]
  },
  {
   "cell_type": "markdown",
   "metadata": {},
   "source": [
    "#### Results Graph"
   ]
  },
  {
   "cell_type": "code",
   "execution_count": 36,
   "metadata": {
    "collapsed": true
   },
   "outputs": [],
   "source": [
    "import pandas as pd"
   ]
  },
  {
   "cell_type": "code",
   "execution_count": 37,
   "metadata": {
    "collapsed": false
   },
   "outputs": [],
   "source": [
    "pd_test = pd.DataFrame([\n",
    "        ['No LDA', 37.5],\n",
    "        ['9', 36.72],\n",
    "        ['8', 36.64],\n",
    "        ['7', 36.01],\n",
    "        ['6', 35.22],\n",
    "        ['5', 34.13],\n",
    "        ['4', 32.80],\n",
    "        ['3', 30.57],\n",
    "        ['2', 25.70],\n",
    "        ['1', 18.91],\n",
    "    ], columns=['Number of LDA Components', 'Accuracy'])"
   ]
  },
  {
   "cell_type": "code",
   "execution_count": 39,
   "metadata": {
    "collapsed": false
   },
   "outputs": [
    {
     "data": {
      "text/html": [
       "<div>\n",
       "<table border=\"1\" class=\"dataframe\">\n",
       "  <thead>\n",
       "    <tr style=\"text-align: right;\">\n",
       "      <th></th>\n",
       "      <th>Number of LDA Components</th>\n",
       "      <th>Accuracy</th>\n",
       "    </tr>\n",
       "  </thead>\n",
       "  <tbody>\n",
       "    <tr>\n",
       "      <th>0</th>\n",
       "      <td>No LDA</td>\n",
       "      <td>37.50</td>\n",
       "    </tr>\n",
       "    <tr>\n",
       "      <th>1</th>\n",
       "      <td>9</td>\n",
       "      <td>36.72</td>\n",
       "    </tr>\n",
       "    <tr>\n",
       "      <th>2</th>\n",
       "      <td>8</td>\n",
       "      <td>36.64</td>\n",
       "    </tr>\n",
       "    <tr>\n",
       "      <th>3</th>\n",
       "      <td>7</td>\n",
       "      <td>36.01</td>\n",
       "    </tr>\n",
       "    <tr>\n",
       "      <th>4</th>\n",
       "      <td>6</td>\n",
       "      <td>35.22</td>\n",
       "    </tr>\n",
       "    <tr>\n",
       "      <th>5</th>\n",
       "      <td>5</td>\n",
       "      <td>34.13</td>\n",
       "    </tr>\n",
       "    <tr>\n",
       "      <th>6</th>\n",
       "      <td>4</td>\n",
       "      <td>32.80</td>\n",
       "    </tr>\n",
       "    <tr>\n",
       "      <th>7</th>\n",
       "      <td>3</td>\n",
       "      <td>30.57</td>\n",
       "    </tr>\n",
       "    <tr>\n",
       "      <th>8</th>\n",
       "      <td>2</td>\n",
       "      <td>25.70</td>\n",
       "    </tr>\n",
       "    <tr>\n",
       "      <th>9</th>\n",
       "      <td>1</td>\n",
       "      <td>18.91</td>\n",
       "    </tr>\n",
       "  </tbody>\n",
       "</table>\n",
       "</div>"
      ],
      "text/plain": [
       "  Number of LDA Components  Accuracy\n",
       "0                   No LDA     37.50\n",
       "1                        9     36.72\n",
       "2                        8     36.64\n",
       "3                        7     36.01\n",
       "4                        6     35.22\n",
       "5                        5     34.13\n",
       "6                        4     32.80\n",
       "7                        3     30.57\n",
       "8                        2     25.70\n",
       "9                        1     18.91"
      ]
     },
     "execution_count": 39,
     "metadata": {},
     "output_type": "execute_result"
    }
   ],
   "source": [
    "pd_test"
   ]
  },
  {
   "cell_type": "code",
   "execution_count": 41,
   "metadata": {
    "collapsed": false
   },
   "outputs": [
    {
     "data": {
      "text/plain": [
       "<matplotlib.axes._subplots.AxesSubplot at 0x11af71b38>"
      ]
     },
     "execution_count": 41,
     "metadata": {},
     "output_type": "execute_result"
    },
    {
     "data": {
      "image/png": "[encoded data removed]",
      "text/plain": [
       "<matplotlib.figure.Figure at 0x11af718d0>"
      ]
     },
     "metadata": {},
     "output_type": "display_data"
    }
   ],
   "source": [
    "pd_test.plot(x='Number of LDA Components')"
   ]
  }
 ],
 "metadata": {
  "kernelspec": {
   "display_name": "Python 3",
   "language": "python",
   "name": "python3"
  },
  "language_info": {
   "codemirror_mode": {
    "name": "ipython",
    "version": 3
   },
   "file_extension": ".py",
   "mimetype": "text/x-python",
   "name": "python",
   "nbconvert_exporter": "python",
   "pygments_lexer": "ipython3",
   "version": "3.4.3"
  }
 },
 "nbformat": 4,
 "nbformat_minor": 0
}
