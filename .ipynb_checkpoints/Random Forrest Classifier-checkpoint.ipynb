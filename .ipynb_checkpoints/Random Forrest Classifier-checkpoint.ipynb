{
 "cells": [
  {
   "cell_type": "markdown",
   "metadata": {},
   "source": [
    "## Random Forrest Classifier"
   ]
  },
  {
   "cell_type": "code",
   "execution_count": 14,
   "metadata": {
    "collapsed": true
   },
   "outputs": [],
   "source": [
    "#!/usr/bin/env python -W ignore"
   ]
  },
  {
   "cell_type": "code",
   "execution_count": 7,
   "metadata": {
    "collapsed": true
   },
   "outputs": [],
   "source": [
    "from init import *"
   ]
  },
  {
   "cell_type": "code",
   "execution_count": 26,
   "metadata": {
    "collapsed": true
   },
   "outputs": [],
   "source": [
    "from sklearn.ensemble import RandomForestClassifier\n",
    "from sklearn import metrics\n",
    "from sklearn import datasets\n",
    "\n",
    "from sklearn.decomposition import PCA"
   ]
  },
  {
   "cell_type": "code",
   "execution_count": 3,
   "metadata": {
    "collapsed": true
   },
   "outputs": [],
   "source": [
    "%matplotlib inline"
   ]
  },
  {
   "cell_type": "code",
   "execution_count": 4,
   "metadata": {
    "collapsed": true
   },
   "outputs": [],
   "source": [
    "X = train_features.reshape(50000, 3*32*32)\n",
    "Xt = test_features.reshape(10000, 3*32*32)\n",
    "y = train_labels.flatten()\n",
    "yt = test_labels.flatten()"
   ]
  },
  {
   "cell_type": "code",
   "execution_count": null,
   "metadata": {
    "collapsed": true
   },
   "outputs": [],
   "source": [
    "def RFC(n=16):\n",
    "    msg(\"[RFC/%d] Training\" % n)\n",
    "    rfc = RandomForestClassifier(n_estimators=n, n_jobs=-1)\n",
    "    rfc.fit(X, y)\n",
    "    done()\n",
    "    \n",
    "    msg(\"[RFC/%d] Training Accuracy\" % n)\n",
    "    X_pred = rfc.predict(X)\n",
    "    msg(metrics.accuracy_score(y, X_pred))\n",
    "    done()\n",
    "    \n",
    "    msg(\"[RFC/%d] Testing Accuracy\" % n)\n",
    "    Xt_pred = rfc.predict(Xt)\n",
    "    msg(metrics.accuracy_score(yt, Xt_pred))\n",
    "    done()\n",
    "    \n",
    "#     print(\"==== Training Accuracy ====\")\n",
    "#     print(acc_train)\n",
    "#     print(\"==== Testing Accuracy ====\")\n",
    "#     print(acc_test)\n",
    "    print(\"\")"
   ]
  },
  {
   "cell_type": "markdown",
   "metadata": {},
   "source": [
    "### Experiments"
   ]
  },
  {
   "cell_type": "code",
   "execution_count": 24,
   "metadata": {
    "collapsed": false,
    "scrolled": false
   },
   "outputs": [
    {
     "name": "stdout",
     "output_type": "stream",
     "text": [
      "[RFC/8] Training ... done.\n",
      "[RFC/8] Training Accuracy ... 0.99894 ... done.\n",
      "[RFC/8] Testing Accuracy ... 0.3877 ... done.\n",
      "\n",
      "[RFC/16] Training ... done.\n",
      "[RFC/16] Training Accuracy ... 0.99906 ... done.\n",
      "[RFC/16] Testing Accuracy ... 0.3912 ... done.\n",
      "\n",
      "[RFC/24] Training ... done.\n",
      "[RFC/24] Training Accuracy ... 0.9992 ... done.\n",
      "[RFC/24] Testing Accuracy ... 0.3849 ... done.\n",
      "\n",
      "[RFC/32] Training ... done.\n",
      "[RFC/32] Training Accuracy ... 0.9993 ... done.\n",
      "[RFC/32] Testing Accuracy ... 0.3911 ... done.\n",
      "\n",
      "[RFC/48] Training ... done.\n",
      "[RFC/48] Training Accuracy ... 0.99922 ... done.\n",
      "[RFC/48] Testing Accuracy ... 0.3863 ... done.\n",
      "\n",
      "[RFC/64] Training ... done.\n",
      "[RFC/64] Training Accuracy ... 0.99912 ... done.\n",
      "[RFC/64] Testing Accuracy ... 0.3916 ... done.\n",
      "\n",
      "[RFC/96] Training ... done.\n",
      "[RFC/96] Training Accuracy ... 0.99934 ... done.\n",
      "[RFC/96] Testing Accuracy ... 0.3866 ... done.\n",
      "\n",
      "[RFC/128] Training ... done.\n",
      "[RFC/128] Training Accuracy ... 0.9991 ... done.\n",
      "[RFC/128] Testing Accuracy ... 0.3929 ... done.\n",
      "\n",
      "[RFC/150] Training ... done.\n",
      "[RFC/150] Training Accuracy ... 0.99928 ... done.\n",
      "[RFC/150] Testing Accuracy ... 0.3918 ... done.\n",
      "\n",
      "[RFC/200] Training ... done.\n",
      "[RFC/200] Training Accuracy ... 0.99912 ... done.\n",
      "[RFC/200] Testing Accuracy ... 0.3875 ... done.\n",
      "\n",
      "[RFC/256] Training ... done.\n",
      "[RFC/256] Training Accuracy ... 0.99894 ... done.\n",
      "[RFC/256] Testing Accuracy ... 0.3858 ... done.\n",
      "\n"
     ]
    }
   ],
   "source": [
    "for x in [8,16,24,32,48,64,78,96,128,150,200,256]:\n",
    "    RFC(x)"
   ]
  },
  {
   "cell_type": "markdown",
   "metadata": {
    "collapsed": true
   },
   "source": [
    "### PCA + Random Forrest"
   ]
  },
  {
   "cell_type": "markdown",
   "metadata": {},
   "source": [
    "#### Best PCA (200)"
   ]
  },
  {
   "cell_type": "code",
   "execution_count": null,
   "metadata": {
    "collapsed": false
   },
   "outputs": [],
   "source": [
    "pca200 = PCA(n_components=200)\n",
    "pca200.fit(X, y)"
   ]
  },
  {
   "cell_type": "code",
   "execution_count": null,
   "metadata": {
    "collapsed": true
   },
   "outputs": [],
   "source": [
    "X_pca200 = pca200.transform(X)\n",
    "Xt_pca200 = pca200.transform(Xt)"
   ]
  },
  {
   "cell_type": "markdown",
   "metadata": {},
   "source": [
    "#### Best Random Forrest Classifier (128)"
   ]
  },
  {
   "cell_type": "code",
   "execution_count": null,
   "metadata": {
    "collapsed": true
   },
   "outputs": [],
   "source": [
    "rfc128 = RandomForestClassifier(n_estimators=16, n_jobs=-1)\n",
    "rfc128.fit(X, y)"
   ]
  }
 ],
 "metadata": {
  "kernelspec": {
   "display_name": "Python 3",
   "language": "python",
   "name": "python3"
  },
  "language_info": {
   "codemirror_mode": {
    "name": "ipython",
    "version": 3
   },
   "file_extension": ".py",
   "mimetype": "text/x-python",
   "name": "python",
   "nbconvert_exporter": "python",
   "pygments_lexer": "ipython3",
   "version": "3.4.3"
  }
 },
 "nbformat": 4,
 "nbformat_minor": 0
}
