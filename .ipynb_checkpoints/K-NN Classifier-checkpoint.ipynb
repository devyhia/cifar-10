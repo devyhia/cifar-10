{
 "cells": [
  {
   "cell_type": "markdown",
   "metadata": {},
   "source": [
    "## K-NN Classifier"
   ]
  },
  {
   "cell_type": "code",
   "execution_count": 1,
   "metadata": {
    "collapsed": true
   },
   "outputs": [],
   "source": [
    "from init import *"
   ]
  },
  {
   "cell_type": "code",
   "execution_count": 2,
   "metadata": {
    "collapsed": true
   },
   "outputs": [],
   "source": [
    "from sklearn.linear_model import LinearRegression\n",
    "from sklearn.linear_model import LogisticRegression\n",
    "from sklearn.tree import DecisionTreeClassifier\n",
    "from sklearn import metrics\n",
    "from sklearn import datasets\n",
    "from sklearn.decomposition import PCA\n",
    "import pandas as pd\n",
    "from sklearn.neighbors import KNeighborsClassifier\n",
    "import pickle\n",
    "import time\n",
    "\n",
    "# LOCATION = \"/Volumes/My Passport for Mac/Pickle Backups\"\n",
    "LOCATION = \"pickles\""
   ]
  },
  {
   "cell_type": "code",
   "execution_count": 3,
   "metadata": {
    "collapsed": true
   },
   "outputs": [],
   "source": [
    "%matplotlib inline"
   ]
  },
  {
   "cell_type": "code",
   "execution_count": 4,
   "metadata": {
    "collapsed": true
   },
   "outputs": [],
   "source": [
    "X = train_features.reshape(50000, 3*32*32)\n",
    "Xt = test_features.reshape(10000, 3*32*32)\n",
    "y = train_labels.flatten()\n",
    "yt = test_labels.flatten()"
   ]
  },
  {
   "cell_type": "code",
   "execution_count": 5,
   "metadata": {
    "collapsed": false
   },
   "outputs": [
    {
     "name": "stdout",
     "output_type": "stream",
     "text": [
      "[K-NN] Training ... done.\n"
     ]
    }
   ],
   "source": [
    "msg(\"[K-NN] Training\")\n",
    "knn = KNeighborsClassifier(n_neighbors=10)\n",
    "knn.fit(X, y)\n",
    "done()\n",
    "\n",
    "pydump(knn, \"pickles/knn_model.pickle\")"
   ]
  },
  {
   "cell_type": "code",
   "execution_count": 16,
   "metadata": {
    "collapsed": false
   },
   "outputs": [
    {
     "name": "stdout",
     "output_type": "stream",
     "text": [
      "Classifiying 10000. Elapsed Time: 40m 9s ... 0.3386 ... done.\n"
     ]
    }
   ],
   "source": [
    "msg(\"[K-NN] Testing Accuracy\")\n",
    "\n",
    "count = 0\n",
    "start = time.time()\n",
    "def predict_batch(x):\n",
    "    global count\n",
    "    global start\n",
    "    count += 25\n",
    "    elapsed = time.time()-start\n",
    "    print(\"\\rClassifiying {}. Elapsed Time: {}m {}s ... \".format(count, int(elapsed/60), int(elapsed%60)), end=\"\")\n",
    "    return knn.predict_proba(x)\n",
    "\n",
    "Xt_pred_proba = np.array([predict_batch(Xt[i*25:(i+1)*25]) for i in range(400)]).reshape(-1, 10)\n",
    "# Xt_pred = np.apply_along_axis(predict_with_update, 1, Xt).reshape(-1, 1)\n",
    "# Xt_pred = knn.predict(Xt)\n",
    "\n",
    "pydump(Xt_pred_proba, \"pickles/knn_predict_proba.pickle\")\n",
    "\n",
    "msg(metrics.accuracy_score(yt, Xt_pred_proba.argmax(axis=1).reshape(-1,1)))\n",
    "done()"
   ]
  },
  {
   "cell_type": "markdown",
   "metadata": {},
   "source": [
    "## K-NN w/ PCA"
   ]
  },
  {
   "cell_type": "code",
   "execution_count": 5,
   "metadata": {
    "collapsed": false
   },
   "outputs": [],
   "source": [
    "X_pca = pyload(\"/Volumes/My Passport for Mac/Pickle Backups/data_X_pca_200.pickle\")\n",
    "Xt_pca = pyload(\"/Volumes/My Passport for Mac/Pickle Backups/data_Xt_pca_200.pickle\")"
   ]
  },
  {
   "cell_type": "code",
   "execution_count": 8,
   "metadata": {
    "collapsed": false
   },
   "outputs": [
    {
     "name": "stdout",
     "output_type": "stream",
     "text": [
      "[K-NN PCA] Training ... done.\n"
     ]
    }
   ],
   "source": [
    "msg(\"[K-NN PCA] Training\")\n",
    "knn_pca = KNeighborsClassifier(n_neighbors=10)\n",
    "knn_pca.fit(X_pca, y)\n",
    "done()\n",
    "\n",
    "pydump(knn_pca, \"pickles/knn_pca_model.pickle\")"
   ]
  },
  {
   "cell_type": "code",
   "execution_count": 10,
   "metadata": {
    "collapsed": false
   },
   "outputs": [
    {
     "name": "stdout",
     "output_type": "stream",
     "text": [
      "Classifiying 10000. Elapsed Time: 2m 9s ... 0.3654 ... done.\n"
     ]
    }
   ],
   "source": [
    "msg(\"[K-NN PCA] Testing Accuracy\")\n",
    "\n",
    "count = 0\n",
    "start = time.time()\n",
    "def predict_batch(x):\n",
    "    global count\n",
    "    global start\n",
    "    count += 25\n",
    "    elapsed = time.time()-start\n",
    "    print(\"\\rClassifiying {}. Elapsed Time: {}m {}s ... \".format(count, int(elapsed/60), int(elapsed%60)), end=\"\")\n",
    "    return knn_pca.predict_proba(x)\n",
    "\n",
    "Xt_pca_pred_proba = np.array([predict_batch(Xt_pca[i*25:(i+1)*25]) for i in range(400)]).reshape(-1, 10)\n",
    "# Xt_pred = np.apply_along_axis(predict_with_update, 1, Xt).reshape(-1, 1)\n",
    "# Xt_pred = knn.predict(Xt)\n",
    "\n",
    "pydump(Xt_pca_pred_proba, \"pickles/knn_pca_predict_proba.pickle\")\n",
    "\n",
    "msg(metrics.accuracy_score(yt, Xt_pca_pred_proba.argmax(axis=1).reshape(-1,1)))\n",
    "done()"
   ]
  },
  {
   "cell_type": "code",
   "execution_count": 12,
   "metadata": {
    "collapsed": false
   },
   "outputs": [
    {
     "data": {
      "text/plain": [
       "PCA(copy=True, n_components=100, whiten=False)"
      ]
     },
     "execution_count": 12,
     "metadata": {},
     "output_type": "execute_result"
    }
   ],
   "source": [
    "pca_100 = PCA(n_components=100)\n",
    "pca_100.fit(X,y)"
   ]
  },
  {
   "cell_type": "code",
   "execution_count": 13,
   "metadata": {
    "collapsed": false
   },
   "outputs": [
    {
     "name": "stdout",
     "output_type": "stream",
     "text": [
      "The history saving thread hit an unexpected error (OperationalError('unable to open database file',)).History will not be written to the database.\n"
     ]
    }
   ],
   "source": [
    "X_pca_100 = pca_100.transform(X)\n",
    "Xt_pca_100 = pca_100.transform(Xt)\n",
    "\n",
    "pydump(pca_100, \"/Volumes/My Passport for Mac/Pickle Backups/pca_100.pickle\")\n",
    "pydump(X_pca_100, \"/Volumes/My Passport for Mac/Pickle Backups/X_pca_100.pickle\")\n",
    "pydump(Xt_pca_100, \"/Volumes/My Passport for Mac/Pickle Backups/Xt_pca_100.pickle\")"
   ]
  },
  {
   "cell_type": "markdown",
   "metadata": {},
   "source": [
    "### PCA / 100"
   ]
  },
  {
   "cell_type": "code",
   "execution_count": 5,
   "metadata": {
    "collapsed": false
   },
   "outputs": [],
   "source": [
    "def KNN_PCA(c=100):\n",
    "    msg(\"[K-NN PCA {}] Preparing PCA ...\".format(c))\n",
    "    pca_100 = PCA(n_components=c)\n",
    "    pca_100.fit(X,y)\n",
    "    \n",
    "    X_pca_100 = pca_100.transform(X)\n",
    "    Xt_pca_100 = pca_100.transform(Xt)\n",
    "\n",
    "    pydump(pca_100, \"{}/pca_{}.pickle\".format(LOCATION, c))\n",
    "    pydump(X_pca_100, \"{}/X_pca_{}.pickle\".format(LOCATION, c))\n",
    "    pydump(Xt_pca_100, \"{}/Xt_pca_{}.pickle\".format(LOCATION, c))\n",
    "    \n",
    "    msg(\"[K-NN PCA {}] Training\".format(c))\n",
    "    knn_pca_100 = KNeighborsClassifier(n_neighbors=10)\n",
    "    knn_pca_100.fit(X_pca_100, y)\n",
    "    done()\n",
    "    \n",
    "    pydump(knn_pca_100, \"{}/knn_pca_{}_model.pickle\".format(LOCATION, c))\n",
    "\n",
    "    msg(\"[K-NN PCA {}] Testing Accuracy\".format(c))\n",
    "    \n",
    "    global count\n",
    "    global start\n",
    "    count = 0\n",
    "    start = time.time()\n",
    "    def predict_batch(x):\n",
    "        global count\n",
    "        global start\n",
    "        count += 25\n",
    "        elapsed = time.time()-start\n",
    "        print(\"\\rClassifiying {}. Elapsed Time: {}m {}s ... \".format(count, int(elapsed/60), int(elapsed%60)), end=\"\")\n",
    "        return knn_pca_100.predict_proba(x)\n",
    "\n",
    "    Xt_pca_pred_proba = np.array([predict_batch(Xt_pca_100[i*25:(i+1)*25]) for i in range(400)]).reshape(-1, 10)\n",
    "    # Xt_pred = np.apply_along_axis(predict_with_update, 1, Xt).reshape(-1, 1)\n",
    "    # Xt_pred = knn.predict(Xt)\n",
    "\n",
    "    pydump(Xt_pca_pred_proba, \"{}/knn_pca_{}_predict_proba.pickle\".format(LOCATION, c))\n",
    "\n",
    "    msg(metrics.accuracy_score(yt, Xt_pca_pred_proba.argmax(axis=1).reshape(-1,1)))\n",
    "    done()"
   ]
  },
  {
   "cell_type": "code",
   "execution_count": 6,
   "metadata": {
    "collapsed": false
   },
   "outputs": [
    {
     "name": "stdout",
     "output_type": "stream",
     "text": [
      "[K-NN PCA 75] Preparing PCA ... ... [K-NN PCA 75] Training ... done.\n",
      "Classifiying 10000. Elapsed Time: 1m 12s ... 0.3977 ... done.\n"
     ]
    }
   ],
   "source": [
    "KNN_PCA(75)"
   ]
  },
  {
   "cell_type": "code",
   "execution_count": 7,
   "metadata": {
    "collapsed": false
   },
   "outputs": [
    {
     "name": "stdout",
     "output_type": "stream",
     "text": [
      "[K-NN PCA 50] Preparing PCA ... ... [K-NN PCA 50] Training ... done.\n",
      "Classifiying 10000. Elapsed Time: 0m 48s ... 0.4012 ... done.\n"
     ]
    }
   ],
   "source": [
    "KNN_PCA(50)"
   ]
  },
  {
   "cell_type": "code",
   "execution_count": null,
   "metadata": {
    "collapsed": false
   },
   "outputs": [
    {
     "name": "stdout",
     "output_type": "stream",
     "text": [
      "[K-NN PCA 40] Preparing PCA ... ... "
     ]
    }
   ],
   "source": [
    "for i in [40,30,25,20,15,10,5,4,3,2,1]:\n",
    "    KNN_PCA(i)"
   ]
  },
  {
   "cell_type": "code",
   "execution_count": 9,
   "metadata": {
    "collapsed": false
   },
   "outputs": [
    {
     "name": "stdout",
     "output_type": "stream",
     "text": [
      "Classified 9999 ... Elapsed Time: 79m 44saccuracy: 0.249200\n"
     ]
    }
   ],
   "source": [
    "import time\n",
    "class NearestNeighbor(object):\n",
    "  def __init__(self):\n",
    "    pass\n",
    "\n",
    "  def train(self, X, y):\n",
    "    \"\"\" X is N x D where each row is an example. Y is 1-dimension of size N \"\"\"\n",
    "    # the nearest neighbor classifier simply remembers all the training data\n",
    "    self.Xtr = X\n",
    "    self.ytr = y\n",
    "\n",
    "  def predict(self, X):\n",
    "    \"\"\" X is N x D where each row is an example we wish to predict label for \"\"\"\n",
    "    num_test = X.shape[0]\n",
    "    # lets make sure that the output type matches the input type\n",
    "    Ypred = np.zeros(num_test, dtype = self.ytr.dtype)\n",
    "    \n",
    "    start = time.time()\n",
    "    # loop over all test rows\n",
    "    for i in range(num_test):\n",
    "      # find the nearest training image to the i'th test image\n",
    "      # using the L1 distance (sum of absolute value differences)\n",
    "      distances = np.sum(np.abs(self.Xtr - X[i,:]), axis = 1)\n",
    "      min_index = np.argmin(distances) # get the index with smallest distance\n",
    "      Ypred[i] = self.ytr[min_index] # predict the label of the nearest example\n",
    "      elapsed = time.time()-start\n",
    "      print(\"\\rClassified {} ... Elapsed Time: {}m {}s\".format(i, int(elapsed/60), int(elapsed%60)),end=\"\")\n",
    "\n",
    "    return Ypred\n",
    "\n",
    "nn = NearestNeighbor() # create a Nearest Neighbor classifier class\n",
    "nn.train(X, y) # train the classifier on the training images and labels\n",
    "Xt_predict = nn.predict(Xt) # predict labels on the test images\n",
    "# and now print the classification accuracy, which is the average number\n",
    "# of examples that are correctly predicted (i.e. label matches)\n",
    "print('accuracy: %f' % ( metrics.accuracy_score(yt, Xt_predict)))"
   ]
  },
  {
   "cell_type": "code",
   "execution_count": null,
   "metadata": {
    "collapsed": true
   },
   "outputs": [],
   "source": []
  }
 ],
 "metadata": {
  "kernelspec": {
   "display_name": "Python 3",
   "language": "python",
   "name": "python3"
  },
  "language_info": {
   "codemirror_mode": {
    "name": "ipython",
    "version": 3
   },
   "file_extension": ".py",
   "mimetype": "text/x-python",
   "name": "python",
   "nbconvert_exporter": "python",
   "pygments_lexer": "ipython3",
   "version": "3.4.3"
  }
 },
 "nbformat": 4,
 "nbformat_minor": 0
}
