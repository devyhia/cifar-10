{
 "cells": [
  {
   "cell_type": "markdown",
   "metadata": {},
   "source": [
    "# Gaussian Classifier"
   ]
  },
  {
   "cell_type": "code",
   "execution_count": 1,
   "metadata": {
    "collapsed": true
   },
   "outputs": [],
   "source": [
    "from init import *\n",
    "\n",
    "from sklearn.linear_model import LinearRegression\n",
    "from sklearn.linear_model import LogisticRegression\n",
    "from sklearn.tree import DecisionTreeClassifier\n",
    "from sklearn import metrics\n",
    "from sklearn import datasets\n",
    "from sklearn.decomposition import PCA\n",
    "import pandas as pd\n",
    "\n",
    "from sklearn.naive_bayes import GaussianNB\n",
    "\n",
    "%matplotlib inline"
   ]
  },
  {
   "cell_type": "code",
   "execution_count": 2,
   "metadata": {
    "collapsed": true
   },
   "outputs": [],
   "source": [
    "X = train_features.reshape(50000, 3*32*32)\n",
    "Xt = test_features.reshape(10000, 3*32*32)\n",
    "y = train_labels.flatten()\n",
    "yt = test_labels.flatten()"
   ]
  },
  {
   "cell_type": "code",
   "execution_count": 3,
   "metadata": {
    "collapsed": true
   },
   "outputs": [],
   "source": [
    "def BAYES(_X=None, _Xt=None):\n",
    "    if _X is None:\n",
    "        _X = X\n",
    "    \n",
    "    if _Xt is None:\n",
    "        _Xt = Xt\n",
    "    \n",
    "    msg(\"[DTC] Training\")\n",
    "    dtc = GaussianNB()\n",
    "    dtc.fit(X, y)\n",
    "    done()\n",
    "    \n",
    "    msg(\"[DTC] Training Accuracy\")\n",
    "    X_pred = dtc.predict(X)\n",
    "    msg(metrics.accuracy_score(y, X_pred))\n",
    "    done()\n",
    "    \n",
    "    msg(\"[DTC] Testing Accuracy\")\n",
    "    Xt_pred = dtc.predict(Xt)\n",
    "    msg(metrics.accuracy_score(yt, Xt_pred))\n",
    "    done()"
   ]
  },
  {
   "cell_type": "code",
   "execution_count": 4,
   "metadata": {
    "collapsed": false
   },
   "outputs": [
    {
     "name": "stdout",
     "output_type": "stream",
     "text": [
      "[DTC] Training ... done.\n",
      "[DTC] Training Accuracy ... 0.28472 ... done.\n",
      "[DTC] Testing Accuracy ... 0.2976 ... done.\n"
     ]
    }
   ],
   "source": [
    "BAYES()"
   ]
  }
 ],
 "metadata": {
  "kernelspec": {
   "display_name": "Python 3",
   "language": "python",
   "name": "python3"
  },
  "language_info": {
   "codemirror_mode": {
    "name": "ipython",
    "version": 3
   },
   "file_extension": ".py",
   "mimetype": "text/x-python",
   "name": "python",
   "nbconvert_exporter": "python",
   "pygments_lexer": "ipython3",
   "version": "3.4.3"
  }
 },
 "nbformat": 4,
 "nbformat_minor": 1
}
